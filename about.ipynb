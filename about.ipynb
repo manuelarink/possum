{
 "cells": [
  {
   "cell_type": "markdown",
   "id": "a166ffa8",
   "metadata": {},
   "source": [
    "About Dataset\n",
    "Context\n",
    "\n",
    "Can you use your regression skills to predict the age of a possum, its head length, whether it is male or female? This classic practice regression dataset comes originally from the DAAG R package (datasets used in examples and exercises in the book Maindonald, J.H. and Braun, W.J. (2003, 2007, 2010) \"Data Analysis and Graphics Using R\"). This dataset is also used in the OpenIntro Statistics book chapter 8 Introduction to linear regression.\n",
    "Content\n",
    "\n",
    "From the DAAG R package: \"The possum data frame consists of nine morphometric measurements on each of 104 mountain brushtail possums, trapped at seven sites from Southern Victoria to central Queensland.\"\n",
    "Acknowledgements\n",
    "\n",
    "Data originally found in the DAAG R package and used in the book Maindonald, J.H. and Braun, W.J. (2003, 2007, 2010) \"Data Analysis and Graphics Using R\").\n",
    "\n",
    "A subset of the data was also put together for the OpenIntro Statistics book chapter 8 Introduction to linear regression.\n",
    "\n",
    "Original Source of dataset:\n",
    "Lindenmayer, D. B., Viggers, K. L., Cunningham, R. B., and Donnelly, C. F. 1995. Morphological variation among columns of the mountain brushtail possum, Trichosurus caninus Ogilby (Phalangeridae: Marsupiala). Australian Journal of Zoology 43: 449-458.\n",
    "Inspiration\n",
    "\n",
    "Get your feet wet with regression techniques here on Kaggle by using this dataset. Perfect for beginners since the OpenIntro Statistics book does a good explanation in Chapter 8.\n",
    "\n",
    "    Can we use total length to predict a possum's head length?\n",
    "    Which possum body dimensions are most correlated with age and sex?\n",
    "    Can we classify a possum's sex by its body dimensions and location?\n",
    "    Can we predict a possum's trapping location from its body dimensions?\n"
   ]
  }
 ],
 "metadata": {
  "kernelspec": {
   "display_name": "Python 3 (ipykernel)",
   "language": "python",
   "name": "python3"
  },
  "language_info": {
   "codemirror_mode": {
    "name": "ipython",
    "version": 3
   },
   "file_extension": ".py",
   "mimetype": "text/x-python",
   "name": "python",
   "nbconvert_exporter": "python",
   "pygments_lexer": "ipython3",
   "version": "3.9.7"
  }
 },
 "nbformat": 4,
 "nbformat_minor": 5
}

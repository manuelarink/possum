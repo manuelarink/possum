{
 "cells": [
  {
   "cell_type": "markdown",
   "id": "69c2e263",
   "metadata": {},
   "source": [
    "# Possum Head length prediction with Support Vector Regression (Feature Skull Width, Total length, Chest length, Belly length )"
   ]
  },
  {
   "cell_type": "code",
   "execution_count": 1,
   "id": "da13fa27",
   "metadata": {},
   "outputs": [],
   "source": [
    "import numpy as np\n",
    "import pandas as pd\n",
    "import matplotlib.pyplot as plt"
   ]
  },
  {
   "cell_type": "code",
   "execution_count": null,
   "id": "c30762b6",
   "metadata": {},
   "outputs": [],
   "source": []
  }
 ],
 "metadata": {
  "kernelspec": {
   "display_name": "Python 3 (ipykernel)",
   "language": "python",
   "name": "python3"
  },
  "language_info": {
   "codemirror_mode": {
    "name": "ipython",
    "version": 3
   },
   "file_extension": ".py",
   "mimetype": "text/x-python",
   "name": "python",
   "nbconvert_exporter": "python",
   "pygments_lexer": "ipython3",
   "version": "3.9.7"
  }
 },
 "nbformat": 4,
 "nbformat_minor": 5
}

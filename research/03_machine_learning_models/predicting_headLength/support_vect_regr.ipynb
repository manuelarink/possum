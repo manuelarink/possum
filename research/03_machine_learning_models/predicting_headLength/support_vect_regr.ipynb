{
 "cells": [
  {
   "cell_type": "markdown",
   "id": "e3af44e7",
   "metadata": {},
   "source": [
    "# Possum Head length prediction with Support Vector Regression (Feature Skull Width)"
   ]
  },
  {
   "cell_type": "code",
   "execution_count": 1,
   "id": "21b36b8c",
   "metadata": {},
   "outputs": [],
   "source": [
    "import numpy as np\n",
    "import pandas as pd\n",
    "import matplotlib.pyplot as plt"
   ]
  },
  {
   "cell_type": "markdown",
   "id": "e2e7f938",
   "metadata": {},
   "source": [
    "## Load dataset"
   ]
  },
  {
   "cell_type": "code",
   "execution_count": 2,
   "id": "9efce712",
   "metadata": {},
   "outputs": [
    {
     "data": {
      "text/html": [
       "<div>\n",
       "<style scoped>\n",
       "    .dataframe tbody tr th:only-of-type {\n",
       "        vertical-align: middle;\n",
       "    }\n",
       "\n",
       "    .dataframe tbody tr th {\n",
       "        vertical-align: top;\n",
       "    }\n",
       "\n",
       "    .dataframe thead th {\n",
       "        text-align: right;\n",
       "    }\n",
       "</style>\n",
       "<table border=\"1\" class=\"dataframe\">\n",
       "  <thead>\n",
       "    <tr style=\"text-align: right;\">\n",
       "      <th></th>\n",
       "      <th>case</th>\n",
       "      <th>site</th>\n",
       "      <th>Pop</th>\n",
       "      <th>sex</th>\n",
       "      <th>age</th>\n",
       "      <th>hdlngth</th>\n",
       "      <th>skullw</th>\n",
       "      <th>totlngth</th>\n",
       "      <th>taill</th>\n",
       "      <th>footlgth</th>\n",
       "      <th>earconch</th>\n",
       "      <th>eye</th>\n",
       "      <th>chest</th>\n",
       "      <th>belly</th>\n",
       "    </tr>\n",
       "  </thead>\n",
       "  <tbody>\n",
       "    <tr>\n",
       "      <th>0</th>\n",
       "      <td>1</td>\n",
       "      <td>1</td>\n",
       "      <td>Vic</td>\n",
       "      <td>m</td>\n",
       "      <td>8.0</td>\n",
       "      <td>94.1</td>\n",
       "      <td>60.4</td>\n",
       "      <td>89.0</td>\n",
       "      <td>36.0</td>\n",
       "      <td>74.5</td>\n",
       "      <td>54.5</td>\n",
       "      <td>15.2</td>\n",
       "      <td>28.0</td>\n",
       "      <td>36.0</td>\n",
       "    </tr>\n",
       "    <tr>\n",
       "      <th>1</th>\n",
       "      <td>2</td>\n",
       "      <td>1</td>\n",
       "      <td>Vic</td>\n",
       "      <td>f</td>\n",
       "      <td>6.0</td>\n",
       "      <td>92.5</td>\n",
       "      <td>57.6</td>\n",
       "      <td>91.5</td>\n",
       "      <td>36.5</td>\n",
       "      <td>72.5</td>\n",
       "      <td>51.2</td>\n",
       "      <td>16.0</td>\n",
       "      <td>28.5</td>\n",
       "      <td>33.0</td>\n",
       "    </tr>\n",
       "    <tr>\n",
       "      <th>2</th>\n",
       "      <td>3</td>\n",
       "      <td>1</td>\n",
       "      <td>Vic</td>\n",
       "      <td>f</td>\n",
       "      <td>6.0</td>\n",
       "      <td>94.0</td>\n",
       "      <td>60.0</td>\n",
       "      <td>95.5</td>\n",
       "      <td>39.0</td>\n",
       "      <td>75.4</td>\n",
       "      <td>51.9</td>\n",
       "      <td>15.5</td>\n",
       "      <td>30.0</td>\n",
       "      <td>34.0</td>\n",
       "    </tr>\n",
       "    <tr>\n",
       "      <th>3</th>\n",
       "      <td>4</td>\n",
       "      <td>1</td>\n",
       "      <td>Vic</td>\n",
       "      <td>f</td>\n",
       "      <td>6.0</td>\n",
       "      <td>93.2</td>\n",
       "      <td>57.1</td>\n",
       "      <td>92.0</td>\n",
       "      <td>38.0</td>\n",
       "      <td>76.1</td>\n",
       "      <td>52.2</td>\n",
       "      <td>15.2</td>\n",
       "      <td>28.0</td>\n",
       "      <td>34.0</td>\n",
       "    </tr>\n",
       "    <tr>\n",
       "      <th>4</th>\n",
       "      <td>5</td>\n",
       "      <td>1</td>\n",
       "      <td>Vic</td>\n",
       "      <td>f</td>\n",
       "      <td>2.0</td>\n",
       "      <td>91.5</td>\n",
       "      <td>56.3</td>\n",
       "      <td>85.5</td>\n",
       "      <td>36.0</td>\n",
       "      <td>71.0</td>\n",
       "      <td>53.2</td>\n",
       "      <td>15.1</td>\n",
       "      <td>28.5</td>\n",
       "      <td>33.0</td>\n",
       "    </tr>\n",
       "  </tbody>\n",
       "</table>\n",
       "</div>"
      ],
      "text/plain": [
       "   case  site  Pop sex  age  hdlngth  skullw  totlngth  taill  footlgth  \\\n",
       "0     1     1  Vic   m  8.0     94.1    60.4      89.0   36.0      74.5   \n",
       "1     2     1  Vic   f  6.0     92.5    57.6      91.5   36.5      72.5   \n",
       "2     3     1  Vic   f  6.0     94.0    60.0      95.5   39.0      75.4   \n",
       "3     4     1  Vic   f  6.0     93.2    57.1      92.0   38.0      76.1   \n",
       "4     5     1  Vic   f  2.0     91.5    56.3      85.5   36.0      71.0   \n",
       "\n",
       "   earconch   eye  chest  belly  \n",
       "0      54.5  15.2   28.0   36.0  \n",
       "1      51.2  16.0   28.5   33.0  \n",
       "2      51.9  15.5   30.0   34.0  \n",
       "3      52.2  15.2   28.0   34.0  \n",
       "4      53.2  15.1   28.5   33.0  "
      ]
     },
     "execution_count": 2,
     "metadata": {},
     "output_type": "execute_result"
    }
   ],
   "source": [
    "df = pd.read_csv('possum.csv')\n",
    "df.head()"
   ]
  },
  {
   "cell_type": "code",
   "execution_count": 3,
   "id": "9ec04234",
   "metadata": {},
   "outputs": [
    {
     "name": "stdout",
     "output_type": "stream",
     "text": [
      "[60.4 57.6 60.  57.1 56.3 54.8 58.2 57.6 56.3 58.  57.2 55.6 59.9 57.6\n",
      " 57.6 56.  67.7 55.7 55.4 56.3 58.1 58.5 56.1 54.9 58.5 59.  54.5 56.8\n",
      " 56.  54.4 54.1 56.7 54.6 55.7 57.9 59.3 54.8 56.  51.5 55.  57.  54.1\n",
      " 55.5 51.5 55.9 54.4 54.8 63.2 59.2 56.4 59.6 61.  58.1 63.  63.2 61.5\n",
      " 59.4 64.2 62.8 57.7 59.  58.  56.4 56.5 57.4 55.8 57.6 56.  55.6 56.4\n",
      " 57.6 52.4 52.3 52.  58.1 56.8 56.2 51.  50.  52.6 56.  54.  53.8 54.6\n",
      " 56.2 53.2 60.7 58.  58.4 54.6 59.6 56.3 54.  57.6 56.6 55.7 53.1 68.6\n",
      " 56.2 56.  54.7 55.  55.2 59.9]\n",
      "[ 94.1  92.5  94.   93.2  91.5  93.1  95.3  94.8  93.4  91.8  93.3  94.9\n",
      "  95.1  95.4  92.9  91.6  94.7  93.5  94.4  94.8  95.9  96.3  92.5  94.4\n",
      "  95.8  96.   90.5  93.8  92.8  92.1  92.8  94.3  91.4  90.6  94.4  93.3\n",
      "  89.3  92.4  84.7  91.   88.4  85.3  90.   85.1  90.7  91.4  90.1  98.6\n",
      "  95.4  91.6  95.6  97.6  93.1  96.9 103.1  99.9  95.1  94.5 102.5  91.3\n",
      "  95.7  91.3  92.   96.9  93.5  90.4  93.3  94.1  98.   91.9  92.8  85.9\n",
      "  82.5  88.7  93.8  92.4  93.6  86.5  85.8  86.7  90.6  86.   90.   88.4\n",
      "  89.5  88.2  98.5  89.6  97.7  92.6  97.8  90.7  89.2  91.8  91.6  94.8\n",
      "  91.   93.2  93.3  89.5  88.6  92.4  91.5  93.6]\n"
     ]
    }
   ],
   "source": [
    "X = df.iloc[:, 6].values\n",
    "y = df.iloc[:, 5].values\n",
    "print(X)\n",
    "print(y)"
   ]
  },
  {
   "cell_type": "markdown",
   "id": "883a13ee",
   "metadata": {},
   "source": [
    "## Data preprocessing - check for missing data"
   ]
  },
  {
   "cell_type": "code",
   "execution_count": 4,
   "id": "ae3fb038",
   "metadata": {},
   "outputs": [
    {
     "name": "stdout",
     "output_type": "stream",
     "text": [
      "False\n",
      "0\n"
     ]
    }
   ],
   "source": [
    "print(df['skullw'].isnull().any())\n",
    "print(df['skullw'].isnull().sum())"
   ]
  },
  {
   "cell_type": "code",
   "execution_count": 5,
   "id": "fdc0d128",
   "metadata": {},
   "outputs": [
    {
     "name": "stdout",
     "output_type": "stream",
     "text": [
      "False\n",
      "0\n"
     ]
    }
   ],
   "source": [
    "print(df['hdlngth'].isnull().any())\n",
    "print(df['hdlngth'].isnull().sum())"
   ]
  },
  {
   "cell_type": "code",
   "execution_count": 6,
   "id": "bcd7ae34",
   "metadata": {},
   "outputs": [],
   "source": [
    "X = X.reshape(len(X), 1)\n",
    "y = y.reshape(len(y), 1)"
   ]
  },
  {
   "cell_type": "markdown",
   "id": "08b0d5de",
   "metadata": {},
   "source": [
    "## Histogram showing value distribution of head length and skull width"
   ]
  },
  {
   "cell_type": "code",
   "execution_count": 7,
   "id": "8cbb1943",
   "metadata": {},
   "outputs": [
    {
     "data": {
      "image/png": "[encoded data removed]",
      "text/plain": [
       "<Figure size 432x288 with 1 Axes>"
      ]
     },
     "metadata": {
      "needs_background": "light"
     },
     "output_type": "display_data"
    }
   ],
   "source": [
    "plt.hist(X, bins=14)\n",
    "plt.show()"
   ]
  },
  {
   "cell_type": "code",
   "execution_count": 8,
   "id": "f2e6d1e6",
   "metadata": {},
   "outputs": [
    {
     "data": {
      "image/png": "[encoded data removed]",
      "text/plain": [
       "<Figure size 432x288 with 1 Axes>"
      ]
     },
     "metadata": {
      "needs_background": "light"
     },
     "output_type": "display_data"
    }
   ],
   "source": [
    "plt.hist(y, bins=14)\n",
    "plt.show()"
   ]
  },
  {
   "cell_type": "code",
   "execution_count": 23,
   "id": "95cf79ff",
   "metadata": {},
   "outputs": [
    {
     "name": "stdout",
     "output_type": "stream",
     "text": [
      "68.6\n",
      "    case  site    Pop sex  age  hdlngth  skullw  totlngth  taill  footlgth  \\\n",
      "16    17     1    Vic   f  1.0     94.7    67.7      89.5   36.5      73.2   \n",
      "97    98     7  other   m  5.0     93.2    68.6      84.0   35.0      65.6   \n",
      "\n",
      "    earconch   eye  chest  belly  \n",
      "16      53.2  14.7   29.0   31.0  \n",
      "97      44.3  14.5   28.5   32.0  \n"
     ]
    }
   ],
   "source": [
    "# exploring values for skull width\n",
    "print(max(df['skullw']))\n",
    "print(df[df['skullw'] > 65.0])"
   ]
  },
  {
   "cell_type": "code",
   "execution_count": 25,
   "id": "1f39e85d",
   "metadata": {},
   "outputs": [
    {
     "name": "stdout",
     "output_type": "stream",
     "text": [
      "103.1\n",
      "    case  site    Pop sex  age  hdlngth  skullw  totlngth  taill  footlgth  \\\n",
      "54    55     4  other   m  2.0    103.1    63.2      92.5   38.0      72.5   \n",
      "58    59     4  other   m  2.0    102.5    62.8      96.0   40.0      73.2   \n",
      "\n",
      "    earconch   eye  chest  belly  \n",
      "54      44.9  16.4   30.5   36.0  \n",
      "58      44.5  14.7   32.0   36.0  \n"
     ]
    }
   ],
   "source": [
    "# exploring values for head length\n",
    "print(max(df['hdlngth']))\n",
    "print(df[df['hdlngth'] > 100.0])"
   ]
  },
  {
   "cell_type": "markdown",
   "id": "4cea6190",
   "metadata": {},
   "source": [
    "## Feature Scaling"
   ]
  },
  {
   "cell_type": "code",
   "execution_count": 10,
   "id": "b2293da7",
   "metadata": {},
   "outputs": [],
   "source": [
    "from sklearn.preprocessing import StandardScaler\n",
    "sc_X = StandardScaler()\n",
    "sc_y = StandardScaler()\n",
    "X = sc_X.fit_transform(X)\n",
    "y = sc_y.fit_transform(y)"
   ]
  },
  {
   "cell_type": "code",
   "execution_count": 11,
   "id": "4861f50b",
   "metadata": {},
   "outputs": [
    {
     "name": "stdout",
     "output_type": "stream",
     "text": [
      "[[ 1.13488322]\n",
      " [ 0.23119716]\n",
      " [ 1.00578521]\n",
      " [ 0.06982464]\n",
      " [-0.18837137]\n",
      " [-0.67248891]\n",
      " [ 0.42484417]\n",
      " [ 0.23119716]\n",
      " [-0.18837137]\n",
      " [ 0.36029516]\n",
      " [ 0.10209915]\n",
      " [-0.41429289]\n",
      " [ 0.97351071]\n",
      " [ 0.23119716]\n",
      " [ 0.23119716]\n",
      " [-0.28519488]\n",
      " [ 3.49092188]\n",
      " [-0.38201839]\n",
      " [-0.47884189]\n",
      " [-0.18837137]\n",
      " [ 0.39256967]\n",
      " [ 0.52166768]\n",
      " [-0.25292038]\n",
      " [-0.6402144 ]\n",
      " [ 0.52166768]\n",
      " [ 0.68304019]\n",
      " [-0.76931241]\n",
      " [-0.02699886]\n",
      " [-0.28519488]\n",
      " [-0.80158692]\n",
      " [-0.89841042]\n",
      " [-0.05927336]\n",
      " [-0.73703791]\n",
      " [-0.38201839]\n",
      " [ 0.32802066]\n",
      " [ 0.77986369]\n",
      " [-0.67248891]\n",
      " [-0.28519488]\n",
      " [-1.73754748]\n",
      " [-0.6079399 ]\n",
      " [ 0.03755014]\n",
      " [-0.89841042]\n",
      " [-0.44656739]\n",
      " [-1.73754748]\n",
      " [-0.31746938]\n",
      " [-0.80158692]\n",
      " [-0.67248891]\n",
      " [ 2.03856928]\n",
      " [ 0.74758919]\n",
      " [-0.15609687]\n",
      " [ 0.8766872 ]\n",
      " [ 1.32853023]\n",
      " [ 0.39256967]\n",
      " [ 1.97402027]\n",
      " [ 2.03856928]\n",
      " [ 1.48990274]\n",
      " [ 0.8121382 ]\n",
      " [ 2.3613143 ]\n",
      " [ 1.90947127]\n",
      " [ 0.26347166]\n",
      " [ 0.68304019]\n",
      " [ 0.36029516]\n",
      " [-0.15609687]\n",
      " [-0.12382237]\n",
      " [ 0.16664815]\n",
      " [-0.34974388]\n",
      " [ 0.23119716]\n",
      " [-0.28519488]\n",
      " [-0.41429289]\n",
      " [-0.15609687]\n",
      " [ 0.23119716]\n",
      " [-1.44707696]\n",
      " [-1.47935146]\n",
      " [-1.57617497]\n",
      " [ 0.39256967]\n",
      " [-0.02699886]\n",
      " [-0.22064588]\n",
      " [-1.89891999]\n",
      " [-2.22166501]\n",
      " [-1.38252796]\n",
      " [-0.28519488]\n",
      " [-0.93068492]\n",
      " [-0.99523393]\n",
      " [-0.73703791]\n",
      " [-0.22064588]\n",
      " [-1.18888094]\n",
      " [ 1.23170672]\n",
      " [ 0.36029516]\n",
      " [ 0.48939317]\n",
      " [-0.73703791]\n",
      " [ 0.8766872 ]\n",
      " [-0.18837137]\n",
      " [-0.93068492]\n",
      " [ 0.23119716]\n",
      " [-0.09154787]\n",
      " [-0.38201839]\n",
      " [-1.22115544]\n",
      " [ 3.7813924 ]\n",
      " [-0.22064588]\n",
      " [-0.28519488]\n",
      " [-0.70476341]\n",
      " [-0.6079399 ]\n",
      " [-0.5433909 ]\n",
      " [ 0.97351071]]\n",
      "[[ 4.20995871e-01]\n",
      " [-2.89316366e-02]\n",
      " [ 3.92875402e-01]\n",
      " [ 1.67911648e-01]\n",
      " [-3.10136329e-01]\n",
      " [ 1.39791179e-01]\n",
      " [ 7.58441502e-01]\n",
      " [ 6.17839156e-01]\n",
      " [ 2.24152587e-01]\n",
      " [-2.25774921e-01]\n",
      " [ 1.96032117e-01]\n",
      " [ 6.45959625e-01]\n",
      " [ 7.02200564e-01]\n",
      " [ 7.86561972e-01]\n",
      " [ 8.35502404e-02]\n",
      " [-2.82015860e-01]\n",
      " [ 5.89718687e-01]\n",
      " [ 2.52273056e-01]\n",
      " [ 5.05357279e-01]\n",
      " [ 6.17839156e-01]\n",
      " [ 9.27164318e-01]\n",
      " [ 1.03964619e+00]\n",
      " [-2.89316366e-02]\n",
      " [ 5.05357279e-01]\n",
      " [ 8.99043849e-01]\n",
      " [ 9.55284787e-01]\n",
      " [-5.91341022e-01]\n",
      " [ 3.36634464e-01]\n",
      " [ 5.54297711e-02]\n",
      " [-1.41413514e-01]\n",
      " [ 5.54297711e-02]\n",
      " [ 4.77236810e-01]\n",
      " [-3.38256798e-01]\n",
      " [-5.63220552e-01]\n",
      " [ 5.05357279e-01]\n",
      " [ 1.96032117e-01]\n",
      " [-9.28786653e-01]\n",
      " [-5.70521059e-02]\n",
      " [-2.22232824e+00]\n",
      " [-4.50738675e-01]\n",
      " [-1.18187088e+00]\n",
      " [-2.05360542e+00]\n",
      " [-7.31943368e-01]\n",
      " [-2.10984636e+00]\n",
      " [-5.35100083e-01]\n",
      " [-3.38256798e-01]\n",
      " [-7.03822899e-01]\n",
      " [ 1.68641699e+00]\n",
      " [ 7.86561972e-01]\n",
      " [-2.82015860e-01]\n",
      " [ 8.42802910e-01]\n",
      " [ 1.40521229e+00]\n",
      " [ 1.39791179e-01]\n",
      " [ 1.20836901e+00]\n",
      " [ 2.95183810e+00]\n",
      " [ 2.05198309e+00]\n",
      " [ 7.02200564e-01]\n",
      " [ 5.33477748e-01]\n",
      " [ 2.78311529e+00]\n",
      " [-3.66377268e-01]\n",
      " [ 8.70923379e-01]\n",
      " [-3.66377268e-01]\n",
      " [-1.69533983e-01]\n",
      " [ 1.20836901e+00]\n",
      " [ 2.52273056e-01]\n",
      " [-6.19461491e-01]\n",
      " [ 1.96032117e-01]\n",
      " [ 4.20995871e-01]\n",
      " [ 1.51769417e+00]\n",
      " [-1.97654452e-01]\n",
      " [ 5.54297711e-02]\n",
      " [-1.88488261e+00]\n",
      " [-2.84097856e+00]\n",
      " [-1.09750947e+00]\n",
      " [ 3.36634464e-01]\n",
      " [-5.70521059e-02]\n",
      " [ 2.80393525e-01]\n",
      " [-1.71615979e+00]\n",
      " [-1.91300308e+00]\n",
      " [-1.65991885e+00]\n",
      " [-5.63220552e-01]\n",
      " [-1.85676214e+00]\n",
      " [-7.31943368e-01]\n",
      " [-1.18187088e+00]\n",
      " [-8.72545714e-01]\n",
      " [-1.23811181e+00]\n",
      " [ 1.65829652e+00]\n",
      " [-8.44425245e-01]\n",
      " [ 1.43333276e+00]\n",
      " [-8.11167382e-04]\n",
      " [ 1.46145323e+00]\n",
      " [-5.35100083e-01]\n",
      " [-9.56907122e-01]\n",
      " [-2.25774921e-01]\n",
      " [-2.82015860e-01]\n",
      " [ 6.17839156e-01]\n",
      " [-4.50738675e-01]\n",
      " [ 1.67911648e-01]\n",
      " [ 1.96032117e-01]\n",
      " [-8.72545714e-01]\n",
      " [-1.12562994e+00]\n",
      " [-5.70521059e-02]\n",
      " [-3.10136329e-01]\n",
      " [ 2.80393525e-01]]\n"
     ]
    }
   ],
   "source": [
    "print(X)\n",
    "print(y)"
   ]
  },
  {
   "cell_type": "markdown",
   "id": "b4163e50",
   "metadata": {},
   "source": [
    "## Splitting the dataset into training set and testset"
   ]
  },
  {
   "cell_type": "code",
   "execution_count": 12,
   "id": "060ef540",
   "metadata": {},
   "outputs": [],
   "source": [
    "from sklearn.model_selection import train_test_split\n",
    "X_train, X_test, y_train, y_test = train_test_split(X, y, random_state=0)"
   ]
  },
  {
   "cell_type": "markdown",
   "id": "f74bd436",
   "metadata": {},
   "source": [
    "## Training the SVR model on the training dataset"
   ]
  },
  {
   "cell_type": "code",
   "execution_count": 13,
   "id": "811ebaa1",
   "metadata": {},
   "outputs": [
    {
     "name": "stderr",
     "output_type": "stream",
     "text": [
      "C:\\ProgramData\\Anaconda3\\lib\\site-packages\\sklearn\\utils\\validation.py:63: DataConversionWarning: A column-vector y was passed when a 1d array was expected. Please change the shape of y to (n_samples, ), for example using ravel().\n",
      "  return f(*args, **kwargs)\n"
     ]
    },
    {
     "data": {
      "text/plain": [
       "SVR()"
      ]
     },
     "execution_count": 13,
     "metadata": {},
     "output_type": "execute_result"
    }
   ],
   "source": [
    "from sklearn.svm import SVR\n",
    "regressor = SVR(kernel = 'rbf')\n",
    "regressor.fit(X_train, y_train)"
   ]
  },
  {
   "cell_type": "markdown",
   "id": "44a70b27",
   "metadata": {},
   "source": [
    "## Predicting the test results"
   ]
  },
  {
   "cell_type": "code",
   "execution_count": 14,
   "id": "be1233cd",
   "metadata": {},
   "outputs": [
    {
     "name": "stdout",
     "output_type": "stream",
     "text": [
      "[90.0518811  93.62669791 96.65887946 92.43378294 87.40533166 95.27450515\n",
      " 92.79049397 92.13736696 95.61001473 89.85463874 93.24841579 87.2262854\n",
      " 98.25746485 93.24841579 93.24841579 89.23834191 92.21816106 94.22343915\n",
      " 91.85889186 92.36564047 85.90823245 91.75218614 92.87731692 93.73481524\n",
      " 88.60543215 92.68687058]\n"
     ]
    }
   ],
   "source": [
    "y_pred = sc_y.inverse_transform(regressor.predict(X_test))\n",
    "print(y_pred)"
   ]
  },
  {
   "cell_type": "markdown",
   "id": "b2d3bc17",
   "metadata": {},
   "source": [
    "## Predicting the training set results (for visualisation)"
   ]
  },
  {
   "cell_type": "code",
   "execution_count": 15,
   "id": "1498bfc5",
   "metadata": {},
   "outputs": [
    {
     "name": "stdout",
     "output_type": "stream",
     "text": [
      "[93.84856411 97.82914115 92.29401447 86.47578427 92.49920565 92.84408478\n",
      " 95.95531058 86.25560364 98.51185201 92.68687058 91.51541167 93.33521584\n",
      " 90.24363664 94.95229196 93.24841579 96.48277    93.24841579 92.29401447\n",
      " 91.63779847 89.23834191 92.36564047 92.13736696 91.85889186 92.81234247\n",
      " 85.90823245 90.60793023 91.85889186 98.24507181 97.34795974 93.52414861\n",
      " 92.13736696 98.79834319 95.95531058 91.75218614 95.44080607 90.77932803\n",
      " 93.73481524 92.94464435 92.62498285 87.24707707 96.41596124 92.13736696\n",
      " 92.36564047 90.24363664 92.56268162 93.24841579 85.97024866 92.36564047\n",
      " 89.85463874 92.43378294 90.9429695  91.24585359 92.43378294 93.73481524\n",
      " 92.29401447 86.16455474 86.14405911 94.95229196 92.13736696 89.02784674\n",
      " 90.60793023 90.9429695  91.95832122 98.72996634 96.48277    89.02784674\n",
      " 94.09294256 93.24841579 93.62669791 90.60793023 94.22343915 90.24363664\n",
      " 93.62669791 90.42919289 92.13736696 93.08865356 98.24507181 92.05096032]\n"
     ]
    }
   ],
   "source": [
    "y_train_pred = sc_y.inverse_transform(regressor.predict(X_train))\n",
    "print(y_train_pred)"
   ]
  },
  {
   "cell_type": "markdown",
   "id": "e46d749f",
   "metadata": {},
   "source": [
    "## Invert Feature Scaling"
   ]
  },
  {
   "cell_type": "code",
   "execution_count": 16,
   "id": "ade2240a",
   "metadata": {},
   "outputs": [],
   "source": [
    "X_train = sc_X.inverse_transform(X_train)\n",
    "X_test = sc_X.inverse_transform(X_test)\n",
    "y_train = sc_y.inverse_transform(y_train)\n",
    "y_test = sc_y.inverse_transform(y_test)"
   ]
  },
  {
   "cell_type": "markdown",
   "id": "66a63b9d",
   "metadata": {},
   "source": [
    "## Calculate r2-Score"
   ]
  },
  {
   "cell_type": "code",
   "execution_count": 17,
   "id": "d36e8acd",
   "metadata": {},
   "outputs": [
    {
     "data": {
      "text/plain": [
       "0.47552187908133436"
      ]
     },
     "execution_count": 17,
     "metadata": {},
     "output_type": "execute_result"
    }
   ],
   "source": [
    "from sklearn.metrics import r2_score\n",
    "r2_score(y_test, y_pred)"
   ]
  },
  {
   "cell_type": "markdown",
   "id": "ce7b5141",
   "metadata": {},
   "source": [
    "## Visualising the training set results"
   ]
  },
  {
   "cell_type": "code",
   "execution_count": 18,
   "id": "70cb9f0e",
   "metadata": {},
   "outputs": [
    {
     "data": {
      "text/plain": [
       "[]"
      ]
     },
     "execution_count": 18,
     "metadata": {},
     "output_type": "execute_result"
    },
    {
     "data": {
      "image/png": "[encoded data removed]",
      "text/plain": [
       "<Figure size 432x288 with 1 Axes>"
      ]
     },
     "metadata": {
      "needs_background": "light"
     },
     "output_type": "display_data"
    }
   ],
   "source": [
    "plt.scatter(X_train, y_train, color='red')\n",
    "plt.plot(X_train, y_train_pred)\n",
    "plt.title('Skull width vs Head Length')\n",
    "plt.xlabel('Skull width')\n",
    "plt.ylabel('Head length')\n",
    "plt.plot()"
   ]
  },
  {
   "cell_type": "markdown",
   "id": "aa57c5e5",
   "metadata": {},
   "source": [
    "## Visualising the test set results"
   ]
  },
  {
   "cell_type": "code",
   "execution_count": 19,
   "id": "95292226",
   "metadata": {},
   "outputs": [
    {
     "data": {
      "text/plain": [
       "[]"
      ]
     },
     "execution_count": 19,
     "metadata": {},
     "output_type": "execute_result"
    },
    {
     "data": {
      "image/png": "[encoded data removed]",
      "text/plain": [
       "<Figure size 432x288 with 1 Axes>"
      ]
     },
     "metadata": {
      "needs_background": "light"
     },
     "output_type": "display_data"
    }
   ],
   "source": [
    "plt.scatter(X_test, y_test, color='red')\n",
    "plt.plot(X_test, y_pred, color='blue')\n",
    "plt.title('Skull width vs Head Length - Test set')\n",
    "plt.xlabel('Skull width')\n",
    "plt.ylabel('Head length')\n",
    "plt.plot()"
   ]
  },
  {
   "cell_type": "code",
   "execution_count": null,
   "id": "4db63836",
   "metadata": {},
   "outputs": [],
   "source": []
  }
 ],
 "metadata": {
  "kernelspec": {
   "display_name": "Python 3 (ipykernel)",
   "language": "python",
   "name": "python3"
  },
  "language_info": {
   "codemirror_mode": {
    "name": "ipython",
    "version": 3
   },
   "file_extension": ".py",
   "mimetype": "text/x-python",
   "name": "python",
   "nbconvert_exporter": "python",
   "pygments_lexer": "ipython3",
   "version": "3.9.7"
  }
 },
 "nbformat": 4,
 "nbformat_minor": 5
}

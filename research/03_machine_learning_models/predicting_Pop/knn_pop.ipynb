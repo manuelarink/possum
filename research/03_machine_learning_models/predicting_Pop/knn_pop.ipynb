{
 "cells": [
  {
   "cell_type": "markdown",
   "id": "8747d6c9",
   "metadata": {},
   "source": [
    "# Classification: Prediction of population from possum body measures (exclude case, site, sex and age)"
   ]
  },
  {
   "cell_type": "code",
   "execution_count": null,
   "id": "6a584460",
   "metadata": {},
   "outputs": [],
   "source": [
    "import numpy as np\n",
    "import pandas as pd\n",
    "import matplotlib.pyplot as plt\n",
    "from sklearn.preprocessing import LabelEncoder, StandardScaler\n",
    "from sklearn.model_selection import train_test_split, cross_val_score\n",
    "from sklearn.neighbors import KNeighborsClassifier\n",
    "from sklearn.metrics import confusion_matrix, accuracy_score"
   ]
  },
  {
   "cell_type": "markdown",
   "id": "72645cd9",
   "metadata": {},
   "source": [
    "## Load and explore dataset"
   ]
  },
  {
   "cell_type": "code",
   "execution_count": null,
   "id": "448bd02f",
   "metadata": {},
   "outputs": [],
   "source": [
    "possum = pd.read_csv('possum.csv')"
   ]
  },
  {
   "cell_type": "code",
   "execution_count": null,
   "id": "6fcff145",
   "metadata": {},
   "outputs": [],
   "source": [
    "print(possum.head())"
   ]
  },
  {
   "cell_type": "code",
   "execution_count": null,
   "id": "ca4dd248",
   "metadata": {},
   "outputs": [],
   "source": [
    "print(possum.info())"
   ]
  },
  {
   "cell_type": "code",
   "execution_count": null,
   "id": "b1d77b40",
   "metadata": {},
   "outputs": [],
   "source": [
    "print(possum.describe())"
   ]
  },
  {
   "cell_type": "code",
   "execution_count": null,
   "id": "e629daa6",
   "metadata": {},
   "outputs": [],
   "source": [
    "print(possum.value_counts(possum['site']))"
   ]
  },
  {
   "cell_type": "code",
   "execution_count": null,
   "id": "005ca386",
   "metadata": {},
   "outputs": [],
   "source": [
    "print(possum.value_counts(possum['Pop']))"
   ]
  },
  {
   "cell_type": "markdown",
   "id": "5a408dc4",
   "metadata": {},
   "source": [
    "## Use all features except case, site, sex and age"
   ]
  },
  {
   "cell_type": "code",
   "execution_count": null,
   "id": "9e9ed18c",
   "metadata": {},
   "outputs": [],
   "source": [
    "possum = possum.drop(['case', 'site', 'sex', 'age'], axis=1)"
   ]
  },
  {
   "cell_type": "code",
   "execution_count": null,
   "id": "0bac02d2",
   "metadata": {},
   "outputs": [],
   "source": [
    "possum.head()"
   ]
  },
  {
   "cell_type": "markdown",
   "id": "3d30ec5e",
   "metadata": {},
   "source": [
    "## Handle missing data"
   ]
  },
  {
   "cell_type": "markdown",
   "id": "6645db34",
   "metadata": {},
   "source": [
    "### Count missing values"
   ]
  },
  {
   "cell_type": "code",
   "execution_count": null,
   "id": "138f1b5a",
   "metadata": {},
   "outputs": [],
   "source": [
    "print(possum.isna().sum())"
   ]
  },
  {
   "cell_type": "markdown",
   "id": "2d6ae7d0",
   "metadata": {},
   "source": [
    "### Calculate threshold for dropping observations with missing values"
   ]
  },
  {
   "cell_type": "code",
   "execution_count": null,
   "id": "88494459",
   "metadata": {},
   "outputs": [],
   "source": [
    "treshold = len(possum) * 0.05\n",
    "print(treshold)"
   ]
  },
  {
   "cell_type": "markdown",
   "id": "c8585fc0",
   "metadata": {},
   "source": [
    "### Drop all rows with missing values for columns below treshold"
   ]
  },
  {
   "cell_type": "markdown",
   "id": "32785c41",
   "metadata": {},
   "source": [
    "We just have to deal with footlgth with one missing value which is below treshold - drop missing value in this column."
   ]
  },
  {
   "cell_type": "code",
   "execution_count": null,
   "id": "c12054b5",
   "metadata": {},
   "outputs": [],
   "source": [
    "possum.dropna(subset=['footlgth'], inplace=True)\n",
    "print(possum.isna().sum())"
   ]
  },
  {
   "cell_type": "markdown",
   "id": "56e03145",
   "metadata": {},
   "source": [
    "## Get X and y from dataframe"
   ]
  },
  {
   "cell_type": "code",
   "execution_count": null,
   "id": "130dca20",
   "metadata": {},
   "outputs": [],
   "source": [
    "X = possum.iloc[:, 1:-1].values\n",
    "y = possum.iloc[:, 0].values"
   ]
  },
  {
   "cell_type": "code",
   "execution_count": null,
   "id": "1931d992",
   "metadata": {},
   "outputs": [],
   "source": [
    "print(X)\n",
    "print(y)"
   ]
  },
  {
   "cell_type": "markdown",
   "id": "6eb440bc",
   "metadata": {},
   "source": [
    "## Encode the dependent variable"
   ]
  },
  {
   "cell_type": "code",
   "execution_count": null,
   "id": "5f3c47c2",
   "metadata": {},
   "outputs": [],
   "source": [
    "le = LabelEncoder()\n",
    "y = le.fit_transform(y)\n",
    "print(y)"
   ]
  },
  {
   "cell_type": "markdown",
   "id": "6e563d19",
   "metadata": {},
   "source": [
    "## Split data into training and test set"
   ]
  },
  {
   "cell_type": "code",
   "execution_count": null,
   "id": "a0508015",
   "metadata": {},
   "outputs": [],
   "source": [
    "X_train, X_test, y_train, y_test = train_test_split(X, y, test_size=0.2, random_state=0)"
   ]
  },
  {
   "cell_type": "code",
   "execution_count": null,
   "id": "ba35d1fd",
   "metadata": {},
   "outputs": [],
   "source": [
    "print(X_train)\n",
    "print(X_test)\n",
    "print(y_train)\n",
    "print(y_test)"
   ]
  },
  {
   "cell_type": "markdown",
   "id": "a5c4206b",
   "metadata": {},
   "source": [
    "## Scale data"
   ]
  },
  {
   "cell_type": "code",
   "execution_count": null,
   "id": "b5700132",
   "metadata": {},
   "outputs": [],
   "source": [
    "sc = StandardScaler()\n",
    "X_train = sc.fit_transform(X_train)\n",
    "X_test = sc.transform(X_test)"
   ]
  },
  {
   "cell_type": "code",
   "execution_count": null,
   "id": "2ba94c06",
   "metadata": {},
   "outputs": [],
   "source": [
    "print(X_train)\n",
    "print(X_test)"
   ]
  },
  {
   "cell_type": "markdown",
   "id": "60554e87",
   "metadata": {},
   "source": [
    "## Create K-nearest-neighbors model on training data"
   ]
  },
  {
   "cell_type": "code",
   "execution_count": null,
   "id": "b0d6a288",
   "metadata": {},
   "outputs": [],
   "source": [
    "classifier = KNeighborsClassifier()\n",
    "classifier.fit(X_train, y_train)"
   ]
  },
  {
   "cell_type": "markdown",
   "id": "399b8a70",
   "metadata": {},
   "source": [
    "## Predict Test set"
   ]
  },
  {
   "cell_type": "code",
   "execution_count": null,
   "id": "e311c003",
   "metadata": {},
   "outputs": [],
   "source": [
    "y_pred = classifier.predict(X_test)"
   ]
  },
  {
   "cell_type": "code",
   "execution_count": null,
   "id": "e2b8762a",
   "metadata": {},
   "outputs": [],
   "source": [
    "y_pred = classifier.predict(X_test)\n",
    "print(np.concatenate((y_pred.reshape(len(y_pred),1), y_test.reshape(len(y_test),1)),1))"
   ]
  },
  {
   "cell_type": "markdown",
   "id": "98c4cd1d",
   "metadata": {},
   "source": [
    "## Print Confusion Matrix"
   ]
  },
  {
   "cell_type": "code",
   "execution_count": null,
   "id": "1de313d9",
   "metadata": {},
   "outputs": [],
   "source": [
    "print(confusion_matrix(y_test, y_pred))"
   ]
  },
  {
   "cell_type": "code",
   "execution_count": null,
   "id": "83fdca27",
   "metadata": {},
   "outputs": [],
   "source": [
    "print(accuracy_score(y_test, y_pred) * 100)"
   ]
  },
  {
   "cell_type": "markdown",
   "id": "e4661eae",
   "metadata": {},
   "source": [
    "## Computing the accuracy with k-Fold Cross Validation"
   ]
  },
  {
   "cell_type": "code",
   "execution_count": null,
   "id": "48aa7223",
   "metadata": {},
   "outputs": [],
   "source": [
    "from sklearn.model_selection import cross_val_score\n",
    "accuracies = cross_val_score(estimator = classifier, X = X_train, y = y_train, cv = 10)\n",
    "print(\"Accuracy: {:.2f} %\".format(accuracies.mean()*100))\n",
    "print(\"Standard Deviation: {:.2f} %\".format(accuracies.std()*100))"
   ]
  },
  {
   "cell_type": "markdown",
   "id": "b7587cf1",
   "metadata": {},
   "source": [
    "## => A perfect model.... Is this correct???? "
   ]
  },
  {
   "cell_type": "code",
   "execution_count": null,
   "id": "2111d076",
   "metadata": {},
   "outputs": [],
   "source": []
  }
 ],
 "metadata": {
  "kernelspec": {
   "display_name": "Python 3 (ipykernel)",
   "language": "python",
   "name": "python3"
  },
  "language_info": {
   "codemirror_mode": {
    "name": "ipython",
    "version": 3
   },
   "file_extension": ".py",
   "mimetype": "text/x-python",
   "name": "python",
   "nbconvert_exporter": "python",
   "pygments_lexer": "ipython3",
   "version": "3.9.7"
  }
 },
 "nbformat": 4,
 "nbformat_minor": 5
}

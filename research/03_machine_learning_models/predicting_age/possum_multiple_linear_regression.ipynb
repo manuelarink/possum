{
 "cells": [
  {
   "cell_type": "markdown",
   "id": "d9db8ca1",
   "metadata": {},
   "source": [
    "# Possum - Age Prediction with Multiple Linear Regression"
   ]
  },
  {
   "cell_type": "code",
   "execution_count": 1,
   "id": "3a3c2ba4",
   "metadata": {},
   "outputs": [],
   "source": [
    "import numpy as np\n",
    "import pandas as pd\n",
    "import matplotlib.pyplot as plt"
   ]
  },
  {
   "cell_type": "markdown",
   "id": "d3fc3013",
   "metadata": {},
   "source": [
    "## Load dataset"
   ]
  },
  {
   "cell_type": "code",
   "execution_count": 2,
   "id": "ab5d2981",
   "metadata": {},
   "outputs": [
    {
     "data": {
      "text/html": [
       "<div>\n",
       "<style scoped>\n",
       "    .dataframe tbody tr th:only-of-type {\n",
       "        vertical-align: middle;\n",
       "    }\n",
       "\n",
       "    .dataframe tbody tr th {\n",
       "        vertical-align: top;\n",
       "    }\n",
       "\n",
       "    .dataframe thead th {\n",
       "        text-align: right;\n",
       "    }\n",
       "</style>\n",
       "<table border=\"1\" class=\"dataframe\">\n",
       "  <thead>\n",
       "    <tr style=\"text-align: right;\">\n",
       "      <th></th>\n",
       "      <th>case</th>\n",
       "      <th>site</th>\n",
       "      <th>Pop</th>\n",
       "      <th>sex</th>\n",
       "      <th>age</th>\n",
       "      <th>hdlngth</th>\n",
       "      <th>skullw</th>\n",
       "      <th>totlngth</th>\n",
       "      <th>taill</th>\n",
       "      <th>footlgth</th>\n",
       "      <th>earconch</th>\n",
       "      <th>eye</th>\n",
       "      <th>chest</th>\n",
       "      <th>belly</th>\n",
       "    </tr>\n",
       "  </thead>\n",
       "  <tbody>\n",
       "    <tr>\n",
       "      <th>0</th>\n",
       "      <td>1</td>\n",
       "      <td>1</td>\n",
       "      <td>Vic</td>\n",
       "      <td>m</td>\n",
       "      <td>8.0</td>\n",
       "      <td>94.1</td>\n",
       "      <td>60.4</td>\n",
       "      <td>89.0</td>\n",
       "      <td>36.0</td>\n",
       "      <td>74.5</td>\n",
       "      <td>54.5</td>\n",
       "      <td>15.2</td>\n",
       "      <td>28.0</td>\n",
       "      <td>36.0</td>\n",
       "    </tr>\n",
       "    <tr>\n",
       "      <th>1</th>\n",
       "      <td>2</td>\n",
       "      <td>1</td>\n",
       "      <td>Vic</td>\n",
       "      <td>f</td>\n",
       "      <td>6.0</td>\n",
       "      <td>92.5</td>\n",
       "      <td>57.6</td>\n",
       "      <td>91.5</td>\n",
       "      <td>36.5</td>\n",
       "      <td>72.5</td>\n",
       "      <td>51.2</td>\n",
       "      <td>16.0</td>\n",
       "      <td>28.5</td>\n",
       "      <td>33.0</td>\n",
       "    </tr>\n",
       "    <tr>\n",
       "      <th>2</th>\n",
       "      <td>3</td>\n",
       "      <td>1</td>\n",
       "      <td>Vic</td>\n",
       "      <td>f</td>\n",
       "      <td>6.0</td>\n",
       "      <td>94.0</td>\n",
       "      <td>60.0</td>\n",
       "      <td>95.5</td>\n",
       "      <td>39.0</td>\n",
       "      <td>75.4</td>\n",
       "      <td>51.9</td>\n",
       "      <td>15.5</td>\n",
       "      <td>30.0</td>\n",
       "      <td>34.0</td>\n",
       "    </tr>\n",
       "    <tr>\n",
       "      <th>3</th>\n",
       "      <td>4</td>\n",
       "      <td>1</td>\n",
       "      <td>Vic</td>\n",
       "      <td>f</td>\n",
       "      <td>6.0</td>\n",
       "      <td>93.2</td>\n",
       "      <td>57.1</td>\n",
       "      <td>92.0</td>\n",
       "      <td>38.0</td>\n",
       "      <td>76.1</td>\n",
       "      <td>52.2</td>\n",
       "      <td>15.2</td>\n",
       "      <td>28.0</td>\n",
       "      <td>34.0</td>\n",
       "    </tr>\n",
       "    <tr>\n",
       "      <th>4</th>\n",
       "      <td>5</td>\n",
       "      <td>1</td>\n",
       "      <td>Vic</td>\n",
       "      <td>f</td>\n",
       "      <td>2.0</td>\n",
       "      <td>91.5</td>\n",
       "      <td>56.3</td>\n",
       "      <td>85.5</td>\n",
       "      <td>36.0</td>\n",
       "      <td>71.0</td>\n",
       "      <td>53.2</td>\n",
       "      <td>15.1</td>\n",
       "      <td>28.5</td>\n",
       "      <td>33.0</td>\n",
       "    </tr>\n",
       "  </tbody>\n",
       "</table>\n",
       "</div>"
      ],
      "text/plain": [
       "   case  site  Pop sex  age  hdlngth  skullw  totlngth  taill  footlgth  \\\n",
       "0     1     1  Vic   m  8.0     94.1    60.4      89.0   36.0      74.5   \n",
       "1     2     1  Vic   f  6.0     92.5    57.6      91.5   36.5      72.5   \n",
       "2     3     1  Vic   f  6.0     94.0    60.0      95.5   39.0      75.4   \n",
       "3     4     1  Vic   f  6.0     93.2    57.1      92.0   38.0      76.1   \n",
       "4     5     1  Vic   f  2.0     91.5    56.3      85.5   36.0      71.0   \n",
       "\n",
       "   earconch   eye  chest  belly  \n",
       "0      54.5  15.2   28.0   36.0  \n",
       "1      51.2  16.0   28.5   33.0  \n",
       "2      51.9  15.5   30.0   34.0  \n",
       "3      52.2  15.2   28.0   34.0  \n",
       "4      53.2  15.1   28.5   33.0  "
      ]
     },
     "execution_count": 2,
     "metadata": {},
     "output_type": "execute_result"
    }
   ],
   "source": [
    "df = pd.read_csv('possum.csv')\n",
    "df.head()"
   ]
  },
  {
   "cell_type": "code",
   "execution_count": 3,
   "id": "15c1fbdf",
   "metadata": {},
   "outputs": [
    {
     "name": "stdout",
     "output_type": "stream",
     "text": [
      "[[1 'Vic' 'm' ... 15.2 28.0 36.0]\n",
      " [1 'Vic' 'f' ... 16.0 28.5 33.0]\n",
      " [1 'Vic' 'f' ... 15.5 30.0 34.0]\n",
      " ...\n",
      " [7 'other' 'f' ... 13.0 25.0 30.0]\n",
      " [7 'other' 'm' ... 15.4 25.0 29.0]\n",
      " [7 'other' 'f' ... 14.8 28.5 33.5]]\n"
     ]
    }
   ],
   "source": [
    "X_total = df.iloc[:, 1:].values\n",
    "print(X_total)"
   ]
  },
  {
   "cell_type": "markdown",
   "id": "1d5342b9",
   "metadata": {},
   "source": [
    "## Preprocessing - taking care of missing data"
   ]
  },
  {
   "cell_type": "code",
   "execution_count": 4,
   "id": "c260c1f2",
   "metadata": {},
   "outputs": [
    {
     "name": "stdout",
     "output_type": "stream",
     "text": [
      "[[1 'Vic' 'm' ... 15.2 28.0 36.0]\n",
      " [1 'Vic' 'f' ... 16.0 28.5 33.0]\n",
      " [1 'Vic' 'f' ... 15.5 30.0 34.0]\n",
      " ...\n",
      " [7 'other' 'f' ... 13.0 25.0 30.0]\n",
      " [7 'other' 'm' ... 15.4 25.0 29.0]\n",
      " [7 'other' 'f' ... 14.8 28.5 33.5]]\n"
     ]
    }
   ],
   "source": [
    "from sklearn.impute import SimpleImputer\n",
    "imputer = SimpleImputer(missing_values=np.nan, strategy='mean')\n",
    "imputer.fit(X_total[:, 3:])\n",
    "X_total[:, 3:] = imputer.transform(X_total[:, 3:])\n",
    "print(X_total)"
   ]
  },
  {
   "cell_type": "markdown",
   "id": "6c376194",
   "metadata": {},
   "source": [
    "## Preprocessing - reorder columns"
   ]
  },
  {
   "cell_type": "code",
   "execution_count": 5,
   "id": "9aa19cc7",
   "metadata": {},
   "outputs": [
    {
     "name": "stdout",
     "output_type": "stream",
     "text": [
      "[[1 'Vic' 'm' ... 28.0 36.0 8.0]\n",
      " [1 'Vic' 'f' ... 28.5 33.0 6.0]\n",
      " [1 'Vic' 'f' ... 30.0 34.0 6.0]\n",
      " ...\n",
      " [7 'other' 'f' ... 25.0 30.0 6.0]\n",
      " [7 'other' 'm' ... 25.0 29.0 4.0]\n",
      " [7 'other' 'f' ... 28.5 33.5 3.0]]\n"
     ]
    }
   ],
   "source": [
    "# move the column age to the right as it should be the independent column\n",
    "X_total = X_total[:, [0, 1, 2, 4, 5, 6, 7, 8, 9, 10, 11, 12, 3]]\n",
    "print(X_total)"
   ]
  },
  {
   "cell_type": "markdown",
   "id": "c671b355",
   "metadata": {},
   "source": [
    "## Select dependent and independent variables"
   ]
  },
  {
   "cell_type": "code",
   "execution_count": 6,
   "id": "8b28c72d",
   "metadata": {},
   "outputs": [
    {
     "name": "stdout",
     "output_type": "stream",
     "text": [
      "[[1 'Vic' 'm' ... 15.2 28.0 36.0]\n",
      " [1 'Vic' 'f' ... 16.0 28.5 33.0]\n",
      " [1 'Vic' 'f' ... 15.5 30.0 34.0]\n",
      " ...\n",
      " [7 'other' 'f' ... 13.0 25.0 30.0]\n",
      " [7 'other' 'm' ... 15.4 25.0 29.0]\n",
      " [7 'other' 'f' ... 14.8 28.5 33.5]]\n",
      "[8.0 6.0 6.0 6.0 2.0 1.0 2.0 6.0 9.0 6.0 9.0 5.0 5.0 3.0 5.0 4.0 1.0 2.0\n",
      " 5.0 4.0 3.0 3.0 4.0 2.0 3.0 7.0 2.0 4.0 3.0 2.0 3.0 4.0 3.0 2.0 4.0 7.0\n",
      " 2.0 7.0 1.0 3.0 5.0 3.0 2.0 3.8333333333333335 3.0 3.8333333333333335 2.0\n",
      " 5.0 4.0 5.0 5.0 6.0 3.0 7.0 2.0 3.0 4.0 3.0 2.0 2.0 7.0 3.0 6.0 3.0 5.0\n",
      " 3.0 4.0 5.0 5.0 7.0 6.0 1.0 1.0 4.0 6.0 5.0 6.0 1.0 1.0 1.0 3.0 4.0 3.0\n",
      " 3.0 3.0 3.0 2.0 2.0 6.0 3.0 3.0 2.0 3.0 7.0 4.0 4.0 3.0 5.0 3.0 1.0 1.0\n",
      " 6.0 4.0 3.0]\n"
     ]
    }
   ],
   "source": [
    "X = X_total[:, 0:-1]\n",
    "y = X_total[:, -1]\n",
    "print(X)\n",
    "print(y)"
   ]
  },
  {
   "cell_type": "markdown",
   "id": "09bf8c77",
   "metadata": {},
   "source": [
    "## Preprocessing - encode categorical data"
   ]
  },
  {
   "cell_type": "code",
   "execution_count": 7,
   "id": "a18e201d",
   "metadata": {},
   "outputs": [
    {
     "name": "stdout",
     "output_type": "stream",
     "text": [
      "[[1 0 1 ... 15.2 28.0 36.0]\n",
      " [1 0 0 ... 16.0 28.5 33.0]\n",
      " [1 0 0 ... 15.5 30.0 34.0]\n",
      " ...\n",
      " [7 1 0 ... 13.0 25.0 30.0]\n",
      " [7 1 1 ... 15.4 25.0 29.0]\n",
      " [7 1 0 ... 14.8 28.5 33.5]]\n",
      "[[1.0 0.0 0.0 ... 15.2 28.0 36.0]\n",
      " [1.0 0.0 0.0 ... 16.0 28.5 33.0]\n",
      " [1.0 0.0 0.0 ... 15.5 30.0 34.0]\n",
      " ...\n",
      " [0.0 0.0 0.0 ... 13.0 25.0 30.0]\n",
      " [0.0 0.0 0.0 ... 15.4 25.0 29.0]\n",
      " [0.0 0.0 0.0 ... 14.8 28.5 33.5]]\n"
     ]
    }
   ],
   "source": [
    "# encode the columns Pop and sex (binary categorical data - we only need LabelEncoder)\n",
    "from sklearn.preprocessing import LabelEncoder\n",
    "le_Pop = LabelEncoder()\n",
    "X[:, 1] = le_Pop.fit_transform(X[:, 1])\n",
    "le_sex = LabelEncoder()\n",
    "X[:, 2] = le_sex.fit_transform(X[:, 2])\n",
    "print(X)\n",
    "\n",
    "#encode the column site\n",
    "from sklearn.compose import ColumnTransformer\n",
    "from sklearn.preprocessing import OneHotEncoder\n",
    "ct = ColumnTransformer(transformers=[('encoder', OneHotEncoder(), [0])], remainder='passthrough')\n",
    "X = np.array(ct.fit_transform(X))\n",
    "print(X)"
   ]
  },
  {
   "cell_type": "markdown",
   "id": "589e249c",
   "metadata": {},
   "source": [
    "## Splitting the data into training set and test set"
   ]
  },
  {
   "cell_type": "code",
   "execution_count": 8,
   "id": "33a920d6",
   "metadata": {},
   "outputs": [],
   "source": [
    "from sklearn.model_selection import train_test_split\n",
    "X_train, X_test, y_train, y_test = train_test_split(X, y, test_size=0.2, random_state=1)"
   ]
  },
  {
   "cell_type": "code",
   "execution_count": 9,
   "id": "5da9d4db",
   "metadata": {},
   "outputs": [
    {
     "name": "stdout",
     "output_type": "stream",
     "text": [
      "[[0.0 0.0 0.0 ... 14.0 25.0 29.0]\n",
      " [0.0 0.0 0.0 ... 16.5 27.5 29.5]\n",
      " [0.0 1.0 0.0 ... 14.6 27.0 31.5]\n",
      " ...\n",
      " [0.0 0.0 0.0 ... 16.0 23.5 28.0]\n",
      " [1.0 0.0 0.0 ... 15.8 27.0 32.0]\n",
      " [0.0 1.0 0.0 ... 15.9 27.0 30.0]]\n",
      "[[0.0 0.0 0.0 0.0 0.0 0.0 1.0 1 1 91.0 53.1 86.0 38.0 63.8 46.0 14.5 25.0\n",
      "  31.5]\n",
      " [0.0 1.0 0.0 0.0 0.0 0.0 0.0 0 1 93.3 59.3 88.0 35.0 74.3 52.0 14.9 25.5\n",
      "  36.0]\n",
      " [0.0 0.0 0.0 0.0 0.0 1.0 0.0 1 0 86.0 54.0 82.0 36.5 60.7 42.9 15.4 26.0\n",
      "  32.0]\n",
      " [0.0 0.0 0.0 1.0 0.0 0.0 0.0 1 0 91.3 57.7 88.0 39.0 63.1 47.0 14.4 26.0\n",
      "  30.0]\n",
      " [0.0 1.0 0.0 0.0 0.0 0.0 0.0 0 0 84.7 51.5 75.0 34.0 68.7 53.4 13.0 25.0\n",
      "  25.0]\n",
      " [0.0 1.0 0.0 0.0 0.0 0.0 0.0 0 0 91.0 55.0 84.5 36.0 72.8 51.4 13.6 27.0\n",
      "  30.0]\n",
      " [0.0 0.0 0.0 1.0 0.0 0.0 0.0 1 1 96.9 63.0 91.5 43.0 71.3 46.0 17.5 30.0\n",
      "  36.5]\n",
      " [0.0 0.0 0.0 0.0 0.0 1.0 0.0 1 0 88.2 53.2 86.5 38.5 60.3 43.7 13.6 26.0\n",
      "  31.0]\n",
      " [1.0 0.0 0.0 0.0 0.0 0.0 0.0 0 0 94.3 56.7 94.0 39.0 74.8 52.0 14.9 28.0\n",
      "  34.0]\n",
      " [0.0 0.0 0.0 1.0 0.0 0.0 0.0 1 0 95.1 59.4 93.0 41.0 67.2 45.3 14.5 31.0\n",
      "  39.0]\n",
      " [0.0 0.0 0.0 0.0 0.0 0.0 1.0 1 0 93.3 56.2 86.5 38.5 64.8 43.8 14.0 28.0\n",
      "  35.0]\n",
      " [0.0 0.0 1.0 0.0 0.0 0.0 0.0 1 1 90.1 54.8 89.0 37.5 66.0 45.5 15.0 25.0\n",
      "  33.0]\n",
      " [0.0 0.0 0.0 0.0 0.0 0.0 1.0 1 1 90.7 56.3 85.0 37.0 67.6 46.8 14.5 25.5\n",
      "  31.0]\n",
      " [0.0 0.0 0.0 1.0 0.0 0.0 0.0 1 1 102.5 62.8 96.0 40.0 73.2 44.5 14.7\n",
      "  32.0 36.0]\n",
      " [0.0 1.0 0.0 0.0 0.0 0.0 0.0 0 1 90.6 55.7 85.5 36.5 73.1 53.1 14.4 26.0\n",
      "  28.5]\n",
      " [0.0 0.0 0.0 0.0 0.0 0.0 1.0 1 1 97.7 58.4 84.5 35.0 64.4 46.2 14.4 29.0\n",
      "  30.5]\n",
      " [0.0 0.0 0.0 0.0 0.0 0.0 1.0 1 0 93.6 59.9 89.0 40.0 67.6 46.0 14.8 28.5\n",
      "  33.5]\n",
      " [0.0 0.0 0.0 0.0 0.0 1.0 0.0 1 1 90.6 56.0 85.5 38.0 65.6 41.7 17.0 27.5\n",
      "  35.0]\n",
      " [1.0 0.0 0.0 0.0 0.0 0.0 0.0 0 1 93.5 55.7 90.0 36.0 73.7 55.4 15.3 28.0\n",
      "  32.0]\n",
      " [0.0 0.0 0.0 0.0 0.0 0.0 1.0 1 0 92.4 55.0 89.0 38.0 63.5 45.4 13.0 25.0\n",
      "  30.0]\n",
      " [0.0 0.0 0.0 0.0 1.0 0.0 0.0 1 1 94.1 56.0 88.5 38.0 65.9 43.1 17.4 27.0\n",
      "  30.0]]\n",
      "[3.0 4.0 3.0 2.0 5.0 3.0 2.0 4.0 2.0 9.0 6.0 3.0 7.0 4.0 4.0 6.0 1.0 1.0\n",
      " 6.0 2.0 3.0 1.0 2.0 4.0 3.0 6.0 3.0 4.0 2.0 3.0 6.0 3.8333333333333335\n",
      " 4.0 3.0 2.0 4.0 3.8333333333333335 7.0 3.0 2.0 3.0 4.0 5.0 3.0 6.0 3.0\n",
      " 5.0 5.0 9.0 7.0 8.0 4.0 3.0 4.0 3.0 3.0 6.0 1.0 3.0 5.0 3.0 5.0 2.0 3.0\n",
      " 5.0 3.0 5.0 3.0 5.0 7.0 2.0 1.0 6.0 6.0 1.0 5.0 1.0 1.0 5.0 6.0 1.0 5.0\n",
      " 7.0]\n",
      "[3.0 7.0 4.0 2.0 1.0 3.0 7.0 3.0 4.0 4.0 3.0 2.0 2.0 2.0 2.0 6.0 3.0 3.0\n",
      " 2.0 6.0 5.0]\n"
     ]
    }
   ],
   "source": [
    "print(X_train)\n",
    "print(X_test)\n",
    "print(y_train)\n",
    "print(y_test)"
   ]
  },
  {
   "cell_type": "markdown",
   "id": "77f05ebb",
   "metadata": {},
   "source": [
    "## Training the Multiple Linear Regression Model on the training set"
   ]
  },
  {
   "cell_type": "code",
   "execution_count": 10,
   "id": "4cfa6e07",
   "metadata": {},
   "outputs": [
    {
     "data": {
      "text/plain": [
       "LinearRegression()"
      ]
     },
     "execution_count": 10,
     "metadata": {},
     "output_type": "execute_result"
    }
   ],
   "source": [
    "from sklearn.linear_model import LinearRegression\n",
    "regressor = LinearRegression()\n",
    "regressor.fit(X_train, y_train)"
   ]
  },
  {
   "cell_type": "markdown",
   "id": "38c28496",
   "metadata": {},
   "source": [
    "## Predicting the test set results"
   ]
  },
  {
   "cell_type": "code",
   "execution_count": 11,
   "id": "b03619b8",
   "metadata": {},
   "outputs": [
    {
     "name": "stdout",
     "output_type": "stream",
     "text": [
      "[[2.863383105404516 3.0]\n",
      " [3.45933374410939 7.0]\n",
      " [3.5193730625432877 4.0]\n",
      " [1.3091318758314578 2.0]\n",
      " [2.1295012583171093 1.0]\n",
      " [3.4795213416615702 3.0]\n",
      " [4.145813169892325 7.0]\n",
      " [3.5839693611138372 3.0]\n",
      " [4.5726867166727665 4.0]\n",
      " [3.540226384741981 4.0]\n",
      " [4.3866754647952675 3.0]\n",
      " [2.5930911381594335 2.0]\n",
      " [2.3832724832920817 2.0]\n",
      " [3.4379746083598057 2.0]\n",
      " [3.1389328608128935 2.0]\n",
      " [4.187515786326433 6.0]\n",
      " [4.602157099490842 3.0]\n",
      " [4.599463603368875 3.0]\n",
      " [3.7880615533148188 2.0]\n",
      " [2.668285223115351 6.0]\n",
      " [4.651682809429854 5.0]]\n"
     ]
    }
   ],
   "source": [
    "y_pred = regressor.predict(X_test)\n",
    "np.set_printoptions(precision=2)\n",
    "print(np.concatenate((y_pred.reshape(len(y_pred), 1), y_test.reshape(len(y_test), 1)), 1))"
   ]
  },
  {
   "cell_type": "markdown",
   "id": "0c07f03c",
   "metadata": {},
   "source": [
    "## Getting the final linear regression equation with the values of the coefficients"
   ]
  },
  {
   "cell_type": "code",
   "execution_count": 12,
   "id": "8daf3174",
   "metadata": {},
   "outputs": [
    {
     "name": "stdout",
     "output_type": "stream",
     "text": [
      "[ 0.61  0.64  0.16 -2.28  0.61  0.3  -0.03 -1.25 -0.09  0.13  0.05 -0.08\n",
      "  0.28 -0.13 -0.03  0.19  0.26  0.07]\n",
      "-16.47773534343975\n"
     ]
    }
   ],
   "source": [
    "print(regressor.coef_)\n",
    "print(regressor.intercept_)"
   ]
  },
  {
   "cell_type": "markdown",
   "id": "6879b0e1",
   "metadata": {},
   "source": [
    "## Evaluationg the model performance"
   ]
  },
  {
   "cell_type": "code",
   "execution_count": 13,
   "id": "1baef87a",
   "metadata": {},
   "outputs": [
    {
     "data": {
      "text/plain": [
       "0.14413852697480034"
      ]
     },
     "execution_count": 13,
     "metadata": {},
     "output_type": "execute_result"
    }
   ],
   "source": [
    "from sklearn.metrics import r2_score\n",
    "r2_score(y_test, y_pred)"
   ]
  },
  {
   "cell_type": "markdown",
   "id": "da679a95",
   "metadata": {},
   "source": [
    "## Conclusion: model not suitable!"
   ]
  },
  {
   "cell_type": "code",
   "execution_count": null,
   "id": "e72f3d7e",
   "metadata": {},
   "outputs": [],
   "source": []
  }
 ],
 "metadata": {
  "kernelspec": {
   "display_name": "Python 3 (ipykernel)",
   "language": "python",
   "name": "python3"
  },
  "language_info": {
   "codemirror_mode": {
    "name": "ipython",
    "version": 3
   },
   "file_extension": ".py",
   "mimetype": "text/x-python",
   "name": "python",
   "nbconvert_exporter": "python",
   "pygments_lexer": "ipython3",
   "version": "3.9.7"
  }
 },
 "nbformat": 4,
 "nbformat_minor": 5
}

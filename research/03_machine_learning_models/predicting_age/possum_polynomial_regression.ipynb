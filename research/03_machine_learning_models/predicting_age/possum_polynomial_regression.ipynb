{
 "cells": [
  {
   "cell_type": "markdown",
   "id": "d9db8ca1",
   "metadata": {},
   "source": [
    "# Possum - Age Prediction with Polynomial Linear Regression"
   ]
  },
  {
   "cell_type": "code",
   "execution_count": 1,
   "id": "3a3c2ba4",
   "metadata": {},
   "outputs": [],
   "source": [
    "import numpy as np\n",
    "import pandas as pd\n",
    "import matplotlib.pyplot as plt"
   ]
  },
  {
   "cell_type": "markdown",
   "id": "d3fc3013",
   "metadata": {},
   "source": [
    "## Load dataset"
   ]
  },
  {
   "cell_type": "code",
   "execution_count": 2,
   "id": "ab5d2981",
   "metadata": {},
   "outputs": [
    {
     "data": {
      "text/html": [
       "<div>\n",
       "<style scoped>\n",
       "    .dataframe tbody tr th:only-of-type {\n",
       "        vertical-align: middle;\n",
       "    }\n",
       "\n",
       "    .dataframe tbody tr th {\n",
       "        vertical-align: top;\n",
       "    }\n",
       "\n",
       "    .dataframe thead th {\n",
       "        text-align: right;\n",
       "    }\n",
       "</style>\n",
       "<table border=\"1\" class=\"dataframe\">\n",
       "  <thead>\n",
       "    <tr style=\"text-align: right;\">\n",
       "      <th></th>\n",
       "      <th>case</th>\n",
       "      <th>site</th>\n",
       "      <th>Pop</th>\n",
       "      <th>sex</th>\n",
       "      <th>age</th>\n",
       "      <th>hdlngth</th>\n",
       "      <th>skullw</th>\n",
       "      <th>totlngth</th>\n",
       "      <th>taill</th>\n",
       "      <th>footlgth</th>\n",
       "      <th>earconch</th>\n",
       "      <th>eye</th>\n",
       "      <th>chest</th>\n",
       "      <th>belly</th>\n",
       "    </tr>\n",
       "  </thead>\n",
       "  <tbody>\n",
       "    <tr>\n",
       "      <th>0</th>\n",
       "      <td>1</td>\n",
       "      <td>1</td>\n",
       "      <td>Vic</td>\n",
       "      <td>m</td>\n",
       "      <td>8.0</td>\n",
       "      <td>94.1</td>\n",
       "      <td>60.4</td>\n",
       "      <td>89.0</td>\n",
       "      <td>36.0</td>\n",
       "      <td>74.5</td>\n",
       "      <td>54.5</td>\n",
       "      <td>15.2</td>\n",
       "      <td>28.0</td>\n",
       "      <td>36.0</td>\n",
       "    </tr>\n",
       "    <tr>\n",
       "      <th>1</th>\n",
       "      <td>2</td>\n",
       "      <td>1</td>\n",
       "      <td>Vic</td>\n",
       "      <td>f</td>\n",
       "      <td>6.0</td>\n",
       "      <td>92.5</td>\n",
       "      <td>57.6</td>\n",
       "      <td>91.5</td>\n",
       "      <td>36.5</td>\n",
       "      <td>72.5</td>\n",
       "      <td>51.2</td>\n",
       "      <td>16.0</td>\n",
       "      <td>28.5</td>\n",
       "      <td>33.0</td>\n",
       "    </tr>\n",
       "    <tr>\n",
       "      <th>2</th>\n",
       "      <td>3</td>\n",
       "      <td>1</td>\n",
       "      <td>Vic</td>\n",
       "      <td>f</td>\n",
       "      <td>6.0</td>\n",
       "      <td>94.0</td>\n",
       "      <td>60.0</td>\n",
       "      <td>95.5</td>\n",
       "      <td>39.0</td>\n",
       "      <td>75.4</td>\n",
       "      <td>51.9</td>\n",
       "      <td>15.5</td>\n",
       "      <td>30.0</td>\n",
       "      <td>34.0</td>\n",
       "    </tr>\n",
       "    <tr>\n",
       "      <th>3</th>\n",
       "      <td>4</td>\n",
       "      <td>1</td>\n",
       "      <td>Vic</td>\n",
       "      <td>f</td>\n",
       "      <td>6.0</td>\n",
       "      <td>93.2</td>\n",
       "      <td>57.1</td>\n",
       "      <td>92.0</td>\n",
       "      <td>38.0</td>\n",
       "      <td>76.1</td>\n",
       "      <td>52.2</td>\n",
       "      <td>15.2</td>\n",
       "      <td>28.0</td>\n",
       "      <td>34.0</td>\n",
       "    </tr>\n",
       "    <tr>\n",
       "      <th>4</th>\n",
       "      <td>5</td>\n",
       "      <td>1</td>\n",
       "      <td>Vic</td>\n",
       "      <td>f</td>\n",
       "      <td>2.0</td>\n",
       "      <td>91.5</td>\n",
       "      <td>56.3</td>\n",
       "      <td>85.5</td>\n",
       "      <td>36.0</td>\n",
       "      <td>71.0</td>\n",
       "      <td>53.2</td>\n",
       "      <td>15.1</td>\n",
       "      <td>28.5</td>\n",
       "      <td>33.0</td>\n",
       "    </tr>\n",
       "  </tbody>\n",
       "</table>\n",
       "</div>"
      ],
      "text/plain": [
       "   case  site  Pop sex  age  hdlngth  skullw  totlngth  taill  footlgth  \\\n",
       "0     1     1  Vic   m  8.0     94.1    60.4      89.0   36.0      74.5   \n",
       "1     2     1  Vic   f  6.0     92.5    57.6      91.5   36.5      72.5   \n",
       "2     3     1  Vic   f  6.0     94.0    60.0      95.5   39.0      75.4   \n",
       "3     4     1  Vic   f  6.0     93.2    57.1      92.0   38.0      76.1   \n",
       "4     5     1  Vic   f  2.0     91.5    56.3      85.5   36.0      71.0   \n",
       "\n",
       "   earconch   eye  chest  belly  \n",
       "0      54.5  15.2   28.0   36.0  \n",
       "1      51.2  16.0   28.5   33.0  \n",
       "2      51.9  15.5   30.0   34.0  \n",
       "3      52.2  15.2   28.0   34.0  \n",
       "4      53.2  15.1   28.5   33.0  "
      ]
     },
     "execution_count": 2,
     "metadata": {},
     "output_type": "execute_result"
    }
   ],
   "source": [
    "df = pd.read_csv('possum.csv')\n",
    "df.head()"
   ]
  },
  {
   "cell_type": "code",
   "execution_count": 3,
   "id": "e154b4a9",
   "metadata": {},
   "outputs": [
    {
     "name": "stdout",
     "output_type": "stream",
     "text": [
      "[[1 'Vic' 'm' ... 15.2 28.0 36.0]\n",
      " [1 'Vic' 'f' ... 16.0 28.5 33.0]\n",
      " [1 'Vic' 'f' ... 15.5 30.0 34.0]\n",
      " ...\n",
      " [7 'other' 'f' ... 13.0 25.0 30.0]\n",
      " [7 'other' 'm' ... 15.4 25.0 29.0]\n",
      " [7 'other' 'f' ... 14.8 28.5 33.5]]\n"
     ]
    }
   ],
   "source": [
    "X_total = df.iloc[:, 1:].values\n",
    "print(X_total)"
   ]
  },
  {
   "cell_type": "markdown",
   "id": "1d5342b9",
   "metadata": {},
   "source": [
    "## Preprocessing - taking care of missing data"
   ]
  },
  {
   "cell_type": "code",
   "execution_count": 4,
   "id": "c260c1f2",
   "metadata": {},
   "outputs": [
    {
     "name": "stdout",
     "output_type": "stream",
     "text": [
      "[[1 'Vic' 'm' ... 15.2 28.0 36.0]\n",
      " [1 'Vic' 'f' ... 16.0 28.5 33.0]\n",
      " [1 'Vic' 'f' ... 15.5 30.0 34.0]\n",
      " ...\n",
      " [7 'other' 'f' ... 13.0 25.0 30.0]\n",
      " [7 'other' 'm' ... 15.4 25.0 29.0]\n",
      " [7 'other' 'f' ... 14.8 28.5 33.5]]\n"
     ]
    }
   ],
   "source": [
    "from sklearn.impute import SimpleImputer\n",
    "imputer = SimpleImputer(missing_values=np.nan, strategy='mean')\n",
    "imputer.fit(X_total[:, 3:])\n",
    "X_total[:, 3:] = imputer.transform(X_total[:, 3:])\n",
    "print(X_total)"
   ]
  },
  {
   "cell_type": "markdown",
   "id": "1fd722b4",
   "metadata": {},
   "source": [
    "## Preprocessing - reorder columns"
   ]
  },
  {
   "cell_type": "code",
   "execution_count": 5,
   "id": "f3bd6c2c",
   "metadata": {},
   "outputs": [
    {
     "name": "stdout",
     "output_type": "stream",
     "text": [
      "[[1 'Vic' 'm' ... 28.0 36.0 8.0]\n",
      " [1 'Vic' 'f' ... 28.5 33.0 6.0]\n",
      " [1 'Vic' 'f' ... 30.0 34.0 6.0]\n",
      " ...\n",
      " [7 'other' 'f' ... 25.0 30.0 6.0]\n",
      " [7 'other' 'm' ... 25.0 29.0 4.0]\n",
      " [7 'other' 'f' ... 28.5 33.5 3.0]]\n"
     ]
    }
   ],
   "source": [
    "# move the column age to the right as it should be the independent column\n",
    "X_total = X_total[:, [0, 1, 2, 4, 5, 6, 7, 8, 9, 10, 11, 12, 3]]\n",
    "print(X_total)"
   ]
  },
  {
   "cell_type": "markdown",
   "id": "aac7032d",
   "metadata": {},
   "source": [
    "## Select dependent and independent variables"
   ]
  },
  {
   "cell_type": "code",
   "execution_count": 6,
   "id": "40408e9b",
   "metadata": {},
   "outputs": [
    {
     "name": "stdout",
     "output_type": "stream",
     "text": [
      "[[1 'Vic' 'm' ... 15.2 28.0 36.0]\n",
      " [1 'Vic' 'f' ... 16.0 28.5 33.0]\n",
      " [1 'Vic' 'f' ... 15.5 30.0 34.0]\n",
      " ...\n",
      " [7 'other' 'f' ... 13.0 25.0 30.0]\n",
      " [7 'other' 'm' ... 15.4 25.0 29.0]\n",
      " [7 'other' 'f' ... 14.8 28.5 33.5]]\n",
      "[8.0 6.0 6.0 6.0 2.0 1.0 2.0 6.0 9.0 6.0 9.0 5.0 5.0 3.0 5.0 4.0 1.0 2.0\n",
      " 5.0 4.0 3.0 3.0 4.0 2.0 3.0 7.0 2.0 4.0 3.0 2.0 3.0 4.0 3.0 2.0 4.0 7.0\n",
      " 2.0 7.0 1.0 3.0 5.0 3.0 2.0 3.8333333333333335 3.0 3.8333333333333335 2.0\n",
      " 5.0 4.0 5.0 5.0 6.0 3.0 7.0 2.0 3.0 4.0 3.0 2.0 2.0 7.0 3.0 6.0 3.0 5.0\n",
      " 3.0 4.0 5.0 5.0 7.0 6.0 1.0 1.0 4.0 6.0 5.0 6.0 1.0 1.0 1.0 3.0 4.0 3.0\n",
      " 3.0 3.0 3.0 2.0 2.0 6.0 3.0 3.0 2.0 3.0 7.0 4.0 4.0 3.0 5.0 3.0 1.0 1.0\n",
      " 6.0 4.0 3.0]\n"
     ]
    }
   ],
   "source": [
    "X = X_total[:, 0:-1]\n",
    "y = X_total[:, -1]\n",
    "print(X)\n",
    "print(y)"
   ]
  },
  {
   "cell_type": "markdown",
   "id": "ec3f7618",
   "metadata": {},
   "source": [
    "## Preprocessing - encode categorical data"
   ]
  },
  {
   "cell_type": "code",
   "execution_count": 7,
   "id": "2167a76b",
   "metadata": {},
   "outputs": [
    {
     "name": "stdout",
     "output_type": "stream",
     "text": [
      "[[1 0 1 ... 15.2 28.0 36.0]\n",
      " [1 0 0 ... 16.0 28.5 33.0]\n",
      " [1 0 0 ... 15.5 30.0 34.0]\n",
      " ...\n",
      " [7 1 0 ... 13.0 25.0 30.0]\n",
      " [7 1 1 ... 15.4 25.0 29.0]\n",
      " [7 1 0 ... 14.8 28.5 33.5]]\n"
     ]
    }
   ],
   "source": [
    "# encode the columns Pop and sex (binary categorical data - we only need LabelEncoder)\n",
    "from sklearn.preprocessing import LabelEncoder\n",
    "le_Pop = LabelEncoder()\n",
    "X[:, 1] = le_Pop.fit_transform(X[:, 1])\n",
    "le_sex = LabelEncoder()\n",
    "X[:, 2] = le_sex.fit_transform(X[:, 2])\n",
    "print(X)"
   ]
  },
  {
   "cell_type": "markdown",
   "id": "ff889ee2",
   "metadata": {},
   "source": [
    "## Splitting the data into training set and test set"
   ]
  },
  {
   "cell_type": "code",
   "execution_count": 8,
   "id": "2781474b",
   "metadata": {},
   "outputs": [],
   "source": [
    "from sklearn.model_selection import train_test_split\n",
    "X_train, X_test, y_train, y_test = train_test_split(X, y, test_size=0.2, random_state=1)"
   ]
  },
  {
   "cell_type": "code",
   "execution_count": 9,
   "id": "701b0815",
   "metadata": {},
   "outputs": [
    {
     "name": "stdout",
     "output_type": "stream",
     "text": [
      "[[6 1 0 90.0 53.8 81.5 36.0 62.0 43.3 14.0 25.0 29.0]\n",
      " [5 1 1 93.3 57.6 85.0 36.5 64.7 44.1 16.5 27.5 29.5]\n",
      " [2 0 1 90.7 55.9 81.0 34.0 71.5 54.0 14.6 27.0 31.5]\n",
      " [2 0 0 90.0 55.5 81.0 32.0 72.0 49.4 13.4 29.0 31.0]\n",
      " [2 0 0 88.4 57.0 83.0 36.5 68.45922330097088 40.3 15.9 27.0 30.5]\n",
      " [6 1 1 88.4 54.6 80.5 36.0 62.6 43.6 16.3 25.0 28.5]\n",
      " [7 1 1 98.5 60.7 93.0 41.5 71.7 46.8 15.0 26.0 36.0]\n",
      " [3 1 1 95.4 59.2 85.0 37.0 69.0 45.0 15.9 29.5 35.5]\n",
      " [2 0 0 89.3 54.8 82.5 35.0 71.2 52.0 13.6 28.0 31.5]\n",
      " [1 0 0 93.3 57.2 89.5 39.0 77.2 51.3 14.9 31.0 34.0]\n",
      " [1 0 0 94.0 60.0 95.5 39.0 75.4 51.9 15.5 30.0 34.0]\n",
      " [1 0 1 91.4 54.6 89.0 37.0 70.8 51.8 14.8 24.0 30.0]\n",
      " [5 1 0 91.9 56.4 87.0 38.0 65.4 44.1 13.0 27.0 34.0]\n",
      " [1 0 0 94.8 56.3 89.0 38.0 73.8 52.4 15.5 27.0 36.0]\n",
      " [1 0 1 93.8 56.8 87.0 34.5 73.2 53.0 15.3 27.0 30.0]\n",
      " [5 1 0 92.0 56.4 88.5 38.0 64.1 46.3 15.2 25.5 28.5]\n",
      " [7 1 1 89.5 56.0 81.5 36.5 66.0 46.8 14.8 23.0 27.0]\n",
      " [6 1 1 85.8 50.0 81.0 36.5 62.8 43.0 14.8 22.0 28.5]\n",
      " [6 1 1 93.8 58.1 89.0 38.0 66.2 45.6 16.9 26.0 33.5]\n",
      " [4 1 1 103.1 63.2 92.5 38.0 72.5 44.9 16.4 30.5 36.0]\n",
      " [4 1 1 99.9 61.5 93.7 38.0 68.7 46.8 16.4 27.5 31.5]\n",
      " [6 1 1 86.5 51.0 81.0 36.5 63.0 44.3 13.2 23.0 28.0]\n",
      " [1 0 1 94.4 54.9 84.0 34.0 75.0 53.5 16.2 27.0 32.0]\n",
      " [2 0 1 94.4 57.9 85.0 35.5 71.2 55.5 16.4 28.0 35.5]\n",
      " [7 1 1 97.8 59.6 89.0 38.0 65.5 48.0 15.0 26.0 32.0]\n",
      " [5 1 1 92.8 57.6 90.0 40.0 65.7 42.8 15.0 27.5 34.0]\n",
      " [7 1 1 89.2 54.0 82.0 38.0 63.8 44.9 12.8 24.0 31.0]\n",
      " [1 0 1 91.6 56.0 86.0 34.5 73.0 51.4 14.4 28.0 32.0]\n",
      " [7 1 0 89.6 58.0 87.5 38.0 66.7 43.5 16.0 25.5 31.5]\n",
      " [2 0 1 85.3 54.1 77.0 32.0 62.7 51.2 13.8 25.5 33.0]\n",
      " [3 1 1 97.6 61.0 93.5 40.0 67.9 44.3 15.8 28.5 32.5]\n",
      " [2 0 1 91.4 54.4 84.0 35.0 72.8 51.2 14.4 24.5 35.0]\n",
      " [7 1 1 94.8 55.7 83.0 38.0 66.5 47.7 14.0 25.0 33.0]\n",
      " [3 1 0 93.1 58.1 91.0 38.0 67.4 46.0 16.5 26.0 33.5]\n",
      " [1 0 0 90.5 54.5 85.0 35.0 70.3 50.8 14.2 23.0 28.0]\n",
      " [7 1 1 91.5 55.2 82.5 36.5 62.9 45.9 15.4 25.0 29.0]\n",
      " [2 0 1 85.1 51.5 76.0 35.5 70.3 52.6 14.4 23.0 27.0]\n",
      " [7 1 1 91.8 57.6 84.0 35.5 64.2 45.1 14.4 29.0 35.0]\n",
      " [1 0 1 95.8 58.5 91.5 35.5 72.3 51.6 14.9 31.0 35.0]\n",
      " [1 0 0 91.5 56.3 85.5 36.0 71.0 53.2 15.1 28.5 33.0]\n",
      " [5 1 0 90.4 55.8 86.0 36.5 63.2 44.2 15.7 26.5 34.0]\n",
      " [6 1 0 88.7 52.0 83.0 38.0 61.5 45.9 14.7 26.0 34.0]\n",
      " [3 1 0 91.6 56.4 88.0 38.0 65.0 47.2 14.9 28.0 36.0]\n",
      " [1 0 1 96.3 58.5 91.0 39.5 73.5 52.1 16.2 28.0 36.0]\n",
      " [1 0 0 93.2 57.1 92.0 38.0 76.1 52.2 15.2 28.0 34.0]\n",
      " [1 0 1 92.8 54.1 93.0 37.0 68.0 52.5 14.5 27.0 31.0]\n",
      " [3 1 1 98.6 63.2 85.0 34.0 66.9 44.9 17.0 28.0 35.0]\n",
      " [7 1 1 93.2 68.6 84.0 35.0 65.6 44.3 14.5 28.5 32.0]\n",
      " [1 0 0 93.4 56.3 91.5 37.0 72.4 52.9 15.5 28.0 33.0]\n",
      " [5 1 1 95.7 59.0 86.0 38.0 63.1 44.9 15.0 26.5 31.0]\n",
      " [1 0 1 94.1 60.4 89.0 36.0 74.5 54.5 15.2 28.0 36.0]\n",
      " [7 1 1 91.6 56.6 88.5 37.5 64.5 45.4 14.9 27.0 31.0]\n",
      " [4 1 1 94.5 64.2 91.0 39.0 66.5 46.4 14.4 30.5 33.0]\n",
      " [1 0 0 92.5 56.1 89.0 36.0 72.8 53.3 15.4 28.0 35.0]\n",
      " [5 1 0 91.3 58.0 90.5 39.0 65.5 41.3 16.0 27.0 32.0]\n",
      " [5 1 0 96.9 56.5 89.5 38.5 63.0 45.1 17.1 25.5 33.0]\n",
      " [1 0 0 94.8 57.6 91.0 37.0 72.7 53.9 14.5 29.0 34.0]\n",
      " [7 1 1 88.6 54.7 82.5 39.0 64.4 48.0 14.0 25.0 33.0]\n",
      " [1 0 1 95.4 57.6 91.5 36.0 74.3 53.7 15.1 28.0 31.5]\n",
      " [5 1 1 98.0 55.6 88.0 37.5 65.0 45.6 15.0 28.5 34.0]\n",
      " [7 1 1 92.6 54.6 85.0 38.5 69.8 44.8 14.5 25.5 32.5]\n",
      " [1 0 1 92.9 57.6 85.5 34.0 69.7 51.8 15.7 28.0 35.0]\n",
      " [1 0 0 92.1 54.4 84.0 33.5 70.6 50.8 14.5 24.5 33.0]\n",
      " [1 0 0 92.8 56.0 88.0 35.0 74.9 51.8 14.0 24.0 32.0]\n",
      " [1 0 0 94.9 55.6 92.0 35.5 71.7 51.0 15.3 28.0 33.0]\n",
      " [6 1 1 89.5 56.2 92.0 40.5 65.6 43.5 14.5 27.0 31.5]\n",
      " [1 0 0 94.4 55.4 90.5 35.0 73.4 53.9 15.2 28.0 32.0]\n",
      " [1 0 0 95.9 58.1 96.5 39.5 77.9 52.9 14.2 30.0 40.0]\n",
      " [3 1 0 95.6 59.6 85.0 36.0 64.0 43.9 17.4 28.0 38.5]\n",
      " [1 0 1 96.0 59.0 90.0 36.0 73.6 56.2 15.0 29.0 38.0]\n",
      " [1 0 1 95.3 58.2 89.5 36.0 71.5 52.0 14.2 30.0 34.5]\n",
      " [5 1 1 85.9 52.4 80.5 35.0 62.0 42.4 14.1 25.5 30.0]\n",
      " [6 1 1 93.6 56.2 84.0 36.0 62.8 42.9 16.2 25.0 35.0]\n",
      " [1 0 0 92.5 57.6 91.5 36.5 72.5 51.2 16.0 28.5 33.0]\n",
      " [1 0 0 94.7 67.7 89.5 36.5 73.2 53.2 14.7 29.0 31.0]\n",
      " [5 1 0 93.5 57.4 88.5 38.0 68.2 41.7 14.0 29.0 38.5]\n",
      " [6 1 1 86.7 52.6 84.0 38.0 62.3 44.8 15.0 23.5 30.5]\n",
      " [1 0 0 93.1 54.8 90.5 35.5 73.2 53.6 14.2 30.0 32.0]\n",
      " [6 1 1 92.4 56.8 89.0 41.0 64.5 46.4 17.8 26.0 33.0]\n",
      " [1 0 0 91.8 58.0 89.5 37.5 70.9 53.4 14.4 27.5 32.0]\n",
      " [5 1 1 82.5 52.3 82.0 36.5 65.7 44.7 16.0 23.5 28.0]\n",
      " [1 0 1 95.1 59.9 89.5 36.0 71.0 49.8 15.8 27.0 32.0]\n",
      " [2 0 1 92.4 56.0 80.5 35.5 68.4 49.5 15.9 27.0 30.0]]\n",
      "[[7 1 1 91.0 53.1 86.0 38.0 63.8 46.0 14.5 25.0 31.5]\n",
      " [2 0 1 93.3 59.3 88.0 35.0 74.3 52.0 14.9 25.5 36.0]\n",
      " [6 1 0 86.0 54.0 82.0 36.5 60.7 42.9 15.4 26.0 32.0]\n",
      " [4 1 0 91.3 57.7 88.0 39.0 63.1 47.0 14.4 26.0 30.0]\n",
      " [2 0 0 84.7 51.5 75.0 34.0 68.7 53.4 13.0 25.0 25.0]\n",
      " [2 0 0 91.0 55.0 84.5 36.0 72.8 51.4 13.6 27.0 30.0]\n",
      " [4 1 1 96.9 63.0 91.5 43.0 71.3 46.0 17.5 30.0 36.5]\n",
      " [6 1 0 88.2 53.2 86.5 38.5 60.3 43.7 13.6 26.0 31.0]\n",
      " [1 0 0 94.3 56.7 94.0 39.0 74.8 52.0 14.9 28.0 34.0]\n",
      " [4 1 0 95.1 59.4 93.0 41.0 67.2 45.3 14.5 31.0 39.0]\n",
      " [7 1 0 93.3 56.2 86.5 38.5 64.8 43.8 14.0 28.0 35.0]\n",
      " [3 1 1 90.1 54.8 89.0 37.5 66.0 45.5 15.0 25.0 33.0]\n",
      " [7 1 1 90.7 56.3 85.0 37.0 67.6 46.8 14.5 25.5 31.0]\n",
      " [4 1 1 102.5 62.8 96.0 40.0 73.2 44.5 14.7 32.0 36.0]\n",
      " [2 0 1 90.6 55.7 85.5 36.5 73.1 53.1 14.4 26.0 28.5]\n",
      " [7 1 1 97.7 58.4 84.5 35.0 64.4 46.2 14.4 29.0 30.5]\n",
      " [7 1 0 93.6 59.9 89.0 40.0 67.6 46.0 14.8 28.5 33.5]\n",
      " [6 1 1 90.6 56.0 85.5 38.0 65.6 41.7 17.0 27.5 35.0]\n",
      " [1 0 1 93.5 55.7 90.0 36.0 73.7 55.4 15.3 28.0 32.0]\n",
      " [7 1 0 92.4 55.0 89.0 38.0 63.5 45.4 13.0 25.0 30.0]\n",
      " [5 1 1 94.1 56.0 88.5 38.0 65.9 43.1 17.4 27.0 30.0]]\n",
      "[3.0 4.0 3.0 2.0 5.0 3.0 2.0 4.0 2.0 9.0 6.0 3.0 7.0 4.0 4.0 6.0 1.0 1.0\n",
      " 6.0 2.0 3.0 1.0 2.0 4.0 3.0 6.0 3.0 4.0 2.0 3.0 6.0 3.8333333333333335\n",
      " 4.0 3.0 2.0 4.0 3.8333333333333335 7.0 3.0 2.0 3.0 4.0 5.0 3.0 6.0 3.0\n",
      " 5.0 5.0 9.0 7.0 8.0 4.0 3.0 4.0 3.0 3.0 6.0 1.0 3.0 5.0 3.0 5.0 2.0 3.0\n",
      " 5.0 3.0 5.0 3.0 5.0 7.0 2.0 1.0 6.0 6.0 1.0 5.0 1.0 1.0 5.0 6.0 1.0 5.0\n",
      " 7.0]\n",
      "[3.0 7.0 4.0 2.0 1.0 3.0 7.0 3.0 4.0 4.0 3.0 2.0 2.0 2.0 2.0 6.0 3.0 3.0\n",
      " 2.0 6.0 5.0]\n"
     ]
    }
   ],
   "source": [
    "print(X_train)\n",
    "print(X_test)\n",
    "print(y_train)\n",
    "print(y_test)"
   ]
  },
  {
   "cell_type": "markdown",
   "id": "89aed535",
   "metadata": {},
   "source": [
    "## Training the Polynomial Regression Model on the training set"
   ]
  },
  {
   "cell_type": "code",
   "execution_count": 10,
   "id": "b58edf08",
   "metadata": {},
   "outputs": [
    {
     "data": {
      "text/plain": [
       "LinearRegression()"
      ]
     },
     "execution_count": 10,
     "metadata": {},
     "output_type": "execute_result"
    }
   ],
   "source": [
    "from sklearn.preprocessing import PolynomialFeatures\n",
    "from sklearn.linear_model import LinearRegression\n",
    "poly_reg = PolynomialFeatures(degree=4)\n",
    "X_poly = poly_reg.fit_transform(X_train)\n",
    "regressor = LinearRegression()\n",
    "regressor.fit(X_poly, y_train)"
   ]
  },
  {
   "cell_type": "markdown",
   "id": "caa05baa",
   "metadata": {},
   "source": [
    "## Predicting the test set results"
   ]
  },
  {
   "cell_type": "code",
   "execution_count": 11,
   "id": "5dc0f9b5",
   "metadata": {},
   "outputs": [
    {
     "name": "stdout",
     "output_type": "stream",
     "text": [
      "[[0.6297512867725281 3.0]\n",
      " [16.332454468015197 7.0]\n",
      " [-0.12673832042874622 4.0]\n",
      " [4.644153329458543 2.0]\n",
      " [1.1423665125226243 1.0]\n",
      " [8.119823464338236 3.0]\n",
      " [4.503831571211133 7.0]\n",
      " [5.676031843122967 3.0]\n",
      " [10.514668322607388 4.0]\n",
      " [14.270019174315433 4.0]\n",
      " [5.918142629102743 3.0]\n",
      " [-0.7153706297051095 2.0]\n",
      " [1.3905689575190472 2.0]\n",
      " [16.23787567168419 2.0]\n",
      " [2.6059127147889676 2.0]\n",
      " [2.3536888431879497 6.0]\n",
      " [7.108799582304339 3.0]\n",
      " [-5.116037698144016 3.0]\n",
      " [3.0469992253368154 2.0]\n",
      " [-2.0798343999646995 6.0]\n",
      " [4.056848856125992 5.0]]\n"
     ]
    }
   ],
   "source": [
    "y_pred = regressor.predict(poly_reg.transform(X_test))\n",
    "np.set_printoptions(precision=2)\n",
    "print(np.concatenate((y_pred.reshape(len(y_pred), 1), y_test.reshape(len(y_test), 1)), 1))"
   ]
  },
  {
   "cell_type": "markdown",
   "id": "1b21a3c2",
   "metadata": {},
   "source": [
    "## Getting the final linear regression equation with the values of the coefficients"
   ]
  },
  {
   "cell_type": "code",
   "execution_count": 12,
   "id": "b3d5636f",
   "metadata": {},
   "outputs": [
    {
     "name": "stdout",
     "output_type": "stream",
     "text": [
      "[-8.57e-07  2.81e-07  5.13e-07 ...  7.19e-06  1.16e-05  3.87e-05]\n",
      "-23.87120881231586\n"
     ]
    }
   ],
   "source": [
    "print(regressor.coef_)\n",
    "print(regressor.intercept_)"
   ]
  },
  {
   "cell_type": "markdown",
   "id": "c4079e15",
   "metadata": {},
   "source": [
    "## Evaluationg the model performance"
   ]
  },
  {
   "cell_type": "code",
   "execution_count": 13,
   "id": "ddf52f7f",
   "metadata": {},
   "outputs": [
    {
     "data": {
      "text/plain": [
       "-10.217447997713725"
      ]
     },
     "execution_count": 13,
     "metadata": {},
     "output_type": "execute_result"
    }
   ],
   "source": [
    "from sklearn.metrics import r2_score\n",
    "r2_score(y_test, y_pred)"
   ]
  },
  {
   "cell_type": "markdown",
   "id": "02444d6f",
   "metadata": {},
   "source": [
    "## Conclusion: model not suitable!"
   ]
  },
  {
   "cell_type": "code",
   "execution_count": null,
   "id": "cdcaac22",
   "metadata": {},
   "outputs": [],
   "source": []
  }
 ],
 "metadata": {
  "kernelspec": {
   "display_name": "Python 3 (ipykernel)",
   "language": "python",
   "name": "python3"
  },
  "language_info": {
   "codemirror_mode": {
    "name": "ipython",
    "version": 3
   },
   "file_extension": ".py",
   "mimetype": "text/x-python",
   "name": "python",
   "nbconvert_exporter": "python",
   "pygments_lexer": "ipython3",
   "version": "3.9.7"
  }
 },
 "nbformat": 4,
 "nbformat_minor": 5
}

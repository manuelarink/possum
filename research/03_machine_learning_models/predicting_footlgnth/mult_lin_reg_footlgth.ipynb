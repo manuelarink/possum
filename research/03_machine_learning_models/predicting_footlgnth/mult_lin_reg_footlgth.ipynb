{
 "cells": [
  {
   "cell_type": "code",
   "execution_count": 1,
   "id": "187534ec",
   "metadata": {},
   "outputs": [],
   "source": [
    "import pandas as pd\n",
    "import numpy as np\n",
    "import matplotlib.pyplot as plt\n",
    "from sklearn.model_selection import train_test_split\n",
    "from sklearn.compose import ColumnTransformer\n",
    "from sklearn.preprocessing import OneHotEncoder\n",
    "from sklearn.linear_model import LinearRegression\n",
    "from sklearn.metrics import r2_score"
   ]
  },
  {
   "cell_type": "markdown",
   "id": "92d9e0a3",
   "metadata": {},
   "source": [
    "# Predict footlgth of possum with simple linear regression"
   ]
  },
  {
   "cell_type": "code",
   "execution_count": 2,
   "id": "83b49b7a",
   "metadata": {},
   "outputs": [],
   "source": [
    "possum = pd.read_csv('possum.csv')"
   ]
  },
  {
   "cell_type": "code",
   "execution_count": 3,
   "id": "db296678",
   "metadata": {},
   "outputs": [
    {
     "name": "stdout",
     "output_type": "stream",
     "text": [
      "   case  site  Pop sex  age  hdlngth  skullw  totlngth  taill  footlgth  \\\n",
      "0     1     1  Vic   m  8.0     94.1    60.4      89.0   36.0      74.5   \n",
      "1     2     1  Vic   f  6.0     92.5    57.6      91.5   36.5      72.5   \n",
      "2     3     1  Vic   f  6.0     94.0    60.0      95.5   39.0      75.4   \n",
      "3     4     1  Vic   f  6.0     93.2    57.1      92.0   38.0      76.1   \n",
      "4     5     1  Vic   f  2.0     91.5    56.3      85.5   36.0      71.0   \n",
      "\n",
      "   earconch   eye  chest  belly  \n",
      "0      54.5  15.2   28.0   36.0  \n",
      "1      51.2  16.0   28.5   33.0  \n",
      "2      51.9  15.5   30.0   34.0  \n",
      "3      52.2  15.2   28.0   34.0  \n",
      "4      53.2  15.1   28.5   33.0  \n"
     ]
    }
   ],
   "source": [
    "print(possum.head())"
   ]
  },
  {
   "cell_type": "code",
   "execution_count": 4,
   "id": "b8a704fe",
   "metadata": {},
   "outputs": [
    {
     "name": "stdout",
     "output_type": "stream",
     "text": [
      "<class 'pandas.core.frame.DataFrame'>\n",
      "RangeIndex: 104 entries, 0 to 103\n",
      "Data columns (total 14 columns):\n",
      " #   Column    Non-Null Count  Dtype  \n",
      "---  ------    --------------  -----  \n",
      " 0   case      104 non-null    int64  \n",
      " 1   site      104 non-null    int64  \n",
      " 2   Pop       104 non-null    object \n",
      " 3   sex       104 non-null    object \n",
      " 4   age       102 non-null    float64\n",
      " 5   hdlngth   104 non-null    float64\n",
      " 6   skullw    104 non-null    float64\n",
      " 7   totlngth  104 non-null    float64\n",
      " 8   taill     104 non-null    float64\n",
      " 9   footlgth  103 non-null    float64\n",
      " 10  earconch  104 non-null    float64\n",
      " 11  eye       104 non-null    float64\n",
      " 12  chest     104 non-null    float64\n",
      " 13  belly     104 non-null    float64\n",
      "dtypes: float64(10), int64(2), object(2)\n",
      "memory usage: 11.5+ KB\n",
      "None\n"
     ]
    }
   ],
   "source": [
    "print(possum.info())"
   ]
  },
  {
   "cell_type": "markdown",
   "id": "5c12d163",
   "metadata": {},
   "source": [
    "### Drop column case"
   ]
  },
  {
   "cell_type": "code",
   "execution_count": 5,
   "id": "2008e486",
   "metadata": {},
   "outputs": [],
   "source": [
    "possum.drop(columns=['case'], inplace=True)"
   ]
  },
  {
   "cell_type": "markdown",
   "id": "087b945a",
   "metadata": {},
   "source": [
    "### Rearrange columns (move footlgth to the right)"
   ]
  },
  {
   "cell_type": "code",
   "execution_count": 6,
   "id": "9ccf6546",
   "metadata": {},
   "outputs": [],
   "source": [
    "possum = possum.iloc[:, [0, 1, 2, 3, 4, 5, 6, 7, 9, 10, 11, 12, 8]]"
   ]
  },
  {
   "cell_type": "code",
   "execution_count": 7,
   "id": "2ef766b8",
   "metadata": {},
   "outputs": [
    {
     "name": "stdout",
     "output_type": "stream",
     "text": [
      "   site  Pop sex  age  hdlngth  skullw  totlngth  taill  earconch   eye  \\\n",
      "0     1  Vic   m  8.0     94.1    60.4      89.0   36.0      54.5  15.2   \n",
      "1     1  Vic   f  6.0     92.5    57.6      91.5   36.5      51.2  16.0   \n",
      "2     1  Vic   f  6.0     94.0    60.0      95.5   39.0      51.9  15.5   \n",
      "3     1  Vic   f  6.0     93.2    57.1      92.0   38.0      52.2  15.2   \n",
      "4     1  Vic   f  2.0     91.5    56.3      85.5   36.0      53.2  15.1   \n",
      "\n",
      "   chest  belly  footlgth  \n",
      "0   28.0   36.0      74.5  \n",
      "1   28.5   33.0      72.5  \n",
      "2   30.0   34.0      75.4  \n",
      "3   28.0   34.0      76.1  \n",
      "4   28.5   33.0      71.0  \n"
     ]
    }
   ],
   "source": [
    "print(possum.head())"
   ]
  },
  {
   "cell_type": "markdown",
   "id": "21ffab97",
   "metadata": {},
   "source": [
    "### Split the dataset into training and test set"
   ]
  },
  {
   "cell_type": "code",
   "execution_count": 8,
   "id": "bb5ac7af",
   "metadata": {},
   "outputs": [],
   "source": [
    "possum_train, possum_test = train_test_split(possum, test_size=0.2, random_state=1)"
   ]
  },
  {
   "cell_type": "code",
   "execution_count": 9,
   "id": "51cebf17",
   "metadata": {},
   "outputs": [
    {
     "name": "stdout",
     "output_type": "stream",
     "text": [
      "    site    Pop sex  age  hdlngth  skullw  totlngth  taill  earconch   eye  \\\n",
      "82     6  other   f  3.0     90.0    53.8      81.5   36.0      43.3  14.0   \n",
      "66     5  other   m  4.0     93.3    57.6      85.0   36.5      44.1  16.5   \n",
      "44     2    Vic   m  3.0     90.7    55.9      81.0   34.0      54.0  14.6   \n",
      "42     2    Vic   f  2.0     90.0    55.5      81.0   32.0      49.4  13.4   \n",
      "40     2    Vic   f  5.0     88.4    57.0      83.0   36.5      40.3  15.9   \n",
      "..   ...    ...  ..  ...      ...     ...       ...    ...       ...   ...   \n",
      "75     6  other   m  5.0     92.4    56.8      89.0   41.0      46.4  17.8   \n",
      "9      1    Vic   f  6.0     91.8    58.0      89.5   37.5      53.4  14.4   \n",
      "72     5  other   m  1.0     82.5    52.3      82.0   36.5      44.7  16.0   \n",
      "12     1    Vic   m  5.0     95.1    59.9      89.5   36.0      49.8  15.8   \n",
      "37     2    Vic   m  7.0     92.4    56.0      80.5   35.5      49.5  15.9   \n",
      "\n",
      "    chest  belly  footlgth  \n",
      "82   25.0   29.0      62.0  \n",
      "66   27.5   29.5      64.7  \n",
      "44   27.0   31.5      71.5  \n",
      "42   29.0   31.0      72.0  \n",
      "40   27.0   30.5       NaN  \n",
      "..    ...    ...       ...  \n",
      "75   26.0   33.0      64.5  \n",
      "9    27.5   32.0      70.9  \n",
      "72   23.5   28.0      65.7  \n",
      "12   27.0   32.0      71.0  \n",
      "37   27.0   30.0      68.4  \n",
      "\n",
      "[83 rows x 13 columns]\n"
     ]
    }
   ],
   "source": [
    "print(possum_train)"
   ]
  },
  {
   "cell_type": "code",
   "execution_count": 10,
   "id": "f07547d9",
   "metadata": {},
   "outputs": [
    {
     "name": "stdout",
     "output_type": "stream",
     "text": [
      "     site    Pop sex  age  hdlngth  skullw  totlngth  taill  earconch   eye  \\\n",
      "96      7  other   m  3.0     91.0    53.1      86.0   38.0      46.0  14.5   \n",
      "35      2    Vic   m  7.0     93.3    59.3      88.0   35.0      52.0  14.9   \n",
      "81      6  other   f  4.0     86.0    54.0      82.0   36.5      42.9  15.4   \n",
      "59      4  other   f  2.0     91.3    57.7      88.0   39.0      47.0  14.4   \n",
      "38      2    Vic   f  1.0     84.7    51.5      75.0   34.0      53.4  13.0   \n",
      "39      2    Vic   f  3.0     91.0    55.0      84.5   36.0      51.4  13.6   \n",
      "53      4  other   m  7.0     96.9    63.0      91.5   43.0      46.0  17.5   \n",
      "85      6  other   f  3.0     88.2    53.2      86.5   38.5      43.7  13.6   \n",
      "31      1    Vic   f  4.0     94.3    56.7      94.0   39.0      52.0  14.9   \n",
      "56      4  other   f  4.0     95.1    59.4      93.0   41.0      45.3  14.5   \n",
      "98      7  other   f  3.0     93.3    56.2      86.5   38.5      43.8  14.0   \n",
      "46      3  other   m  2.0     90.1    54.8      89.0   37.5      45.5  15.0   \n",
      "91      7  other   m  2.0     90.7    56.3      85.0   37.0      46.8  14.5   \n",
      "58      4  other   m  2.0    102.5    62.8      96.0   40.0      44.5  14.7   \n",
      "33      2    Vic   m  2.0     90.6    55.7      85.5   36.5      53.1  14.4   \n",
      "88      7  other   m  6.0     97.7    58.4      84.5   35.0      46.2  14.4   \n",
      "103     7  other   f  3.0     93.6    59.9      89.0   40.0      46.0  14.8   \n",
      "80      6  other   m  3.0     90.6    56.0      85.5   38.0      41.7  17.0   \n",
      "17      1    Vic   m  2.0     93.5    55.7      90.0   36.0      55.4  15.3   \n",
      "101     7  other   f  6.0     92.4    55.0      89.0   38.0      45.4  13.0   \n",
      "67      5  other   m  5.0     94.1    56.0      88.5   38.0      43.1  17.4   \n",
      "\n",
      "     chest  belly  footlgth  \n",
      "96    25.0   31.5      63.8  \n",
      "35    25.5   36.0      74.3  \n",
      "81    26.0   32.0      60.7  \n",
      "59    26.0   30.0      63.1  \n",
      "38    25.0   25.0      68.7  \n",
      "39    27.0   30.0      72.8  \n",
      "53    30.0   36.5      71.3  \n",
      "85    26.0   31.0      60.3  \n",
      "31    28.0   34.0      74.8  \n",
      "56    31.0   39.0      67.2  \n",
      "98    28.0   35.0      64.8  \n",
      "46    25.0   33.0      66.0  \n",
      "91    25.5   31.0      67.6  \n",
      "58    32.0   36.0      73.2  \n",
      "33    26.0   28.5      73.1  \n",
      "88    29.0   30.5      64.4  \n",
      "103   28.5   33.5      67.6  \n",
      "80    27.5   35.0      65.6  \n",
      "17    28.0   32.0      73.7  \n",
      "101   25.0   30.0      63.5  \n",
      "67    27.0   30.0      65.9  \n"
     ]
    }
   ],
   "source": [
    "print(possum_test)"
   ]
  },
  {
   "cell_type": "markdown",
   "id": "0351c7ee",
   "metadata": {},
   "source": [
    "### Handle missing values in train and test set"
   ]
  },
  {
   "cell_type": "markdown",
   "id": "86bb2f16",
   "metadata": {},
   "source": [
    "#### training set"
   ]
  },
  {
   "cell_type": "code",
   "execution_count": 11,
   "id": "ef54eff7",
   "metadata": {},
   "outputs": [
    {
     "name": "stdout",
     "output_type": "stream",
     "text": [
      "site        0\n",
      "Pop         0\n",
      "sex         0\n",
      "age         2\n",
      "hdlngth     0\n",
      "skullw      0\n",
      "totlngth    0\n",
      "taill       0\n",
      "earconch    0\n",
      "eye         0\n",
      "chest       0\n",
      "belly       0\n",
      "footlgth    1\n",
      "dtype: int64\n"
     ]
    }
   ],
   "source": [
    "print(possum_train.isna().sum())"
   ]
  },
  {
   "cell_type": "markdown",
   "id": "cb2001e3",
   "metadata": {},
   "source": [
    "#### calculate threshold for missing data"
   ]
  },
  {
   "cell_type": "code",
   "execution_count": 12,
   "id": "60183f6e",
   "metadata": {},
   "outputs": [
    {
     "name": "stdout",
     "output_type": "stream",
     "text": [
      "4.15\n"
     ]
    }
   ],
   "source": [
    "treshold_train = 0.05 * len(possum_train)\n",
    "print(treshold_train)"
   ]
  },
  {
   "cell_type": "markdown",
   "id": "e7b90ae9",
   "metadata": {},
   "source": [
    "As the number of missing values in both columns age and footlgth is below the treshold we can drop these observation."
   ]
  },
  {
   "cell_type": "markdown",
   "id": "d96efba1",
   "metadata": {},
   "source": [
    "#### drop missing data in training set"
   ]
  },
  {
   "cell_type": "code",
   "execution_count": 13,
   "id": "af92d00d",
   "metadata": {},
   "outputs": [
    {
     "name": "stderr",
     "output_type": "stream",
     "text": [
      "C:\\ProgramData\\Anaconda3\\lib\\site-packages\\pandas\\util\\_decorators.py:311: SettingWithCopyWarning: \n",
      "A value is trying to be set on a copy of a slice from a DataFrame\n",
      "\n",
      "See the caveats in the documentation: https://pandas.pydata.org/pandas-docs/stable/user_guide/indexing.html#returning-a-view-versus-a-copy\n",
      "  return func(*args, **kwargs)\n"
     ]
    }
   ],
   "source": [
    "possum_train.dropna(axis=0, subset=['age', 'footlgth'], inplace=True)"
   ]
  },
  {
   "cell_type": "code",
   "execution_count": 14,
   "id": "e5e50404",
   "metadata": {},
   "outputs": [
    {
     "name": "stdout",
     "output_type": "stream",
     "text": [
      "site        0\n",
      "Pop         0\n",
      "sex         0\n",
      "age         0\n",
      "hdlngth     0\n",
      "skullw      0\n",
      "totlngth    0\n",
      "taill       0\n",
      "earconch    0\n",
      "eye         0\n",
      "chest       0\n",
      "belly       0\n",
      "footlgth    0\n",
      "dtype: int64\n"
     ]
    }
   ],
   "source": [
    "print(possum_train.isna().sum())"
   ]
  },
  {
   "cell_type": "markdown",
   "id": "20ae4370",
   "metadata": {},
   "source": [
    "#### test set"
   ]
  },
  {
   "cell_type": "code",
   "execution_count": 15,
   "id": "c82c04fe",
   "metadata": {},
   "outputs": [
    {
     "name": "stdout",
     "output_type": "stream",
     "text": [
      "site        0\n",
      "Pop         0\n",
      "sex         0\n",
      "age         0\n",
      "hdlngth     0\n",
      "skullw      0\n",
      "totlngth    0\n",
      "taill       0\n",
      "earconch    0\n",
      "eye         0\n",
      "chest       0\n",
      "belly       0\n",
      "footlgth    0\n",
      "dtype: int64\n"
     ]
    }
   ],
   "source": [
    "print(possum_test.isna().sum())"
   ]
  },
  {
   "cell_type": "markdown",
   "id": "fdbcb8e8",
   "metadata": {},
   "source": [
    "In test set we have no missing values to handle."
   ]
  },
  {
   "cell_type": "markdown",
   "id": "1eebabf1",
   "metadata": {},
   "source": [
    "### Get X and y values for train and test set"
   ]
  },
  {
   "cell_type": "code",
   "execution_count": 16,
   "id": "6547c06f",
   "metadata": {},
   "outputs": [],
   "source": [
    "X_train = possum_train.iloc[:, :-1].values\n",
    "y_train = possum_train.iloc[:, -1].values"
   ]
  },
  {
   "cell_type": "code",
   "execution_count": 17,
   "id": "1f92db4f",
   "metadata": {},
   "outputs": [
    {
     "name": "stdout",
     "output_type": "stream",
     "text": [
      "[[6 'other' 'f' 3.0 90.0 53.8 81.5 36.0 43.3 14.0 25.0 29.0]\n",
      " [5 'other' 'm' 4.0 93.3 57.6 85.0 36.5 44.1 16.5 27.5 29.5]\n",
      " [2 'Vic' 'm' 3.0 90.7 55.9 81.0 34.0 54.0 14.6 27.0 31.5]\n",
      " [2 'Vic' 'f' 2.0 90.0 55.5 81.0 32.0 49.4 13.4 29.0 31.0]\n",
      " [6 'other' 'm' 3.0 88.4 54.6 80.5 36.0 43.6 16.3 25.0 28.5]\n",
      " [7 'other' 'm' 2.0 98.5 60.7 93.0 41.5 46.8 15.0 26.0 36.0]\n",
      " [3 'other' 'm' 4.0 95.4 59.2 85.0 37.0 45.0 15.9 29.5 35.5]\n",
      " [2 'Vic' 'f' 2.0 89.3 54.8 82.5 35.0 52.0 13.6 28.0 31.5]\n",
      " [1 'Vic' 'f' 9.0 93.3 57.2 89.5 39.0 51.3 14.9 31.0 34.0]\n",
      " [1 'Vic' 'f' 6.0 94.0 60.0 95.5 39.0 51.9 15.5 30.0 34.0]\n",
      " [1 'Vic' 'm' 3.0 91.4 54.6 89.0 37.0 51.8 14.8 24.0 30.0]\n",
      " [5 'other' 'f' 7.0 91.9 56.4 87.0 38.0 44.1 13.0 27.0 34.0]\n",
      " [1 'Vic' 'f' 4.0 94.8 56.3 89.0 38.0 52.4 15.5 27.0 36.0]\n",
      " [1 'Vic' 'm' 4.0 93.8 56.8 87.0 34.5 53.0 15.3 27.0 30.0]\n",
      " [5 'other' 'f' 6.0 92.0 56.4 88.5 38.0 46.3 15.2 25.5 28.5]\n",
      " [7 'other' 'm' 1.0 89.5 56.0 81.5 36.5 46.8 14.8 23.0 27.0]\n",
      " [6 'other' 'm' 1.0 85.8 50.0 81.0 36.5 43.0 14.8 22.0 28.5]\n",
      " [6 'other' 'm' 6.0 93.8 58.1 89.0 38.0 45.6 16.9 26.0 33.5]\n",
      " [4 'other' 'm' 2.0 103.1 63.2 92.5 38.0 44.9 16.4 30.5 36.0]\n",
      " [4 'other' 'm' 3.0 99.9 61.5 93.7 38.0 46.8 16.4 27.5 31.5]\n",
      " [6 'other' 'm' 1.0 86.5 51.0 81.0 36.5 44.3 13.2 23.0 28.0]\n",
      " [1 'Vic' 'm' 2.0 94.4 54.9 84.0 34.0 53.5 16.2 27.0 32.0]\n",
      " [2 'Vic' 'm' 4.0 94.4 57.9 85.0 35.5 55.5 16.4 28.0 35.5]\n",
      " [7 'other' 'm' 3.0 97.8 59.6 89.0 38.0 48.0 15.0 26.0 32.0]\n",
      " [5 'other' 'm' 6.0 92.8 57.6 90.0 40.0 42.8 15.0 27.5 34.0]\n",
      " [7 'other' 'm' 3.0 89.2 54.0 82.0 38.0 44.9 12.8 24.0 31.0]\n",
      " [1 'Vic' 'm' 4.0 91.6 56.0 86.0 34.5 51.4 14.4 28.0 32.0]\n",
      " [7 'other' 'f' 2.0 89.6 58.0 87.5 38.0 43.5 16.0 25.5 31.5]\n",
      " [2 'Vic' 'm' 3.0 85.3 54.1 77.0 32.0 51.2 13.8 25.5 33.0]\n",
      " [3 'other' 'm' 6.0 97.6 61.0 93.5 40.0 44.3 15.8 28.5 32.5]\n",
      " [7 'other' 'm' 4.0 94.8 55.7 83.0 38.0 47.7 14.0 25.0 33.0]\n",
      " [3 'other' 'f' 3.0 93.1 58.1 91.0 38.0 46.0 16.5 26.0 33.5]\n",
      " [1 'Vic' 'f' 2.0 90.5 54.5 85.0 35.0 50.8 14.2 23.0 28.0]\n",
      " [7 'other' 'm' 4.0 91.5 55.2 82.5 36.5 45.9 15.4 25.0 29.0]\n",
      " [7 'other' 'm' 7.0 91.8 57.6 84.0 35.5 45.1 14.4 29.0 35.0]\n",
      " [1 'Vic' 'm' 3.0 95.8 58.5 91.5 35.5 51.6 14.9 31.0 35.0]\n",
      " [1 'Vic' 'f' 2.0 91.5 56.3 85.5 36.0 53.2 15.1 28.5 33.0]\n",
      " [5 'other' 'f' 3.0 90.4 55.8 86.0 36.5 44.2 15.7 26.5 34.0]\n",
      " [6 'other' 'f' 4.0 88.7 52.0 83.0 38.0 45.9 14.7 26.0 34.0]\n",
      " [3 'other' 'f' 5.0 91.6 56.4 88.0 38.0 47.2 14.9 28.0 36.0]\n",
      " [1 'Vic' 'm' 3.0 96.3 58.5 91.0 39.5 52.1 16.2 28.0 36.0]\n",
      " [1 'Vic' 'f' 6.0 93.2 57.1 92.0 38.0 52.2 15.2 28.0 34.0]\n",
      " [1 'Vic' 'm' 3.0 92.8 54.1 93.0 37.0 52.5 14.5 27.0 31.0]\n",
      " [3 'other' 'm' 5.0 98.6 63.2 85.0 34.0 44.9 17.0 28.0 35.0]\n",
      " [7 'other' 'm' 5.0 93.2 68.6 84.0 35.0 44.3 14.5 28.5 32.0]\n",
      " [1 'Vic' 'f' 9.0 93.4 56.3 91.5 37.0 52.9 15.5 28.0 33.0]\n",
      " [5 'other' 'm' 7.0 95.7 59.0 86.0 38.0 44.9 15.0 26.5 31.0]\n",
      " [1 'Vic' 'm' 8.0 94.1 60.4 89.0 36.0 54.5 15.2 28.0 36.0]\n",
      " [7 'other' 'm' 4.0 91.6 56.6 88.5 37.5 45.4 14.9 27.0 31.0]\n",
      " [4 'other' 'm' 3.0 94.5 64.2 91.0 39.0 46.4 14.4 30.5 33.0]\n",
      " [1 'Vic' 'f' 4.0 92.5 56.1 89.0 36.0 53.3 15.4 28.0 35.0]\n",
      " [5 'other' 'f' 3.0 91.3 58.0 90.5 39.0 41.3 16.0 27.0 32.0]\n",
      " [5 'other' 'f' 3.0 96.9 56.5 89.5 38.5 45.1 17.1 25.5 33.0]\n",
      " [1 'Vic' 'f' 6.0 94.8 57.6 91.0 37.0 53.9 14.5 29.0 34.0]\n",
      " [7 'other' 'm' 1.0 88.6 54.7 82.5 39.0 48.0 14.0 25.0 33.0]\n",
      " [1 'Vic' 'm' 3.0 95.4 57.6 91.5 36.0 53.7 15.1 28.0 31.5]\n",
      " [5 'other' 'm' 5.0 98.0 55.6 88.0 37.5 45.6 15.0 28.5 34.0]\n",
      " [7 'other' 'm' 3.0 92.6 54.6 85.0 38.5 44.8 14.5 25.5 32.5]\n",
      " [1 'Vic' 'm' 5.0 92.9 57.6 85.5 34.0 51.8 15.7 28.0 35.0]\n",
      " [1 'Vic' 'f' 2.0 92.1 54.4 84.0 33.5 50.8 14.5 24.5 33.0]\n",
      " [1 'Vic' 'f' 3.0 92.8 56.0 88.0 35.0 51.8 14.0 24.0 32.0]\n",
      " [1 'Vic' 'f' 5.0 94.9 55.6 92.0 35.5 51.0 15.3 28.0 33.0]\n",
      " [6 'other' 'm' 3.0 89.5 56.2 92.0 40.5 43.5 14.5 27.0 31.5]\n",
      " [1 'Vic' 'f' 5.0 94.4 55.4 90.5 35.0 53.9 15.2 28.0 32.0]\n",
      " [1 'Vic' 'f' 3.0 95.9 58.1 96.5 39.5 52.9 14.2 30.0 40.0]\n",
      " [3 'other' 'f' 5.0 95.6 59.6 85.0 36.0 43.9 17.4 28.0 38.5]\n",
      " [1 'Vic' 'm' 7.0 96.0 59.0 90.0 36.0 56.2 15.0 29.0 38.0]\n",
      " [1 'Vic' 'm' 2.0 95.3 58.2 89.5 36.0 52.0 14.2 30.0 34.5]\n",
      " [5 'other' 'm' 1.0 85.9 52.4 80.5 35.0 42.4 14.1 25.5 30.0]\n",
      " [6 'other' 'm' 6.0 93.6 56.2 84.0 36.0 42.9 16.2 25.0 35.0]\n",
      " [1 'Vic' 'f' 6.0 92.5 57.6 91.5 36.5 51.2 16.0 28.5 33.0]\n",
      " [1 'Vic' 'f' 1.0 94.7 67.7 89.5 36.5 53.2 14.7 29.0 31.0]\n",
      " [5 'other' 'f' 5.0 93.5 57.4 88.5 38.0 41.7 14.0 29.0 38.5]\n",
      " [6 'other' 'm' 1.0 86.7 52.6 84.0 38.0 44.8 15.0 23.5 30.5]\n",
      " [1 'Vic' 'f' 1.0 93.1 54.8 90.5 35.5 53.6 14.2 30.0 32.0]\n",
      " [6 'other' 'm' 5.0 92.4 56.8 89.0 41.0 46.4 17.8 26.0 33.0]\n",
      " [1 'Vic' 'f' 6.0 91.8 58.0 89.5 37.5 53.4 14.4 27.5 32.0]\n",
      " [5 'other' 'm' 1.0 82.5 52.3 82.0 36.5 44.7 16.0 23.5 28.0]\n",
      " [1 'Vic' 'm' 5.0 95.1 59.9 89.5 36.0 49.8 15.8 27.0 32.0]\n",
      " [2 'Vic' 'm' 7.0 92.4 56.0 80.5 35.5 49.5 15.9 27.0 30.0]]\n",
      "[62.  64.7 71.5 72.  62.6 71.7 69.  71.2 77.2 75.4 70.8 65.4 73.8 73.2\n",
      " 64.1 66.  62.8 66.2 72.5 68.7 63.  75.  71.2 65.5 65.7 63.8 73.  66.7\n",
      " 62.7 67.9 66.5 67.4 70.3 62.9 64.2 72.3 71.  63.2 61.5 65.  73.5 76.1\n",
      " 68.  66.9 65.6 72.4 63.1 74.5 64.5 66.5 72.8 65.5 63.  72.7 64.4 74.3\n",
      " 65.  69.8 69.7 70.6 74.9 71.7 65.6 73.4 77.9 64.  73.6 71.5 62.  62.8\n",
      " 72.5 73.2 68.2 62.3 73.2 64.5 70.9 65.7 71.  68.4]\n"
     ]
    }
   ],
   "source": [
    "print(X_train)\n",
    "print(y_train)"
   ]
  },
  {
   "cell_type": "code",
   "execution_count": 18,
   "id": "6a828845",
   "metadata": {},
   "outputs": [],
   "source": [
    "X_test = possum_test.iloc[:, :-1].values\n",
    "y_test = possum_test.iloc[:, -1].values"
   ]
  },
  {
   "cell_type": "code",
   "execution_count": 19,
   "id": "aafbdfd2",
   "metadata": {},
   "outputs": [
    {
     "name": "stdout",
     "output_type": "stream",
     "text": [
      "[[7 'other' 'm' 3.0 91.0 53.1 86.0 38.0 46.0 14.5 25.0 31.5]\n",
      " [2 'Vic' 'm' 7.0 93.3 59.3 88.0 35.0 52.0 14.9 25.5 36.0]\n",
      " [6 'other' 'f' 4.0 86.0 54.0 82.0 36.5 42.9 15.4 26.0 32.0]\n",
      " [4 'other' 'f' 2.0 91.3 57.7 88.0 39.0 47.0 14.4 26.0 30.0]\n",
      " [2 'Vic' 'f' 1.0 84.7 51.5 75.0 34.0 53.4 13.0 25.0 25.0]\n",
      " [2 'Vic' 'f' 3.0 91.0 55.0 84.5 36.0 51.4 13.6 27.0 30.0]\n",
      " [4 'other' 'm' 7.0 96.9 63.0 91.5 43.0 46.0 17.5 30.0 36.5]\n",
      " [6 'other' 'f' 3.0 88.2 53.2 86.5 38.5 43.7 13.6 26.0 31.0]\n",
      " [1 'Vic' 'f' 4.0 94.3 56.7 94.0 39.0 52.0 14.9 28.0 34.0]\n",
      " [4 'other' 'f' 4.0 95.1 59.4 93.0 41.0 45.3 14.5 31.0 39.0]\n",
      " [7 'other' 'f' 3.0 93.3 56.2 86.5 38.5 43.8 14.0 28.0 35.0]\n",
      " [3 'other' 'm' 2.0 90.1 54.8 89.0 37.5 45.5 15.0 25.0 33.0]\n",
      " [7 'other' 'm' 2.0 90.7 56.3 85.0 37.0 46.8 14.5 25.5 31.0]\n",
      " [4 'other' 'm' 2.0 102.5 62.8 96.0 40.0 44.5 14.7 32.0 36.0]\n",
      " [2 'Vic' 'm' 2.0 90.6 55.7 85.5 36.5 53.1 14.4 26.0 28.5]\n",
      " [7 'other' 'm' 6.0 97.7 58.4 84.5 35.0 46.2 14.4 29.0 30.5]\n",
      " [7 'other' 'f' 3.0 93.6 59.9 89.0 40.0 46.0 14.8 28.5 33.5]\n",
      " [6 'other' 'm' 3.0 90.6 56.0 85.5 38.0 41.7 17.0 27.5 35.0]\n",
      " [1 'Vic' 'm' 2.0 93.5 55.7 90.0 36.0 55.4 15.3 28.0 32.0]\n",
      " [7 'other' 'f' 6.0 92.4 55.0 89.0 38.0 45.4 13.0 25.0 30.0]\n",
      " [5 'other' 'm' 5.0 94.1 56.0 88.5 38.0 43.1 17.4 27.0 30.0]]\n",
      "[63.8 74.3 60.7 63.1 68.7 72.8 71.3 60.3 74.8 67.2 64.8 66.  67.6 73.2\n",
      " 73.1 64.4 67.6 65.6 73.7 63.5 65.9]\n"
     ]
    }
   ],
   "source": [
    "print(X_test)\n",
    "print(y_test)"
   ]
  },
  {
   "cell_type": "markdown",
   "id": "2a757db4",
   "metadata": {},
   "source": [
    "#### Encode categorical data in train and test set"
   ]
  },
  {
   "cell_type": "code",
   "execution_count": 20,
   "id": "00b7ebd1",
   "metadata": {},
   "outputs": [],
   "source": [
    "ct = ColumnTransformer(transformers=[('encoder', OneHotEncoder(handle_unknown='ignore'), [0, 1, 2])], remainder='passthrough')\n",
    "ct.fit(X_train)\n",
    "X_train = ct.transform(X_train)"
   ]
  },
  {
   "cell_type": "code",
   "execution_count": 21,
   "id": "0d015330",
   "metadata": {},
   "outputs": [
    {
     "name": "stdout",
     "output_type": "stream",
     "text": [
      "[[0.0 0.0 0.0 ... 14.0 25.0 29.0]\n",
      " [0.0 0.0 0.0 ... 16.5 27.5 29.5]\n",
      " [0.0 1.0 0.0 ... 14.6 27.0 31.5]\n",
      " ...\n",
      " [0.0 0.0 0.0 ... 16.0 23.5 28.0]\n",
      " [1.0 0.0 0.0 ... 15.8 27.0 32.0]\n",
      " [0.0 1.0 0.0 ... 15.9 27.0 30.0]]\n"
     ]
    }
   ],
   "source": [
    "print(X_train)"
   ]
  },
  {
   "cell_type": "code",
   "execution_count": 22,
   "id": "464e085a",
   "metadata": {},
   "outputs": [],
   "source": [
    "X_test = ct.transform(X_test)"
   ]
  },
  {
   "cell_type": "code",
   "execution_count": 23,
   "id": "f44bc7bf",
   "metadata": {},
   "outputs": [
    {
     "name": "stdout",
     "output_type": "stream",
     "text": [
      "[[0.0 0.0 0.0 0.0 0.0 0.0 1.0 0.0 1.0 0.0 1.0 3.0 91.0 53.1 86.0 38.0\n",
      "  46.0 14.5 25.0 31.5]\n",
      " [0.0 1.0 0.0 0.0 0.0 0.0 0.0 1.0 0.0 0.0 1.0 7.0 93.3 59.3 88.0 35.0\n",
      "  52.0 14.9 25.5 36.0]\n",
      " [0.0 0.0 0.0 0.0 0.0 1.0 0.0 0.0 1.0 1.0 0.0 4.0 86.0 54.0 82.0 36.5\n",
      "  42.9 15.4 26.0 32.0]\n",
      " [0.0 0.0 0.0 1.0 0.0 0.0 0.0 0.0 1.0 1.0 0.0 2.0 91.3 57.7 88.0 39.0\n",
      "  47.0 14.4 26.0 30.0]\n",
      " [0.0 1.0 0.0 0.0 0.0 0.0 0.0 1.0 0.0 1.0 0.0 1.0 84.7 51.5 75.0 34.0\n",
      "  53.4 13.0 25.0 25.0]\n",
      " [0.0 1.0 0.0 0.0 0.0 0.0 0.0 1.0 0.0 1.0 0.0 3.0 91.0 55.0 84.5 36.0\n",
      "  51.4 13.6 27.0 30.0]\n",
      " [0.0 0.0 0.0 1.0 0.0 0.0 0.0 0.0 1.0 0.0 1.0 7.0 96.9 63.0 91.5 43.0\n",
      "  46.0 17.5 30.0 36.5]\n",
      " [0.0 0.0 0.0 0.0 0.0 1.0 0.0 0.0 1.0 1.0 0.0 3.0 88.2 53.2 86.5 38.5\n",
      "  43.7 13.6 26.0 31.0]\n",
      " [1.0 0.0 0.0 0.0 0.0 0.0 0.0 1.0 0.0 1.0 0.0 4.0 94.3 56.7 94.0 39.0\n",
      "  52.0 14.9 28.0 34.0]\n",
      " [0.0 0.0 0.0 1.0 0.0 0.0 0.0 0.0 1.0 1.0 0.0 4.0 95.1 59.4 93.0 41.0\n",
      "  45.3 14.5 31.0 39.0]\n",
      " [0.0 0.0 0.0 0.0 0.0 0.0 1.0 0.0 1.0 1.0 0.0 3.0 93.3 56.2 86.5 38.5\n",
      "  43.8 14.0 28.0 35.0]\n",
      " [0.0 0.0 1.0 0.0 0.0 0.0 0.0 0.0 1.0 0.0 1.0 2.0 90.1 54.8 89.0 37.5\n",
      "  45.5 15.0 25.0 33.0]\n",
      " [0.0 0.0 0.0 0.0 0.0 0.0 1.0 0.0 1.0 0.0 1.0 2.0 90.7 56.3 85.0 37.0\n",
      "  46.8 14.5 25.5 31.0]\n",
      " [0.0 0.0 0.0 1.0 0.0 0.0 0.0 0.0 1.0 0.0 1.0 2.0 102.5 62.8 96.0 40.0\n",
      "  44.5 14.7 32.0 36.0]\n",
      " [0.0 1.0 0.0 0.0 0.0 0.0 0.0 1.0 0.0 0.0 1.0 2.0 90.6 55.7 85.5 36.5\n",
      "  53.1 14.4 26.0 28.5]\n",
      " [0.0 0.0 0.0 0.0 0.0 0.0 1.0 0.0 1.0 0.0 1.0 6.0 97.7 58.4 84.5 35.0\n",
      "  46.2 14.4 29.0 30.5]\n",
      " [0.0 0.0 0.0 0.0 0.0 0.0 1.0 0.0 1.0 1.0 0.0 3.0 93.6 59.9 89.0 40.0\n",
      "  46.0 14.8 28.5 33.5]\n",
      " [0.0 0.0 0.0 0.0 0.0 1.0 0.0 0.0 1.0 0.0 1.0 3.0 90.6 56.0 85.5 38.0\n",
      "  41.7 17.0 27.5 35.0]\n",
      " [1.0 0.0 0.0 0.0 0.0 0.0 0.0 1.0 0.0 0.0 1.0 2.0 93.5 55.7 90.0 36.0\n",
      "  55.4 15.3 28.0 32.0]\n",
      " [0.0 0.0 0.0 0.0 0.0 0.0 1.0 0.0 1.0 1.0 0.0 6.0 92.4 55.0 89.0 38.0\n",
      "  45.4 13.0 25.0 30.0]\n",
      " [0.0 0.0 0.0 0.0 1.0 0.0 0.0 0.0 1.0 0.0 1.0 5.0 94.1 56.0 88.5 38.0\n",
      "  43.1 17.4 27.0 30.0]]\n"
     ]
    }
   ],
   "source": [
    "print(X_test)"
   ]
  },
  {
   "cell_type": "markdown",
   "id": "b4ff335d",
   "metadata": {},
   "source": [
    "### Build the linear model"
   ]
  },
  {
   "cell_type": "code",
   "execution_count": 24,
   "id": "cb6b6722",
   "metadata": {},
   "outputs": [
    {
     "data": {
      "text/plain": [
       "LinearRegression()"
      ]
     },
     "execution_count": 24,
     "metadata": {},
     "output_type": "execute_result"
    }
   ],
   "source": [
    "regressor = LinearRegression()\n",
    "regressor.fit(X_train, y_train)"
   ]
  },
  {
   "cell_type": "markdown",
   "id": "1b194f6e",
   "metadata": {},
   "source": [
    "### Predict the test set"
   ]
  },
  {
   "cell_type": "code",
   "execution_count": 25,
   "id": "0c7ad0b8",
   "metadata": {},
   "outputs": [],
   "source": [
    "y_pred = regressor.predict(X_test)"
   ]
  },
  {
   "cell_type": "markdown",
   "id": "c7280bc3",
   "metadata": {},
   "source": [
    "### Compare y_test with y_pred and calculate r2_score"
   ]
  },
  {
   "cell_type": "code",
   "execution_count": 26,
   "id": "8c8b15c7",
   "metadata": {},
   "outputs": [
    {
     "name": "stdout",
     "output_type": "stream",
     "text": [
      "[[65.62857814 63.8       ]\n",
      " [69.92364461 74.3       ]\n",
      " [62.54052337 60.7       ]\n",
      " [67.23303751 63.1       ]\n",
      " [67.82574622 68.7       ]\n",
      " [70.70284364 72.8       ]\n",
      " [70.08000126 71.3       ]\n",
      " [64.05781679 60.3       ]\n",
      " [74.55854173 74.8       ]\n",
      " [70.19287746 67.2       ]\n",
      " [67.54409164 64.8       ]\n",
      " [65.38913258 66.        ]\n",
      " [65.40150059 67.6       ]\n",
      " [71.51170725 73.2       ]\n",
      " [70.3792666  73.1       ]\n",
      " [65.95378583 64.4       ]\n",
      " [68.30333617 67.6       ]\n",
      " [64.55402604 65.6       ]\n",
      " [72.80592683 73.7       ]\n",
      " [65.816462   63.5       ]\n",
      " [64.93342329 65.9       ]]\n"
     ]
    }
   ],
   "source": [
    "print(np.concatenate((y_pred.reshape(len(y_pred),1), y_test.reshape(len(y_test),1)),1))"
   ]
  },
  {
   "cell_type": "code",
   "execution_count": 27,
   "id": "71a313e7",
   "metadata": {},
   "outputs": [
    {
     "name": "stdout",
     "output_type": "stream",
     "text": [
      "0.7439033173179361\n"
     ]
    }
   ],
   "source": [
    "print(r2_score(y_test, y_pred))"
   ]
  },
  {
   "cell_type": "code",
   "execution_count": null,
   "id": "5c29f6b8",
   "metadata": {},
   "outputs": [],
   "source": []
  }
 ],
 "metadata": {
  "kernelspec": {
   "display_name": "Python 3 (ipykernel)",
   "language": "python",
   "name": "python3"
  },
  "language_info": {
   "codemirror_mode": {
    "name": "ipython",
    "version": 3
   },
   "file_extension": ".py",
   "mimetype": "text/x-python",
   "name": "python",
   "nbconvert_exporter": "python",
   "pygments_lexer": "ipython3",
   "version": "3.9.7"
  }
 },
 "nbformat": 4,
 "nbformat_minor": 5
}

{
 "cells": [
  {
   "cell_type": "code",
   "execution_count": 1,
   "id": "187534ec",
   "metadata": {},
   "outputs": [],
   "source": [
    "import pandas as pd\n",
    "import numpy as np\n",
    "import matplotlib.pyplot as plt\n",
    "from sklearn.model_selection import train_test_split\n",
    "from sklearn.compose import ColumnTransformer\n",
    "from sklearn.preprocessing import OneHotEncoder\n",
    "from sklearn.linear_model import LinearRegression\n",
    "from sklearn.metrics import r2_score"
   ]
  },
  {
   "cell_type": "markdown",
   "id": "92d9e0a3",
   "metadata": {},
   "source": [
    "# Predict chest of possum with simple linear regression"
   ]
  },
  {
   "cell_type": "code",
   "execution_count": 2,
   "id": "83b49b7a",
   "metadata": {},
   "outputs": [],
   "source": [
    "possum = pd.read_csv('possum.csv')"
   ]
  },
  {
   "cell_type": "code",
   "execution_count": 3,
   "id": "db296678",
   "metadata": {},
   "outputs": [
    {
     "name": "stdout",
     "output_type": "stream",
     "text": [
      "   case  site  Pop sex  age  hdlngth  skullw  totlngth  taill  footlgth  \\\n",
      "0     1     1  Vic   m  8.0     94.1    60.4      89.0   36.0      74.5   \n",
      "1     2     1  Vic   f  6.0     92.5    57.6      91.5   36.5      72.5   \n",
      "2     3     1  Vic   f  6.0     94.0    60.0      95.5   39.0      75.4   \n",
      "3     4     1  Vic   f  6.0     93.2    57.1      92.0   38.0      76.1   \n",
      "4     5     1  Vic   f  2.0     91.5    56.3      85.5   36.0      71.0   \n",
      "\n",
      "   earconch   eye  chest  belly  \n",
      "0      54.5  15.2   28.0   36.0  \n",
      "1      51.2  16.0   28.5   33.0  \n",
      "2      51.9  15.5   30.0   34.0  \n",
      "3      52.2  15.2   28.0   34.0  \n",
      "4      53.2  15.1   28.5   33.0  \n"
     ]
    }
   ],
   "source": [
    "print(possum.head())"
   ]
  },
  {
   "cell_type": "code",
   "execution_count": 4,
   "id": "b8a704fe",
   "metadata": {},
   "outputs": [
    {
     "name": "stdout",
     "output_type": "stream",
     "text": [
      "<class 'pandas.core.frame.DataFrame'>\n",
      "RangeIndex: 104 entries, 0 to 103\n",
      "Data columns (total 14 columns):\n",
      " #   Column    Non-Null Count  Dtype  \n",
      "---  ------    --------------  -----  \n",
      " 0   case      104 non-null    int64  \n",
      " 1   site      104 non-null    int64  \n",
      " 2   Pop       104 non-null    object \n",
      " 3   sex       104 non-null    object \n",
      " 4   age       102 non-null    float64\n",
      " 5   hdlngth   104 non-null    float64\n",
      " 6   skullw    104 non-null    float64\n",
      " 7   totlngth  104 non-null    float64\n",
      " 8   taill     104 non-null    float64\n",
      " 9   footlgth  103 non-null    float64\n",
      " 10  earconch  104 non-null    float64\n",
      " 11  eye       104 non-null    float64\n",
      " 12  chest     104 non-null    float64\n",
      " 13  belly     104 non-null    float64\n",
      "dtypes: float64(10), int64(2), object(2)\n",
      "memory usage: 11.5+ KB\n",
      "None\n"
     ]
    }
   ],
   "source": [
    "print(possum.info())"
   ]
  },
  {
   "cell_type": "markdown",
   "id": "5c12d163",
   "metadata": {},
   "source": [
    "### Drop column case"
   ]
  },
  {
   "cell_type": "code",
   "execution_count": 5,
   "id": "2008e486",
   "metadata": {},
   "outputs": [],
   "source": [
    "possum.drop(columns=['case'], inplace=True)"
   ]
  },
  {
   "cell_type": "markdown",
   "id": "087b945a",
   "metadata": {},
   "source": [
    "### Rearrange columns (move chest to the right)"
   ]
  },
  {
   "cell_type": "code",
   "execution_count": 6,
   "id": "9ccf6546",
   "metadata": {},
   "outputs": [],
   "source": [
    "possum = possum.iloc[:, [0, 1, 2, 3, 4, 5, 6, 7, 8, 9, 10, 12, 11]]"
   ]
  },
  {
   "cell_type": "code",
   "execution_count": 7,
   "id": "2ef766b8",
   "metadata": {},
   "outputs": [
    {
     "name": "stdout",
     "output_type": "stream",
     "text": [
      "   site  Pop sex  age  hdlngth  skullw  totlngth  taill  footlgth  earconch  \\\n",
      "0     1  Vic   m  8.0     94.1    60.4      89.0   36.0      74.5      54.5   \n",
      "1     1  Vic   f  6.0     92.5    57.6      91.5   36.5      72.5      51.2   \n",
      "2     1  Vic   f  6.0     94.0    60.0      95.5   39.0      75.4      51.9   \n",
      "3     1  Vic   f  6.0     93.2    57.1      92.0   38.0      76.1      52.2   \n",
      "4     1  Vic   f  2.0     91.5    56.3      85.5   36.0      71.0      53.2   \n",
      "\n",
      "    eye  belly  chest  \n",
      "0  15.2   36.0   28.0  \n",
      "1  16.0   33.0   28.5  \n",
      "2  15.5   34.0   30.0  \n",
      "3  15.2   34.0   28.0  \n",
      "4  15.1   33.0   28.5  \n"
     ]
    }
   ],
   "source": [
    "print(possum.head())"
   ]
  },
  {
   "cell_type": "markdown",
   "id": "21ffab97",
   "metadata": {},
   "source": [
    "### Split the dataset into training and test set"
   ]
  },
  {
   "cell_type": "code",
   "execution_count": 8,
   "id": "bb5ac7af",
   "metadata": {},
   "outputs": [],
   "source": [
    "possum_train, possum_test = train_test_split(possum, test_size=0.2, random_state=1)"
   ]
  },
  {
   "cell_type": "code",
   "execution_count": 9,
   "id": "51cebf17",
   "metadata": {},
   "outputs": [
    {
     "name": "stdout",
     "output_type": "stream",
     "text": [
      "    site    Pop sex  age  hdlngth  skullw  totlngth  taill  footlgth  \\\n",
      "82     6  other   f  3.0     90.0    53.8      81.5   36.0      62.0   \n",
      "66     5  other   m  4.0     93.3    57.6      85.0   36.5      64.7   \n",
      "44     2    Vic   m  3.0     90.7    55.9      81.0   34.0      71.5   \n",
      "42     2    Vic   f  2.0     90.0    55.5      81.0   32.0      72.0   \n",
      "40     2    Vic   f  5.0     88.4    57.0      83.0   36.5       NaN   \n",
      "..   ...    ...  ..  ...      ...     ...       ...    ...       ...   \n",
      "75     6  other   m  5.0     92.4    56.8      89.0   41.0      64.5   \n",
      "9      1    Vic   f  6.0     91.8    58.0      89.5   37.5      70.9   \n",
      "72     5  other   m  1.0     82.5    52.3      82.0   36.5      65.7   \n",
      "12     1    Vic   m  5.0     95.1    59.9      89.5   36.0      71.0   \n",
      "37     2    Vic   m  7.0     92.4    56.0      80.5   35.5      68.4   \n",
      "\n",
      "    earconch   eye  belly  chest  \n",
      "82      43.3  14.0   29.0   25.0  \n",
      "66      44.1  16.5   29.5   27.5  \n",
      "44      54.0  14.6   31.5   27.0  \n",
      "42      49.4  13.4   31.0   29.0  \n",
      "40      40.3  15.9   30.5   27.0  \n",
      "..       ...   ...    ...    ...  \n",
      "75      46.4  17.8   33.0   26.0  \n",
      "9       53.4  14.4   32.0   27.5  \n",
      "72      44.7  16.0   28.0   23.5  \n",
      "12      49.8  15.8   32.0   27.0  \n",
      "37      49.5  15.9   30.0   27.0  \n",
      "\n",
      "[83 rows x 13 columns]\n"
     ]
    }
   ],
   "source": [
    "print(possum_train)"
   ]
  },
  {
   "cell_type": "code",
   "execution_count": 10,
   "id": "f07547d9",
   "metadata": {},
   "outputs": [
    {
     "name": "stdout",
     "output_type": "stream",
     "text": [
      "     site    Pop sex  age  hdlngth  skullw  totlngth  taill  footlgth  \\\n",
      "96      7  other   m  3.0     91.0    53.1      86.0   38.0      63.8   \n",
      "35      2    Vic   m  7.0     93.3    59.3      88.0   35.0      74.3   \n",
      "81      6  other   f  4.0     86.0    54.0      82.0   36.5      60.7   \n",
      "59      4  other   f  2.0     91.3    57.7      88.0   39.0      63.1   \n",
      "38      2    Vic   f  1.0     84.7    51.5      75.0   34.0      68.7   \n",
      "39      2    Vic   f  3.0     91.0    55.0      84.5   36.0      72.8   \n",
      "53      4  other   m  7.0     96.9    63.0      91.5   43.0      71.3   \n",
      "85      6  other   f  3.0     88.2    53.2      86.5   38.5      60.3   \n",
      "31      1    Vic   f  4.0     94.3    56.7      94.0   39.0      74.8   \n",
      "56      4  other   f  4.0     95.1    59.4      93.0   41.0      67.2   \n",
      "98      7  other   f  3.0     93.3    56.2      86.5   38.5      64.8   \n",
      "46      3  other   m  2.0     90.1    54.8      89.0   37.5      66.0   \n",
      "91      7  other   m  2.0     90.7    56.3      85.0   37.0      67.6   \n",
      "58      4  other   m  2.0    102.5    62.8      96.0   40.0      73.2   \n",
      "33      2    Vic   m  2.0     90.6    55.7      85.5   36.5      73.1   \n",
      "88      7  other   m  6.0     97.7    58.4      84.5   35.0      64.4   \n",
      "103     7  other   f  3.0     93.6    59.9      89.0   40.0      67.6   \n",
      "80      6  other   m  3.0     90.6    56.0      85.5   38.0      65.6   \n",
      "17      1    Vic   m  2.0     93.5    55.7      90.0   36.0      73.7   \n",
      "101     7  other   f  6.0     92.4    55.0      89.0   38.0      63.5   \n",
      "67      5  other   m  5.0     94.1    56.0      88.5   38.0      65.9   \n",
      "\n",
      "     earconch   eye  belly  chest  \n",
      "96       46.0  14.5   31.5   25.0  \n",
      "35       52.0  14.9   36.0   25.5  \n",
      "81       42.9  15.4   32.0   26.0  \n",
      "59       47.0  14.4   30.0   26.0  \n",
      "38       53.4  13.0   25.0   25.0  \n",
      "39       51.4  13.6   30.0   27.0  \n",
      "53       46.0  17.5   36.5   30.0  \n",
      "85       43.7  13.6   31.0   26.0  \n",
      "31       52.0  14.9   34.0   28.0  \n",
      "56       45.3  14.5   39.0   31.0  \n",
      "98       43.8  14.0   35.0   28.0  \n",
      "46       45.5  15.0   33.0   25.0  \n",
      "91       46.8  14.5   31.0   25.5  \n",
      "58       44.5  14.7   36.0   32.0  \n",
      "33       53.1  14.4   28.5   26.0  \n",
      "88       46.2  14.4   30.5   29.0  \n",
      "103      46.0  14.8   33.5   28.5  \n",
      "80       41.7  17.0   35.0   27.5  \n",
      "17       55.4  15.3   32.0   28.0  \n",
      "101      45.4  13.0   30.0   25.0  \n",
      "67       43.1  17.4   30.0   27.0  \n"
     ]
    }
   ],
   "source": [
    "print(possum_test)"
   ]
  },
  {
   "cell_type": "markdown",
   "id": "0351c7ee",
   "metadata": {},
   "source": [
    "### Handle missing values in train and test set"
   ]
  },
  {
   "cell_type": "markdown",
   "id": "86bb2f16",
   "metadata": {},
   "source": [
    "#### training set"
   ]
  },
  {
   "cell_type": "code",
   "execution_count": 11,
   "id": "ef54eff7",
   "metadata": {},
   "outputs": [
    {
     "name": "stdout",
     "output_type": "stream",
     "text": [
      "site        0\n",
      "Pop         0\n",
      "sex         0\n",
      "age         2\n",
      "hdlngth     0\n",
      "skullw      0\n",
      "totlngth    0\n",
      "taill       0\n",
      "footlgth    1\n",
      "earconch    0\n",
      "eye         0\n",
      "belly       0\n",
      "chest       0\n",
      "dtype: int64\n"
     ]
    }
   ],
   "source": [
    "print(possum_train.isna().sum())"
   ]
  },
  {
   "cell_type": "markdown",
   "id": "cb2001e3",
   "metadata": {},
   "source": [
    "#### calculate threshold for missing data"
   ]
  },
  {
   "cell_type": "code",
   "execution_count": 12,
   "id": "60183f6e",
   "metadata": {},
   "outputs": [
    {
     "name": "stdout",
     "output_type": "stream",
     "text": [
      "4.15\n"
     ]
    }
   ],
   "source": [
    "treshold_train = 0.05 * len(possum_train)\n",
    "print(treshold_train)"
   ]
  },
  {
   "cell_type": "markdown",
   "id": "e7b90ae9",
   "metadata": {},
   "source": [
    "As the number of missing values in both columns age and footlgth is below the treshold we can drop these observation."
   ]
  },
  {
   "cell_type": "markdown",
   "id": "d96efba1",
   "metadata": {},
   "source": [
    "#### drop missing data in training set"
   ]
  },
  {
   "cell_type": "code",
   "execution_count": 13,
   "id": "af92d00d",
   "metadata": {},
   "outputs": [
    {
     "name": "stderr",
     "output_type": "stream",
     "text": [
      "C:\\ProgramData\\Anaconda3\\lib\\site-packages\\pandas\\util\\_decorators.py:311: SettingWithCopyWarning: \n",
      "A value is trying to be set on a copy of a slice from a DataFrame\n",
      "\n",
      "See the caveats in the documentation: https://pandas.pydata.org/pandas-docs/stable/user_guide/indexing.html#returning-a-view-versus-a-copy\n",
      "  return func(*args, **kwargs)\n"
     ]
    }
   ],
   "source": [
    "possum_train.dropna(axis=0, subset=['age', 'footlgth'], inplace=True)"
   ]
  },
  {
   "cell_type": "code",
   "execution_count": 14,
   "id": "e5e50404",
   "metadata": {},
   "outputs": [
    {
     "name": "stdout",
     "output_type": "stream",
     "text": [
      "site        0\n",
      "Pop         0\n",
      "sex         0\n",
      "age         0\n",
      "hdlngth     0\n",
      "skullw      0\n",
      "totlngth    0\n",
      "taill       0\n",
      "footlgth    0\n",
      "earconch    0\n",
      "eye         0\n",
      "belly       0\n",
      "chest       0\n",
      "dtype: int64\n"
     ]
    }
   ],
   "source": [
    "print(possum_train.isna().sum())"
   ]
  },
  {
   "cell_type": "markdown",
   "id": "20ae4370",
   "metadata": {},
   "source": [
    "#### test set"
   ]
  },
  {
   "cell_type": "code",
   "execution_count": 15,
   "id": "c82c04fe",
   "metadata": {},
   "outputs": [
    {
     "name": "stdout",
     "output_type": "stream",
     "text": [
      "site        0\n",
      "Pop         0\n",
      "sex         0\n",
      "age         0\n",
      "hdlngth     0\n",
      "skullw      0\n",
      "totlngth    0\n",
      "taill       0\n",
      "footlgth    0\n",
      "earconch    0\n",
      "eye         0\n",
      "belly       0\n",
      "chest       0\n",
      "dtype: int64\n"
     ]
    }
   ],
   "source": [
    "print(possum_test.isna().sum())"
   ]
  },
  {
   "cell_type": "markdown",
   "id": "fdbcb8e8",
   "metadata": {},
   "source": [
    "In test set we have no missing values to handle."
   ]
  },
  {
   "cell_type": "markdown",
   "id": "1eebabf1",
   "metadata": {},
   "source": [
    "### Get X and y values for train and test set"
   ]
  },
  {
   "cell_type": "code",
   "execution_count": 16,
   "id": "6547c06f",
   "metadata": {},
   "outputs": [],
   "source": [
    "X_train = possum_train.iloc[:, :-1].values\n",
    "y_train = possum_train.iloc[:, -1].values"
   ]
  },
  {
   "cell_type": "code",
   "execution_count": 17,
   "id": "1f92db4f",
   "metadata": {},
   "outputs": [
    {
     "name": "stdout",
     "output_type": "stream",
     "text": [
      "[[6 'other' 'f' 3.0 90.0 53.8 81.5 36.0 62.0 43.3 14.0 29.0]\n",
      " [5 'other' 'm' 4.0 93.3 57.6 85.0 36.5 64.7 44.1 16.5 29.5]\n",
      " [2 'Vic' 'm' 3.0 90.7 55.9 81.0 34.0 71.5 54.0 14.6 31.5]\n",
      " [2 'Vic' 'f' 2.0 90.0 55.5 81.0 32.0 72.0 49.4 13.4 31.0]\n",
      " [6 'other' 'm' 3.0 88.4 54.6 80.5 36.0 62.6 43.6 16.3 28.5]\n",
      " [7 'other' 'm' 2.0 98.5 60.7 93.0 41.5 71.7 46.8 15.0 36.0]\n",
      " [3 'other' 'm' 4.0 95.4 59.2 85.0 37.0 69.0 45.0 15.9 35.5]\n",
      " [2 'Vic' 'f' 2.0 89.3 54.8 82.5 35.0 71.2 52.0 13.6 31.5]\n",
      " [1 'Vic' 'f' 9.0 93.3 57.2 89.5 39.0 77.2 51.3 14.9 34.0]\n",
      " [1 'Vic' 'f' 6.0 94.0 60.0 95.5 39.0 75.4 51.9 15.5 34.0]\n",
      " [1 'Vic' 'm' 3.0 91.4 54.6 89.0 37.0 70.8 51.8 14.8 30.0]\n",
      " [5 'other' 'f' 7.0 91.9 56.4 87.0 38.0 65.4 44.1 13.0 34.0]\n",
      " [1 'Vic' 'f' 4.0 94.8 56.3 89.0 38.0 73.8 52.4 15.5 36.0]\n",
      " [1 'Vic' 'm' 4.0 93.8 56.8 87.0 34.5 73.2 53.0 15.3 30.0]\n",
      " [5 'other' 'f' 6.0 92.0 56.4 88.5 38.0 64.1 46.3 15.2 28.5]\n",
      " [7 'other' 'm' 1.0 89.5 56.0 81.5 36.5 66.0 46.8 14.8 27.0]\n",
      " [6 'other' 'm' 1.0 85.8 50.0 81.0 36.5 62.8 43.0 14.8 28.5]\n",
      " [6 'other' 'm' 6.0 93.8 58.1 89.0 38.0 66.2 45.6 16.9 33.5]\n",
      " [4 'other' 'm' 2.0 103.1 63.2 92.5 38.0 72.5 44.9 16.4 36.0]\n",
      " [4 'other' 'm' 3.0 99.9 61.5 93.7 38.0 68.7 46.8 16.4 31.5]\n",
      " [6 'other' 'm' 1.0 86.5 51.0 81.0 36.5 63.0 44.3 13.2 28.0]\n",
      " [1 'Vic' 'm' 2.0 94.4 54.9 84.0 34.0 75.0 53.5 16.2 32.0]\n",
      " [2 'Vic' 'm' 4.0 94.4 57.9 85.0 35.5 71.2 55.5 16.4 35.5]\n",
      " [7 'other' 'm' 3.0 97.8 59.6 89.0 38.0 65.5 48.0 15.0 32.0]\n",
      " [5 'other' 'm' 6.0 92.8 57.6 90.0 40.0 65.7 42.8 15.0 34.0]\n",
      " [7 'other' 'm' 3.0 89.2 54.0 82.0 38.0 63.8 44.9 12.8 31.0]\n",
      " [1 'Vic' 'm' 4.0 91.6 56.0 86.0 34.5 73.0 51.4 14.4 32.0]\n",
      " [7 'other' 'f' 2.0 89.6 58.0 87.5 38.0 66.7 43.5 16.0 31.5]\n",
      " [2 'Vic' 'm' 3.0 85.3 54.1 77.0 32.0 62.7 51.2 13.8 33.0]\n",
      " [3 'other' 'm' 6.0 97.6 61.0 93.5 40.0 67.9 44.3 15.8 32.5]\n",
      " [7 'other' 'm' 4.0 94.8 55.7 83.0 38.0 66.5 47.7 14.0 33.0]\n",
      " [3 'other' 'f' 3.0 93.1 58.1 91.0 38.0 67.4 46.0 16.5 33.5]\n",
      " [1 'Vic' 'f' 2.0 90.5 54.5 85.0 35.0 70.3 50.8 14.2 28.0]\n",
      " [7 'other' 'm' 4.0 91.5 55.2 82.5 36.5 62.9 45.9 15.4 29.0]\n",
      " [7 'other' 'm' 7.0 91.8 57.6 84.0 35.5 64.2 45.1 14.4 35.0]\n",
      " [1 'Vic' 'm' 3.0 95.8 58.5 91.5 35.5 72.3 51.6 14.9 35.0]\n",
      " [1 'Vic' 'f' 2.0 91.5 56.3 85.5 36.0 71.0 53.2 15.1 33.0]\n",
      " [5 'other' 'f' 3.0 90.4 55.8 86.0 36.5 63.2 44.2 15.7 34.0]\n",
      " [6 'other' 'f' 4.0 88.7 52.0 83.0 38.0 61.5 45.9 14.7 34.0]\n",
      " [3 'other' 'f' 5.0 91.6 56.4 88.0 38.0 65.0 47.2 14.9 36.0]\n",
      " [1 'Vic' 'm' 3.0 96.3 58.5 91.0 39.5 73.5 52.1 16.2 36.0]\n",
      " [1 'Vic' 'f' 6.0 93.2 57.1 92.0 38.0 76.1 52.2 15.2 34.0]\n",
      " [1 'Vic' 'm' 3.0 92.8 54.1 93.0 37.0 68.0 52.5 14.5 31.0]\n",
      " [3 'other' 'm' 5.0 98.6 63.2 85.0 34.0 66.9 44.9 17.0 35.0]\n",
      " [7 'other' 'm' 5.0 93.2 68.6 84.0 35.0 65.6 44.3 14.5 32.0]\n",
      " [1 'Vic' 'f' 9.0 93.4 56.3 91.5 37.0 72.4 52.9 15.5 33.0]\n",
      " [5 'other' 'm' 7.0 95.7 59.0 86.0 38.0 63.1 44.9 15.0 31.0]\n",
      " [1 'Vic' 'm' 8.0 94.1 60.4 89.0 36.0 74.5 54.5 15.2 36.0]\n",
      " [7 'other' 'm' 4.0 91.6 56.6 88.5 37.5 64.5 45.4 14.9 31.0]\n",
      " [4 'other' 'm' 3.0 94.5 64.2 91.0 39.0 66.5 46.4 14.4 33.0]\n",
      " [1 'Vic' 'f' 4.0 92.5 56.1 89.0 36.0 72.8 53.3 15.4 35.0]\n",
      " [5 'other' 'f' 3.0 91.3 58.0 90.5 39.0 65.5 41.3 16.0 32.0]\n",
      " [5 'other' 'f' 3.0 96.9 56.5 89.5 38.5 63.0 45.1 17.1 33.0]\n",
      " [1 'Vic' 'f' 6.0 94.8 57.6 91.0 37.0 72.7 53.9 14.5 34.0]\n",
      " [7 'other' 'm' 1.0 88.6 54.7 82.5 39.0 64.4 48.0 14.0 33.0]\n",
      " [1 'Vic' 'm' 3.0 95.4 57.6 91.5 36.0 74.3 53.7 15.1 31.5]\n",
      " [5 'other' 'm' 5.0 98.0 55.6 88.0 37.5 65.0 45.6 15.0 34.0]\n",
      " [7 'other' 'm' 3.0 92.6 54.6 85.0 38.5 69.8 44.8 14.5 32.5]\n",
      " [1 'Vic' 'm' 5.0 92.9 57.6 85.5 34.0 69.7 51.8 15.7 35.0]\n",
      " [1 'Vic' 'f' 2.0 92.1 54.4 84.0 33.5 70.6 50.8 14.5 33.0]\n",
      " [1 'Vic' 'f' 3.0 92.8 56.0 88.0 35.0 74.9 51.8 14.0 32.0]\n",
      " [1 'Vic' 'f' 5.0 94.9 55.6 92.0 35.5 71.7 51.0 15.3 33.0]\n",
      " [6 'other' 'm' 3.0 89.5 56.2 92.0 40.5 65.6 43.5 14.5 31.5]\n",
      " [1 'Vic' 'f' 5.0 94.4 55.4 90.5 35.0 73.4 53.9 15.2 32.0]\n",
      " [1 'Vic' 'f' 3.0 95.9 58.1 96.5 39.5 77.9 52.9 14.2 40.0]\n",
      " [3 'other' 'f' 5.0 95.6 59.6 85.0 36.0 64.0 43.9 17.4 38.5]\n",
      " [1 'Vic' 'm' 7.0 96.0 59.0 90.0 36.0 73.6 56.2 15.0 38.0]\n",
      " [1 'Vic' 'm' 2.0 95.3 58.2 89.5 36.0 71.5 52.0 14.2 34.5]\n",
      " [5 'other' 'm' 1.0 85.9 52.4 80.5 35.0 62.0 42.4 14.1 30.0]\n",
      " [6 'other' 'm' 6.0 93.6 56.2 84.0 36.0 62.8 42.9 16.2 35.0]\n",
      " [1 'Vic' 'f' 6.0 92.5 57.6 91.5 36.5 72.5 51.2 16.0 33.0]\n",
      " [1 'Vic' 'f' 1.0 94.7 67.7 89.5 36.5 73.2 53.2 14.7 31.0]\n",
      " [5 'other' 'f' 5.0 93.5 57.4 88.5 38.0 68.2 41.7 14.0 38.5]\n",
      " [6 'other' 'm' 1.0 86.7 52.6 84.0 38.0 62.3 44.8 15.0 30.5]\n",
      " [1 'Vic' 'f' 1.0 93.1 54.8 90.5 35.5 73.2 53.6 14.2 32.0]\n",
      " [6 'other' 'm' 5.0 92.4 56.8 89.0 41.0 64.5 46.4 17.8 33.0]\n",
      " [1 'Vic' 'f' 6.0 91.8 58.0 89.5 37.5 70.9 53.4 14.4 32.0]\n",
      " [5 'other' 'm' 1.0 82.5 52.3 82.0 36.5 65.7 44.7 16.0 28.0]\n",
      " [1 'Vic' 'm' 5.0 95.1 59.9 89.5 36.0 71.0 49.8 15.8 32.0]\n",
      " [2 'Vic' 'm' 7.0 92.4 56.0 80.5 35.5 68.4 49.5 15.9 30.0]]\n",
      "[25.  27.5 27.  29.  25.  26.  29.5 28.  31.  30.  24.  27.  27.  27.\n",
      " 25.5 23.  22.  26.  30.5 27.5 23.  27.  28.  26.  27.5 24.  28.  25.5\n",
      " 25.5 28.5 25.  26.  23.  25.  29.  31.  28.5 26.5 26.  28.  28.  28.\n",
      " 27.  28.  28.5 28.  26.5 28.  27.  30.5 28.  27.  25.5 29.  25.  28.\n",
      " 28.5 25.5 28.  24.5 24.  28.  27.  28.  30.  28.  29.  30.  25.5 25.\n",
      " 28.5 29.  29.  23.5 30.  26.  27.5 23.5 27.  27. ]\n"
     ]
    }
   ],
   "source": [
    "print(X_train)\n",
    "print(y_train)"
   ]
  },
  {
   "cell_type": "code",
   "execution_count": 18,
   "id": "6a828845",
   "metadata": {},
   "outputs": [],
   "source": [
    "X_test = possum_test.iloc[:, :-1].values\n",
    "y_test = possum_test.iloc[:, -1].values"
   ]
  },
  {
   "cell_type": "code",
   "execution_count": 19,
   "id": "aafbdfd2",
   "metadata": {},
   "outputs": [
    {
     "name": "stdout",
     "output_type": "stream",
     "text": [
      "[[7 'other' 'm' 3.0 91.0 53.1 86.0 38.0 63.8 46.0 14.5 31.5]\n",
      " [2 'Vic' 'm' 7.0 93.3 59.3 88.0 35.0 74.3 52.0 14.9 36.0]\n",
      " [6 'other' 'f' 4.0 86.0 54.0 82.0 36.5 60.7 42.9 15.4 32.0]\n",
      " [4 'other' 'f' 2.0 91.3 57.7 88.0 39.0 63.1 47.0 14.4 30.0]\n",
      " [2 'Vic' 'f' 1.0 84.7 51.5 75.0 34.0 68.7 53.4 13.0 25.0]\n",
      " [2 'Vic' 'f' 3.0 91.0 55.0 84.5 36.0 72.8 51.4 13.6 30.0]\n",
      " [4 'other' 'm' 7.0 96.9 63.0 91.5 43.0 71.3 46.0 17.5 36.5]\n",
      " [6 'other' 'f' 3.0 88.2 53.2 86.5 38.5 60.3 43.7 13.6 31.0]\n",
      " [1 'Vic' 'f' 4.0 94.3 56.7 94.0 39.0 74.8 52.0 14.9 34.0]\n",
      " [4 'other' 'f' 4.0 95.1 59.4 93.0 41.0 67.2 45.3 14.5 39.0]\n",
      " [7 'other' 'f' 3.0 93.3 56.2 86.5 38.5 64.8 43.8 14.0 35.0]\n",
      " [3 'other' 'm' 2.0 90.1 54.8 89.0 37.5 66.0 45.5 15.0 33.0]\n",
      " [7 'other' 'm' 2.0 90.7 56.3 85.0 37.0 67.6 46.8 14.5 31.0]\n",
      " [4 'other' 'm' 2.0 102.5 62.8 96.0 40.0 73.2 44.5 14.7 36.0]\n",
      " [2 'Vic' 'm' 2.0 90.6 55.7 85.5 36.5 73.1 53.1 14.4 28.5]\n",
      " [7 'other' 'm' 6.0 97.7 58.4 84.5 35.0 64.4 46.2 14.4 30.5]\n",
      " [7 'other' 'f' 3.0 93.6 59.9 89.0 40.0 67.6 46.0 14.8 33.5]\n",
      " [6 'other' 'm' 3.0 90.6 56.0 85.5 38.0 65.6 41.7 17.0 35.0]\n",
      " [1 'Vic' 'm' 2.0 93.5 55.7 90.0 36.0 73.7 55.4 15.3 32.0]\n",
      " [7 'other' 'f' 6.0 92.4 55.0 89.0 38.0 63.5 45.4 13.0 30.0]\n",
      " [5 'other' 'm' 5.0 94.1 56.0 88.5 38.0 65.9 43.1 17.4 30.0]]\n",
      "[25.  25.5 26.  26.  25.  27.  30.  26.  28.  31.  28.  25.  25.5 32.\n",
      " 26.  29.  28.5 27.5 28.  25.  27. ]\n"
     ]
    }
   ],
   "source": [
    "print(X_test)\n",
    "print(y_test)"
   ]
  },
  {
   "cell_type": "markdown",
   "id": "2a757db4",
   "metadata": {},
   "source": [
    "#### Encode categorical data in train and test set"
   ]
  },
  {
   "cell_type": "code",
   "execution_count": 20,
   "id": "00b7ebd1",
   "metadata": {},
   "outputs": [],
   "source": [
    "ct = ColumnTransformer(transformers=[('encoder', OneHotEncoder(handle_unknown='ignore'), [0, 1, 2])], remainder='passthrough')\n",
    "ct.fit(X_train)\n",
    "X_train = ct.transform(X_train)"
   ]
  },
  {
   "cell_type": "code",
   "execution_count": 21,
   "id": "0d015330",
   "metadata": {},
   "outputs": [
    {
     "name": "stdout",
     "output_type": "stream",
     "text": [
      "[[0.0 0.0 0.0 ... 43.3 14.0 29.0]\n",
      " [0.0 0.0 0.0 ... 44.1 16.5 29.5]\n",
      " [0.0 1.0 0.0 ... 54.0 14.6 31.5]\n",
      " ...\n",
      " [0.0 0.0 0.0 ... 44.7 16.0 28.0]\n",
      " [1.0 0.0 0.0 ... 49.8 15.8 32.0]\n",
      " [0.0 1.0 0.0 ... 49.5 15.9 30.0]]\n"
     ]
    }
   ],
   "source": [
    "print(X_train)"
   ]
  },
  {
   "cell_type": "code",
   "execution_count": 22,
   "id": "464e085a",
   "metadata": {},
   "outputs": [],
   "source": [
    "X_test = ct.transform(X_test)"
   ]
  },
  {
   "cell_type": "code",
   "execution_count": 23,
   "id": "f44bc7bf",
   "metadata": {},
   "outputs": [
    {
     "name": "stdout",
     "output_type": "stream",
     "text": [
      "[[0.0 0.0 0.0 0.0 0.0 0.0 1.0 0.0 1.0 0.0 1.0 3.0 91.0 53.1 86.0 38.0\n",
      "  63.8 46.0 14.5 31.5]\n",
      " [0.0 1.0 0.0 0.0 0.0 0.0 0.0 1.0 0.0 0.0 1.0 7.0 93.3 59.3 88.0 35.0\n",
      "  74.3 52.0 14.9 36.0]\n",
      " [0.0 0.0 0.0 0.0 0.0 1.0 0.0 0.0 1.0 1.0 0.0 4.0 86.0 54.0 82.0 36.5\n",
      "  60.7 42.9 15.4 32.0]\n",
      " [0.0 0.0 0.0 1.0 0.0 0.0 0.0 0.0 1.0 1.0 0.0 2.0 91.3 57.7 88.0 39.0\n",
      "  63.1 47.0 14.4 30.0]\n",
      " [0.0 1.0 0.0 0.0 0.0 0.0 0.0 1.0 0.0 1.0 0.0 1.0 84.7 51.5 75.0 34.0\n",
      "  68.7 53.4 13.0 25.0]\n",
      " [0.0 1.0 0.0 0.0 0.0 0.0 0.0 1.0 0.0 1.0 0.0 3.0 91.0 55.0 84.5 36.0\n",
      "  72.8 51.4 13.6 30.0]\n",
      " [0.0 0.0 0.0 1.0 0.0 0.0 0.0 0.0 1.0 0.0 1.0 7.0 96.9 63.0 91.5 43.0\n",
      "  71.3 46.0 17.5 36.5]\n",
      " [0.0 0.0 0.0 0.0 0.0 1.0 0.0 0.0 1.0 1.0 0.0 3.0 88.2 53.2 86.5 38.5\n",
      "  60.3 43.7 13.6 31.0]\n",
      " [1.0 0.0 0.0 0.0 0.0 0.0 0.0 1.0 0.0 1.0 0.0 4.0 94.3 56.7 94.0 39.0\n",
      "  74.8 52.0 14.9 34.0]\n",
      " [0.0 0.0 0.0 1.0 0.0 0.0 0.0 0.0 1.0 1.0 0.0 4.0 95.1 59.4 93.0 41.0\n",
      "  67.2 45.3 14.5 39.0]\n",
      " [0.0 0.0 0.0 0.0 0.0 0.0 1.0 0.0 1.0 1.0 0.0 3.0 93.3 56.2 86.5 38.5\n",
      "  64.8 43.8 14.0 35.0]\n",
      " [0.0 0.0 1.0 0.0 0.0 0.0 0.0 0.0 1.0 0.0 1.0 2.0 90.1 54.8 89.0 37.5\n",
      "  66.0 45.5 15.0 33.0]\n",
      " [0.0 0.0 0.0 0.0 0.0 0.0 1.0 0.0 1.0 0.0 1.0 2.0 90.7 56.3 85.0 37.0\n",
      "  67.6 46.8 14.5 31.0]\n",
      " [0.0 0.0 0.0 1.0 0.0 0.0 0.0 0.0 1.0 0.0 1.0 2.0 102.5 62.8 96.0 40.0\n",
      "  73.2 44.5 14.7 36.0]\n",
      " [0.0 1.0 0.0 0.0 0.0 0.0 0.0 1.0 0.0 0.0 1.0 2.0 90.6 55.7 85.5 36.5\n",
      "  73.1 53.1 14.4 28.5]\n",
      " [0.0 0.0 0.0 0.0 0.0 0.0 1.0 0.0 1.0 0.0 1.0 6.0 97.7 58.4 84.5 35.0\n",
      "  64.4 46.2 14.4 30.5]\n",
      " [0.0 0.0 0.0 0.0 0.0 0.0 1.0 0.0 1.0 1.0 0.0 3.0 93.6 59.9 89.0 40.0\n",
      "  67.6 46.0 14.8 33.5]\n",
      " [0.0 0.0 0.0 0.0 0.0 1.0 0.0 0.0 1.0 0.0 1.0 3.0 90.6 56.0 85.5 38.0\n",
      "  65.6 41.7 17.0 35.0]\n",
      " [1.0 0.0 0.0 0.0 0.0 0.0 0.0 1.0 0.0 0.0 1.0 2.0 93.5 55.7 90.0 36.0\n",
      "  73.7 55.4 15.3 32.0]\n",
      " [0.0 0.0 0.0 0.0 0.0 0.0 1.0 0.0 1.0 1.0 0.0 6.0 92.4 55.0 89.0 38.0\n",
      "  63.5 45.4 13.0 30.0]\n",
      " [0.0 0.0 0.0 0.0 1.0 0.0 0.0 0.0 1.0 0.0 1.0 5.0 94.1 56.0 88.5 38.0\n",
      "  65.9 43.1 17.4 30.0]]\n"
     ]
    }
   ],
   "source": [
    "print(X_test)"
   ]
  },
  {
   "cell_type": "markdown",
   "id": "b4ff335d",
   "metadata": {},
   "source": [
    "### Build the linear model"
   ]
  },
  {
   "cell_type": "code",
   "execution_count": 24,
   "id": "cb6b6722",
   "metadata": {},
   "outputs": [
    {
     "data": {
      "text/plain": [
       "LinearRegression()"
      ]
     },
     "execution_count": 24,
     "metadata": {},
     "output_type": "execute_result"
    }
   ],
   "source": [
    "regressor = LinearRegression()\n",
    "regressor.fit(X_train, y_train)"
   ]
  },
  {
   "cell_type": "markdown",
   "id": "dabf16ab",
   "metadata": {},
   "source": [
    "### Predict the test set"
   ]
  },
  {
   "cell_type": "code",
   "execution_count": 25,
   "id": "0c7ad0b8",
   "metadata": {},
   "outputs": [],
   "source": [
    "y_pred = regressor.predict(X_test)"
   ]
  },
  {
   "cell_type": "markdown",
   "id": "2b3915d9",
   "metadata": {},
   "source": [
    "### Compare y_test with y_pred and calculate r2_score"
   ]
  },
  {
   "cell_type": "code",
   "execution_count": 26,
   "id": "c05487c0",
   "metadata": {},
   "outputs": [
    {
     "name": "stdout",
     "output_type": "stream",
     "text": [
      "[[24.72841454 25.        ]\n",
      " [30.74933152 25.5       ]\n",
      " [24.78773407 26.        ]\n",
      " [26.58336061 26.        ]\n",
      " [23.87318005 25.        ]\n",
      " [27.27681192 27.        ]\n",
      " [29.60102296 30.        ]\n",
      " [24.9159897  26.        ]\n",
      " [28.20512181 28.        ]\n",
      " [30.12861061 31.        ]\n",
      " [26.30984424 28.        ]\n",
      " [26.70724668 25.        ]\n",
      " [25.39721505 25.5       ]\n",
      " [30.81540023 32.        ]\n",
      " [26.82805816 26.        ]\n",
      " [26.19248709 29.        ]\n",
      " [26.66052223 28.5       ]\n",
      " [26.06516026 27.5       ]\n",
      " [26.98626537 28.        ]\n",
      " [25.86469633 25.        ]\n",
      " [25.88321448 27.        ]]\n"
     ]
    }
   ],
   "source": [
    "print(np.concatenate((y_pred.reshape(len(y_pred),1), y_test.reshape(len(y_test),1)),1))"
   ]
  },
  {
   "cell_type": "code",
   "execution_count": 27,
   "id": "71a313e7",
   "metadata": {},
   "outputs": [
    {
     "name": "stdout",
     "output_type": "stream",
     "text": [
      "0.31354602857805425\n"
     ]
    }
   ],
   "source": [
    "print(r2_score(y_test, y_pred))"
   ]
  },
  {
   "cell_type": "code",
   "execution_count": null,
   "id": "5c29f6b8",
   "metadata": {},
   "outputs": [],
   "source": []
  }
 ],
 "metadata": {
  "kernelspec": {
   "display_name": "Python 3 (ipykernel)",
   "language": "python",
   "name": "python3"
  },
  "language_info": {
   "codemirror_mode": {
    "name": "ipython",
    "version": 3
   },
   "file_extension": ".py",
   "mimetype": "text/x-python",
   "name": "python",
   "nbconvert_exporter": "python",
   "pygments_lexer": "ipython3",
   "version": "3.9.7"
  }
 },
 "nbformat": 4,
 "nbformat_minor": 5
}

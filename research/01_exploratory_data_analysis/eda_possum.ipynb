{
 "cells": [
  {
   "cell_type": "code",
   "execution_count": 1,
   "id": "33eb95fa",
   "metadata": {},
   "outputs": [],
   "source": [
    "import pandas as pd\n",
    "import matplotlib.pyplot as plt\n",
    "import seaborn as sns\n",
    "import numpy as np\n",
    "from sklearn.model_selection import train_test_split\n",
    "from sklearn.linear_model import LinearRegression\n",
    "from sklearn.metrics import r2_score\n",
    "from sklearn.preprocessing import StandardScaler\n",
    "from sklearn.svm import SVR\n",
    "from sklearn.tree import DecisionTreeRegressor\n",
    "from sklearn.ensemble import RandomForestRegressor"
   ]
  },
  {
   "cell_type": "markdown",
   "id": "e513ecf2",
   "metadata": {},
   "source": [
    "## Read possum data to dataframe"
   ]
  },
  {
   "cell_type": "code",
   "execution_count": 2,
   "id": "2c5c1552",
   "metadata": {},
   "outputs": [],
   "source": [
    "possum = pd.read_csv('possum.csv')"
   ]
  },
  {
   "cell_type": "code",
   "execution_count": 3,
   "id": "01252d83",
   "metadata": {},
   "outputs": [
    {
     "data": {
      "text/html": [
       "<div>\n",
       "<style scoped>\n",
       "    .dataframe tbody tr th:only-of-type {\n",
       "        vertical-align: middle;\n",
       "    }\n",
       "\n",
       "    .dataframe tbody tr th {\n",
       "        vertical-align: top;\n",
       "    }\n",
       "\n",
       "    .dataframe thead th {\n",
       "        text-align: right;\n",
       "    }\n",
       "</style>\n",
       "<table border=\"1\" class=\"dataframe\">\n",
       "  <thead>\n",
       "    <tr style=\"text-align: right;\">\n",
       "      <th></th>\n",
       "      <th>case</th>\n",
       "      <th>site</th>\n",
       "      <th>Pop</th>\n",
       "      <th>sex</th>\n",
       "      <th>age</th>\n",
       "      <th>hdlngth</th>\n",
       "      <th>skullw</th>\n",
       "      <th>totlngth</th>\n",
       "      <th>taill</th>\n",
       "      <th>footlgth</th>\n",
       "      <th>earconch</th>\n",
       "      <th>eye</th>\n",
       "      <th>chest</th>\n",
       "      <th>belly</th>\n",
       "    </tr>\n",
       "  </thead>\n",
       "  <tbody>\n",
       "    <tr>\n",
       "      <th>0</th>\n",
       "      <td>1</td>\n",
       "      <td>1</td>\n",
       "      <td>Vic</td>\n",
       "      <td>m</td>\n",
       "      <td>8.0</td>\n",
       "      <td>94.1</td>\n",
       "      <td>60.4</td>\n",
       "      <td>89.0</td>\n",
       "      <td>36.0</td>\n",
       "      <td>74.5</td>\n",
       "      <td>54.5</td>\n",
       "      <td>15.2</td>\n",
       "      <td>28.0</td>\n",
       "      <td>36.0</td>\n",
       "    </tr>\n",
       "    <tr>\n",
       "      <th>1</th>\n",
       "      <td>2</td>\n",
       "      <td>1</td>\n",
       "      <td>Vic</td>\n",
       "      <td>f</td>\n",
       "      <td>6.0</td>\n",
       "      <td>92.5</td>\n",
       "      <td>57.6</td>\n",
       "      <td>91.5</td>\n",
       "      <td>36.5</td>\n",
       "      <td>72.5</td>\n",
       "      <td>51.2</td>\n",
       "      <td>16.0</td>\n",
       "      <td>28.5</td>\n",
       "      <td>33.0</td>\n",
       "    </tr>\n",
       "    <tr>\n",
       "      <th>2</th>\n",
       "      <td>3</td>\n",
       "      <td>1</td>\n",
       "      <td>Vic</td>\n",
       "      <td>f</td>\n",
       "      <td>6.0</td>\n",
       "      <td>94.0</td>\n",
       "      <td>60.0</td>\n",
       "      <td>95.5</td>\n",
       "      <td>39.0</td>\n",
       "      <td>75.4</td>\n",
       "      <td>51.9</td>\n",
       "      <td>15.5</td>\n",
       "      <td>30.0</td>\n",
       "      <td>34.0</td>\n",
       "    </tr>\n",
       "    <tr>\n",
       "      <th>3</th>\n",
       "      <td>4</td>\n",
       "      <td>1</td>\n",
       "      <td>Vic</td>\n",
       "      <td>f</td>\n",
       "      <td>6.0</td>\n",
       "      <td>93.2</td>\n",
       "      <td>57.1</td>\n",
       "      <td>92.0</td>\n",
       "      <td>38.0</td>\n",
       "      <td>76.1</td>\n",
       "      <td>52.2</td>\n",
       "      <td>15.2</td>\n",
       "      <td>28.0</td>\n",
       "      <td>34.0</td>\n",
       "    </tr>\n",
       "    <tr>\n",
       "      <th>4</th>\n",
       "      <td>5</td>\n",
       "      <td>1</td>\n",
       "      <td>Vic</td>\n",
       "      <td>f</td>\n",
       "      <td>2.0</td>\n",
       "      <td>91.5</td>\n",
       "      <td>56.3</td>\n",
       "      <td>85.5</td>\n",
       "      <td>36.0</td>\n",
       "      <td>71.0</td>\n",
       "      <td>53.2</td>\n",
       "      <td>15.1</td>\n",
       "      <td>28.5</td>\n",
       "      <td>33.0</td>\n",
       "    </tr>\n",
       "  </tbody>\n",
       "</table>\n",
       "</div>"
      ],
      "text/plain": [
       "   case  site  Pop sex  age  hdlngth  skullw  totlngth  taill  footlgth  \\\n",
       "0     1     1  Vic   m  8.0     94.1    60.4      89.0   36.0      74.5   \n",
       "1     2     1  Vic   f  6.0     92.5    57.6      91.5   36.5      72.5   \n",
       "2     3     1  Vic   f  6.0     94.0    60.0      95.5   39.0      75.4   \n",
       "3     4     1  Vic   f  6.0     93.2    57.1      92.0   38.0      76.1   \n",
       "4     5     1  Vic   f  2.0     91.5    56.3      85.5   36.0      71.0   \n",
       "\n",
       "   earconch   eye  chest  belly  \n",
       "0      54.5  15.2   28.0   36.0  \n",
       "1      51.2  16.0   28.5   33.0  \n",
       "2      51.9  15.5   30.0   34.0  \n",
       "3      52.2  15.2   28.0   34.0  \n",
       "4      53.2  15.1   28.5   33.0  "
      ]
     },
     "execution_count": 3,
     "metadata": {},
     "output_type": "execute_result"
    }
   ],
   "source": [
    "possum.head()"
   ]
  },
  {
   "cell_type": "code",
   "execution_count": 4,
   "id": "96d60811",
   "metadata": {},
   "outputs": [
    {
     "data": {
      "text/plain": [
       "case          int64\n",
       "site          int64\n",
       "Pop          object\n",
       "sex          object\n",
       "age         float64\n",
       "hdlngth     float64\n",
       "skullw      float64\n",
       "totlngth    float64\n",
       "taill       float64\n",
       "footlgth    float64\n",
       "earconch    float64\n",
       "eye         float64\n",
       "chest       float64\n",
       "belly       float64\n",
       "dtype: object"
      ]
     },
     "execution_count": 4,
     "metadata": {},
     "output_type": "execute_result"
    }
   ],
   "source": [
    "possum.dtypes"
   ]
  },
  {
   "cell_type": "code",
   "execution_count": 5,
   "id": "976dd112",
   "metadata": {},
   "outputs": [
    {
     "name": "stdout",
     "output_type": "stream",
     "text": [
      "<class 'pandas.core.frame.DataFrame'>\n",
      "RangeIndex: 104 entries, 0 to 103\n",
      "Data columns (total 14 columns):\n",
      " #   Column    Non-Null Count  Dtype  \n",
      "---  ------    --------------  -----  \n",
      " 0   case      104 non-null    int64  \n",
      " 1   site      104 non-null    int64  \n",
      " 2   Pop       104 non-null    object \n",
      " 3   sex       104 non-null    object \n",
      " 4   age       102 non-null    float64\n",
      " 5   hdlngth   104 non-null    float64\n",
      " 6   skullw    104 non-null    float64\n",
      " 7   totlngth  104 non-null    float64\n",
      " 8   taill     104 non-null    float64\n",
      " 9   footlgth  103 non-null    float64\n",
      " 10  earconch  104 non-null    float64\n",
      " 11  eye       104 non-null    float64\n",
      " 12  chest     104 non-null    float64\n",
      " 13  belly     104 non-null    float64\n",
      "dtypes: float64(10), int64(2), object(2)\n",
      "memory usage: 11.5+ KB\n"
     ]
    }
   ],
   "source": [
    "possum.info()"
   ]
  },
  {
   "cell_type": "code",
   "execution_count": 6,
   "id": "40563d11",
   "metadata": {},
   "outputs": [
    {
     "data": {
      "text/html": [
       "<div>\n",
       "<style scoped>\n",
       "    .dataframe tbody tr th:only-of-type {\n",
       "        vertical-align: middle;\n",
       "    }\n",
       "\n",
       "    .dataframe tbody tr th {\n",
       "        vertical-align: top;\n",
       "    }\n",
       "\n",
       "    .dataframe thead th {\n",
       "        text-align: right;\n",
       "    }\n",
       "</style>\n",
       "<table border=\"1\" class=\"dataframe\">\n",
       "  <thead>\n",
       "    <tr style=\"text-align: right;\">\n",
       "      <th></th>\n",
       "      <th>case</th>\n",
       "      <th>site</th>\n",
       "      <th>age</th>\n",
       "      <th>hdlngth</th>\n",
       "      <th>skullw</th>\n",
       "      <th>totlngth</th>\n",
       "      <th>taill</th>\n",
       "      <th>footlgth</th>\n",
       "      <th>earconch</th>\n",
       "      <th>eye</th>\n",
       "      <th>chest</th>\n",
       "      <th>belly</th>\n",
       "    </tr>\n",
       "  </thead>\n",
       "  <tbody>\n",
       "    <tr>\n",
       "      <th>count</th>\n",
       "      <td>104.000000</td>\n",
       "      <td>104.000000</td>\n",
       "      <td>102.000000</td>\n",
       "      <td>104.000000</td>\n",
       "      <td>104.000000</td>\n",
       "      <td>104.000000</td>\n",
       "      <td>104.000000</td>\n",
       "      <td>103.000000</td>\n",
       "      <td>104.000000</td>\n",
       "      <td>104.000000</td>\n",
       "      <td>104.000000</td>\n",
       "      <td>104.000000</td>\n",
       "    </tr>\n",
       "    <tr>\n",
       "      <th>mean</th>\n",
       "      <td>52.500000</td>\n",
       "      <td>3.625000</td>\n",
       "      <td>3.833333</td>\n",
       "      <td>92.602885</td>\n",
       "      <td>56.883654</td>\n",
       "      <td>87.088462</td>\n",
       "      <td>37.009615</td>\n",
       "      <td>68.459223</td>\n",
       "      <td>48.130769</td>\n",
       "      <td>15.046154</td>\n",
       "      <td>27.000000</td>\n",
       "      <td>32.586538</td>\n",
       "    </tr>\n",
       "    <tr>\n",
       "      <th>std</th>\n",
       "      <td>30.166206</td>\n",
       "      <td>2.349086</td>\n",
       "      <td>1.909244</td>\n",
       "      <td>3.573349</td>\n",
       "      <td>3.113426</td>\n",
       "      <td>4.310549</td>\n",
       "      <td>1.959518</td>\n",
       "      <td>4.395306</td>\n",
       "      <td>4.109380</td>\n",
       "      <td>1.050374</td>\n",
       "      <td>2.045597</td>\n",
       "      <td>2.761949</td>\n",
       "    </tr>\n",
       "    <tr>\n",
       "      <th>min</th>\n",
       "      <td>1.000000</td>\n",
       "      <td>1.000000</td>\n",
       "      <td>1.000000</td>\n",
       "      <td>82.500000</td>\n",
       "      <td>50.000000</td>\n",
       "      <td>75.000000</td>\n",
       "      <td>32.000000</td>\n",
       "      <td>60.300000</td>\n",
       "      <td>40.300000</td>\n",
       "      <td>12.800000</td>\n",
       "      <td>22.000000</td>\n",
       "      <td>25.000000</td>\n",
       "    </tr>\n",
       "    <tr>\n",
       "      <th>25%</th>\n",
       "      <td>26.750000</td>\n",
       "      <td>1.000000</td>\n",
       "      <td>2.250000</td>\n",
       "      <td>90.675000</td>\n",
       "      <td>54.975000</td>\n",
       "      <td>84.000000</td>\n",
       "      <td>35.875000</td>\n",
       "      <td>64.600000</td>\n",
       "      <td>44.800000</td>\n",
       "      <td>14.400000</td>\n",
       "      <td>25.500000</td>\n",
       "      <td>31.000000</td>\n",
       "    </tr>\n",
       "    <tr>\n",
       "      <th>50%</th>\n",
       "      <td>52.500000</td>\n",
       "      <td>3.000000</td>\n",
       "      <td>3.000000</td>\n",
       "      <td>92.800000</td>\n",
       "      <td>56.350000</td>\n",
       "      <td>88.000000</td>\n",
       "      <td>37.000000</td>\n",
       "      <td>68.000000</td>\n",
       "      <td>46.800000</td>\n",
       "      <td>14.900000</td>\n",
       "      <td>27.000000</td>\n",
       "      <td>32.500000</td>\n",
       "    </tr>\n",
       "    <tr>\n",
       "      <th>75%</th>\n",
       "      <td>78.250000</td>\n",
       "      <td>6.000000</td>\n",
       "      <td>5.000000</td>\n",
       "      <td>94.725000</td>\n",
       "      <td>58.100000</td>\n",
       "      <td>90.000000</td>\n",
       "      <td>38.000000</td>\n",
       "      <td>72.500000</td>\n",
       "      <td>52.000000</td>\n",
       "      <td>15.725000</td>\n",
       "      <td>28.000000</td>\n",
       "      <td>34.125000</td>\n",
       "    </tr>\n",
       "    <tr>\n",
       "      <th>max</th>\n",
       "      <td>104.000000</td>\n",
       "      <td>7.000000</td>\n",
       "      <td>9.000000</td>\n",
       "      <td>103.100000</td>\n",
       "      <td>68.600000</td>\n",
       "      <td>96.500000</td>\n",
       "      <td>43.000000</td>\n",
       "      <td>77.900000</td>\n",
       "      <td>56.200000</td>\n",
       "      <td>17.800000</td>\n",
       "      <td>32.000000</td>\n",
       "      <td>40.000000</td>\n",
       "    </tr>\n",
       "  </tbody>\n",
       "</table>\n",
       "</div>"
      ],
      "text/plain": [
       "             case        site         age     hdlngth      skullw    totlngth  \\\n",
       "count  104.000000  104.000000  102.000000  104.000000  104.000000  104.000000   \n",
       "mean    52.500000    3.625000    3.833333   92.602885   56.883654   87.088462   \n",
       "std     30.166206    2.349086    1.909244    3.573349    3.113426    4.310549   \n",
       "min      1.000000    1.000000    1.000000   82.500000   50.000000   75.000000   \n",
       "25%     26.750000    1.000000    2.250000   90.675000   54.975000   84.000000   \n",
       "50%     52.500000    3.000000    3.000000   92.800000   56.350000   88.000000   \n",
       "75%     78.250000    6.000000    5.000000   94.725000   58.100000   90.000000   \n",
       "max    104.000000    7.000000    9.000000  103.100000   68.600000   96.500000   \n",
       "\n",
       "            taill    footlgth    earconch         eye       chest       belly  \n",
       "count  104.000000  103.000000  104.000000  104.000000  104.000000  104.000000  \n",
       "mean    37.009615   68.459223   48.130769   15.046154   27.000000   32.586538  \n",
       "std      1.959518    4.395306    4.109380    1.050374    2.045597    2.761949  \n",
       "min     32.000000   60.300000   40.300000   12.800000   22.000000   25.000000  \n",
       "25%     35.875000   64.600000   44.800000   14.400000   25.500000   31.000000  \n",
       "50%     37.000000   68.000000   46.800000   14.900000   27.000000   32.500000  \n",
       "75%     38.000000   72.500000   52.000000   15.725000   28.000000   34.125000  \n",
       "max     43.000000   77.900000   56.200000   17.800000   32.000000   40.000000  "
      ]
     },
     "execution_count": 6,
     "metadata": {},
     "output_type": "execute_result"
    }
   ],
   "source": [
    "possum.describe()"
   ]
  },
  {
   "cell_type": "code",
   "execution_count": 7,
   "id": "cef78214",
   "metadata": {},
   "outputs": [
    {
     "data": {
      "text/plain": [
       "site\n",
       "1    33\n",
       "7    18\n",
       "2    13\n",
       "5    13\n",
       "6    13\n",
       "3     7\n",
       "4     7\n",
       "dtype: int64"
      ]
     },
     "execution_count": 7,
     "metadata": {},
     "output_type": "execute_result"
    }
   ],
   "source": [
    "possum.value_counts('site')"
   ]
  },
  {
   "cell_type": "code",
   "execution_count": 8,
   "id": "d0f81b5d",
   "metadata": {},
   "outputs": [
    {
     "data": {
      "text/plain": [
       "Pop\n",
       "other    58\n",
       "Vic      46\n",
       "dtype: int64"
      ]
     },
     "execution_count": 8,
     "metadata": {},
     "output_type": "execute_result"
    }
   ],
   "source": [
    "possum.value_counts('Pop')"
   ]
  },
  {
   "cell_type": "code",
   "execution_count": 9,
   "id": "06e7ce0a",
   "metadata": {},
   "outputs": [
    {
     "data": {
      "text/plain": [
       "sex\n",
       "m    61\n",
       "f    43\n",
       "dtype: int64"
      ]
     },
     "execution_count": 9,
     "metadata": {},
     "output_type": "execute_result"
    }
   ],
   "source": [
    "possum.value_counts('sex')"
   ]
  },
  {
   "cell_type": "code",
   "execution_count": 10,
   "id": "8843dfef",
   "metadata": {},
   "outputs": [
    {
     "name": "stdout",
     "output_type": "stream",
     "text": [
      "   Pop sex\n",
      "0  Vic   m\n",
      "1  Vic   f\n",
      "2  Vic   f\n",
      "3  Vic   f\n",
      "4  Vic   f\n"
     ]
    }
   ],
   "source": [
    "print(possum.select_dtypes(\"object\").head())"
   ]
  },
  {
   "cell_type": "code",
   "execution_count": 11,
   "id": "c9a1c7b8",
   "metadata": {},
   "outputs": [
    {
     "name": "stdout",
     "output_type": "stream",
     "text": [
      "2\n"
     ]
    }
   ],
   "source": [
    "print(possum['Pop'].nunique())"
   ]
  },
  {
   "cell_type": "markdown",
   "id": "fc6b1b4e",
   "metadata": {},
   "source": [
    "## Visualization of value distribution"
   ]
  },
  {
   "cell_type": "code",
   "execution_count": 12,
   "id": "df6cd51a",
   "metadata": {},
   "outputs": [
    {
     "data": {
      "image/png": "[encoded data removed]",
      "text/plain": [
       "<Figure size 1080x2160 with 14 Axes>"
      ]
     },
     "metadata": {},
     "output_type": "display_data"
    }
   ],
   "source": [
    "sns.set(style=\"darkgrid\")\n",
    "fig, axs = plt.subplots(7, 2, figsize=(15, 30))\n",
    "sns.histplot(data=possum, x='site', ax=axs[0, 0])\n",
    "sns.histplot(data=possum, x='Pop', ax=axs[0, 1])\n",
    "sns.histplot(data=possum, x='sex', ax=axs[1, 0])\n",
    "sns.histplot(data=possum, x='age', ax=axs[1, 1])\n",
    "sns.histplot(data=possum, x='hdlngth', ax=axs[2, 0])\n",
    "sns.histplot(data=possum, x='skullw', ax=axs[2, 1])\n",
    "sns.histplot(data=possum, x='totlngth', ax=axs[3, 0])\n",
    "sns.histplot(data=possum, x='taill', ax=axs[3, 1])\n",
    "sns.histplot(data=possum, x='footlgth', ax=axs[4, 0])\n",
    "sns.histplot(data=possum, x='earconch', ax=axs[4, 1])\n",
    "sns.histplot(data=possum, x='eye', ax=axs[5, 0])\n",
    "sns.histplot(data=possum, x='chest', ax=axs[5, 1])\n",
    "sns.histplot(data=possum, x='belly', ax=axs[6, 0])\n",
    "plt.show()"
   ]
  },
  {
   "cell_type": "markdown",
   "id": "bcc03ee6",
   "metadata": {},
   "source": [
    "## Handle missing data"
   ]
  },
  {
   "cell_type": "markdown",
   "id": "f6108cdb",
   "metadata": {},
   "source": [
    "#### count missing values"
   ]
  },
  {
   "cell_type": "code",
   "execution_count": 13,
   "id": "7ad6fabc",
   "metadata": {},
   "outputs": [
    {
     "name": "stdout",
     "output_type": "stream",
     "text": [
      "case        0\n",
      "site        0\n",
      "Pop         0\n",
      "sex         0\n",
      "age         2\n",
      "hdlngth     0\n",
      "skullw      0\n",
      "totlngth    0\n",
      "taill       0\n",
      "footlgth    1\n",
      "earconch    0\n",
      "eye         0\n",
      "chest       0\n",
      "belly       0\n",
      "dtype: int64\n"
     ]
    }
   ],
   "source": [
    "#print(possum.isna())\n",
    "print(possum.isna().sum())"
   ]
  },
  {
   "cell_type": "code",
   "execution_count": 14,
   "id": "ab071192",
   "metadata": {},
   "outputs": [
    {
     "name": "stdout",
     "output_type": "stream",
     "text": [
      "    case  site  Pop sex  age  hdlngth  skullw  totlngth  taill  footlgth  \\\n",
      "40    41     2  Vic   f  5.0     88.4    57.0      83.0   36.5       NaN   \n",
      "43    44     2  Vic   m  NaN     85.1    51.5      76.0   35.5      70.3   \n",
      "45    46     2  Vic   m  NaN     91.4    54.4      84.0   35.0      72.8   \n",
      "\n",
      "    earconch   eye  chest  belly  \n",
      "40      40.3  15.9   27.0   30.5  \n",
      "43      52.6  14.4   23.0   27.0  \n",
      "45      51.2  14.4   24.5   35.0  \n"
     ]
    }
   ],
   "source": [
    "print(possum[possum.isna().any(axis=1)])"
   ]
  },
  {
   "cell_type": "markdown",
   "id": "71e63605",
   "metadata": {},
   "source": [
    "#### calculate treshold"
   ]
  },
  {
   "cell_type": "code",
   "execution_count": 15,
   "id": "215f93c4",
   "metadata": {},
   "outputs": [
    {
     "name": "stdout",
     "output_type": "stream",
     "text": [
      "5.2\n"
     ]
    }
   ],
   "source": [
    "treshold = len(possum) * 0.05\n",
    "print(treshold)"
   ]
  },
  {
   "cell_type": "markdown",
   "id": "bf04b02e",
   "metadata": {},
   "source": [
    "#### drop missing values <= treshold"
   ]
  },
  {
   "cell_type": "code",
   "execution_count": 16,
   "id": "126ff493",
   "metadata": {},
   "outputs": [
    {
     "name": "stdout",
     "output_type": "stream",
     "text": [
      "Index(['case', 'site', 'Pop', 'sex', 'age', 'hdlngth', 'skullw', 'totlngth',\n",
      "       'taill', 'footlgth', 'earconch', 'eye', 'chest', 'belly'],\n",
      "      dtype='object')\n",
      "Index(['case', 'site', 'Pop', 'sex', 'age', 'hdlngth', 'skullw', 'totlngth',\n",
      "       'taill', 'footlgth', 'earconch', 'eye', 'chest', 'belly'],\n",
      "      dtype='object')\n"
     ]
    }
   ],
   "source": [
    "print(possum.columns)\n",
    "cols_to_drop = possum.columns[possum.isna().sum() <= treshold]\n",
    "print(cols_to_drop)"
   ]
  },
  {
   "cell_type": "code",
   "execution_count": 17,
   "id": "25a1af6d",
   "metadata": {},
   "outputs": [],
   "source": [
    "possum.dropna(subset=cols_to_drop, inplace=True)"
   ]
  },
  {
   "cell_type": "code",
   "execution_count": 18,
   "id": "2dda1fd0",
   "metadata": {},
   "outputs": [
    {
     "name": "stdout",
     "output_type": "stream",
     "text": [
      "case        0\n",
      "site        0\n",
      "Pop         0\n",
      "sex         0\n",
      "age         0\n",
      "hdlngth     0\n",
      "skullw      0\n",
      "totlngth    0\n",
      "taill       0\n",
      "footlgth    0\n",
      "earconch    0\n",
      "eye         0\n",
      "chest       0\n",
      "belly       0\n",
      "dtype: int64\n"
     ]
    }
   ],
   "source": [
    "print(possum.isna().sum())"
   ]
  },
  {
   "cell_type": "markdown",
   "id": "0a6b5504",
   "metadata": {},
   "source": [
    "## Insights to find"
   ]
  },
  {
   "cell_type": "markdown",
   "id": "4c7ed220",
   "metadata": {},
   "source": [
    "### Can we use total length to predict a possum's head length?"
   ]
  },
  {
   "cell_type": "code",
   "execution_count": 19,
   "id": "caf390ee",
   "metadata": {},
   "outputs": [
    {
     "data": {
      "image/png": "[encoded data removed]",
      "text/plain": [
       "<Figure size 432x288 with 1 Axes>"
      ]
     },
     "metadata": {},
     "output_type": "display_data"
    }
   ],
   "source": [
    "plt.scatter(possum['totlngth'], possum['hdlngth'])\n",
    "plt.xlabel('Total length in cm')\n",
    "plt.ylabel('Head length in mm')\n",
    "plt.show()"
   ]
  },
  {
   "cell_type": "markdown",
   "id": "c98cffe6",
   "metadata": {},
   "source": [
    "#### Simple Linear regression for predicting head length from total length"
   ]
  },
  {
   "cell_type": "code",
   "execution_count": 20,
   "id": "73d7d347",
   "metadata": {},
   "outputs": [],
   "source": [
    "X = possum.iloc[:, 7].values\n",
    "y = possum.iloc[:, 5].values"
   ]
  },
  {
   "cell_type": "code",
   "execution_count": 21,
   "id": "272f28dd",
   "metadata": {},
   "outputs": [],
   "source": [
    "X = np.reshape(X, (len(X), 1))"
   ]
  },
  {
   "cell_type": "code",
   "execution_count": 22,
   "id": "d78f3b12",
   "metadata": {},
   "outputs": [],
   "source": [
    "X_train, X_test, y_train, y_test = train_test_split(X, y, random_state=0)"
   ]
  },
  {
   "cell_type": "code",
   "execution_count": 23,
   "id": "5f2923b1",
   "metadata": {},
   "outputs": [],
   "source": [
    "regressor = LinearRegression()\n",
    "regressor.fit(X_train, y_train)\n",
    "y_pred = regressor.predict(X_test)"
   ]
  },
  {
   "cell_type": "code",
   "execution_count": 24,
   "id": "edf8e017",
   "metadata": {},
   "outputs": [
    {
     "data": {
      "image/png": "[encoded data removed]",
      "text/plain": [
       "<Figure size 432x288 with 1 Axes>"
      ]
     },
     "metadata": {},
     "output_type": "display_data"
    }
   ],
   "source": [
    "plt.scatter(X_train, y_train)\n",
    "plt.plot(X_train, regressor.predict(X_train), color='red')\n",
    "plt.title('Simple Linear Regression for predicting possum head length from total length - training set')\n",
    "plt.xlabel('total length')\n",
    "plt.ylabel('head length')\n",
    "plt.show()"
   ]
  },
  {
   "cell_type": "code",
   "execution_count": 25,
   "id": "38717921",
   "metadata": {},
   "outputs": [
    {
     "data": {
      "image/png": "[encoded data removed]",
      "text/plain": [
       "<Figure size 432x288 with 1 Axes>"
      ]
     },
     "metadata": {},
     "output_type": "display_data"
    }
   ],
   "source": [
    "plt.scatter(X_test, y_test)\n",
    "plt.plot(X_test, y_pred, color='red')\n",
    "plt.title('Simple Linear Regression for predicting possum head length from total length - test set')\n",
    "plt.xlabel('total length')\n",
    "plt.ylabel('head length')\n",
    "plt.show()"
   ]
  },
  {
   "cell_type": "code",
   "execution_count": 26,
   "id": "05e19b1c",
   "metadata": {},
   "outputs": [
    {
     "name": "stdout",
     "output_type": "stream",
     "text": [
      "0.5342726375167035\n"
     ]
    }
   ],
   "source": [
    "print(r2_score(y_test, y_pred))"
   ]
  },
  {
   "cell_type": "markdown",
   "id": "13c01ac3",
   "metadata": {},
   "source": [
    "#### => conclusion: LinearRegression may work, but try another algorithmn or add features (TODO)"
   ]
  },
  {
   "cell_type": "markdown",
   "id": "22670ed7",
   "metadata": {},
   "source": [
    "#### Decision Tree regression for predicting head length from total length"
   ]
  },
  {
   "cell_type": "code",
   "execution_count": 27,
   "id": "d275a620",
   "metadata": {},
   "outputs": [
    {
     "data": {
      "text/plain": [
       "DecisionTreeRegressor(random_state=0)"
      ]
     },
     "execution_count": 27,
     "metadata": {},
     "output_type": "execute_result"
    }
   ],
   "source": [
    "dec_tree_regressor = DecisionTreeRegressor(random_state=0)\n",
    "dec_tree_regressor.fit(X_train, y_train)"
   ]
  },
  {
   "cell_type": "code",
   "execution_count": 28,
   "id": "3a1d0978",
   "metadata": {},
   "outputs": [],
   "source": [
    "y_pred_dec_tree = dec_tree_regressor.predict(X_test)"
   ]
  },
  {
   "cell_type": "code",
   "execution_count": 29,
   "id": "45cfc473",
   "metadata": {},
   "outputs": [
    {
     "name": "stdout",
     "output_type": "stream",
     "text": [
      "0.39465907789291343\n"
     ]
    }
   ],
   "source": [
    "print(r2_score(y_test, y_pred_dec_tree))"
   ]
  },
  {
   "cell_type": "markdown",
   "id": "f8bbf703",
   "metadata": {},
   "source": [
    "#### => Conclusion: Decision Tree Regression performs worse!"
   ]
  },
  {
   "cell_type": "markdown",
   "id": "a4341ccf",
   "metadata": {},
   "source": [
    "#### Random Forest Regression"
   ]
  },
  {
   "cell_type": "code",
   "execution_count": 30,
   "id": "b785f0b7",
   "metadata": {},
   "outputs": [
    {
     "data": {
      "text/plain": [
       "RandomForestRegressor(n_estimators=20, random_state=0)"
      ]
     },
     "execution_count": 30,
     "metadata": {},
     "output_type": "execute_result"
    }
   ],
   "source": [
    "rf_regressor = RandomForestRegressor(n_estimators = 20, random_state = 0)\n",
    "rf_regressor.fit(X_train, y_train)"
   ]
  },
  {
   "cell_type": "code",
   "execution_count": 31,
   "id": "e9dd8159",
   "metadata": {},
   "outputs": [],
   "source": [
    "y_pred_rf = rf_regressor.predict(X_test)"
   ]
  },
  {
   "cell_type": "code",
   "execution_count": 32,
   "id": "7f9b75f1",
   "metadata": {},
   "outputs": [
    {
     "name": "stdout",
     "output_type": "stream",
     "text": [
      "0.4047032441220848\n"
     ]
    }
   ],
   "source": [
    "print(r2_score(y_test, y_pred_rf))"
   ]
  },
  {
   "cell_type": "markdown",
   "id": "5ee8cdd2",
   "metadata": {},
   "source": [
    "#### => Conclusion: seems to be not suitable as well"
   ]
  },
  {
   "cell_type": "markdown",
   "id": "59db1efc",
   "metadata": {},
   "source": [
    "#### SVR regression for predicting head length from total length"
   ]
  },
  {
   "cell_type": "code",
   "execution_count": 33,
   "id": "32b2e04f",
   "metadata": {},
   "outputs": [],
   "source": [
    "X = possum.iloc[:, 7].values\n",
    "y = possum.iloc[:, 5].values"
   ]
  },
  {
   "cell_type": "code",
   "execution_count": 34,
   "id": "7dbbe42b",
   "metadata": {},
   "outputs": [],
   "source": [
    "X = np.reshape(X, (len(X), 1))\n",
    "y = np.reshape(y, (len(y), 1))"
   ]
  },
  {
   "cell_type": "code",
   "execution_count": 35,
   "id": "a720bc27",
   "metadata": {},
   "outputs": [],
   "source": [
    "sc_X = StandardScaler()\n",
    "sc_y = StandardScaler()\n",
    "X = sc_X.fit_transform(X)\n",
    "y = sc_y.fit_transform(y)"
   ]
  },
  {
   "cell_type": "code",
   "execution_count": 36,
   "id": "619bf064",
   "metadata": {},
   "outputs": [],
   "source": [
    "X_train, X_test, y_train, y_test = train_test_split(X, y, random_state=0)"
   ]
  },
  {
   "cell_type": "code",
   "execution_count": 37,
   "id": "cc46bf33",
   "metadata": {},
   "outputs": [
    {
     "name": "stderr",
     "output_type": "stream",
     "text": [
      "C:\\ProgramData\\Anaconda3\\lib\\site-packages\\sklearn\\utils\\validation.py:63: DataConversionWarning: A column-vector y was passed when a 1d array was expected. Please change the shape of y to (n_samples, ), for example using ravel().\n",
      "  return f(*args, **kwargs)\n"
     ]
    },
    {
     "data": {
      "text/plain": [
       "SVR()"
      ]
     },
     "execution_count": 37,
     "metadata": {},
     "output_type": "execute_result"
    }
   ],
   "source": [
    "regressor = SVR(kernel = 'rbf')\n",
    "regressor.fit(X_train, y_train)"
   ]
  },
  {
   "cell_type": "code",
   "execution_count": 38,
   "id": "d89cd07c",
   "metadata": {},
   "outputs": [],
   "source": [
    "y_pred = sc_y.inverse_transform(regressor.predict(X_test))"
   ]
  },
  {
   "cell_type": "code",
   "execution_count": 39,
   "id": "3be8fb62",
   "metadata": {},
   "outputs": [
    {
     "name": "stdout",
     "output_type": "stream",
     "text": [
      "0.5270578644499222\n"
     ]
    }
   ],
   "source": [
    "print(r2_score(sc_y.inverse_transform(y_test), y_pred))"
   ]
  },
  {
   "cell_type": "markdown",
   "id": "f131f3d4",
   "metadata": {},
   "source": [
    "#### => Conclusion: SVR slightly worse than Simple Linear Regression"
   ]
  },
  {
   "cell_type": "markdown",
   "id": "53af196a",
   "metadata": {},
   "source": [
    "### Which possum body dimensions are most correlated with sex and age?"
   ]
  },
  {
   "cell_type": "code",
   "execution_count": 40,
   "id": "93b61de5",
   "metadata": {},
   "outputs": [
    {
     "data": {
      "image/png": "[encoded data removed]",
      "text/plain": [
       "<Figure size 1080x2160 with 10 Axes>"
      ]
     },
     "metadata": {},
     "output_type": "display_data"
    }
   ],
   "source": [
    "fig, axs = plt.subplots(5, 2, figsize=(15, 30))\n",
    "sns.boxplot(data=possum, x='hdlngth', y='sex', ax=axs[0, 0])\n",
    "sns.boxplot(data=possum, x='skullw', y='sex', ax=axs[0, 1])\n",
    "sns.boxplot(data=possum, x='totlngth', y='sex', ax=axs[1, 0])\n",
    "sns.boxplot(data=possum, x='taill', y='sex', ax=axs[1, 1])\n",
    "sns.boxplot(data=possum, x='footlgth', y='sex', ax=axs[2, 0])\n",
    "sns.boxplot(data=possum, x='earconch', y='sex', ax=axs[2, 1])\n",
    "sns.boxplot(data=possum, x='eye', y='sex', ax=axs[3, 0])\n",
    "sns.boxplot(data=possum, x='chest', y='sex', ax=axs[3, 1])\n",
    "sns.boxplot(data=possum, x='belly', y='sex', ax=axs[4, 0])\n",
    "plt.show()"
   ]
  },
  {
   "cell_type": "code",
   "execution_count": null,
   "id": "aaa0627e",
   "metadata": {},
   "outputs": [],
   "source": []
  },
  {
   "cell_type": "code",
   "execution_count": null,
   "id": "c3ebee4a",
   "metadata": {},
   "outputs": [],
   "source": []
  },
  {
   "cell_type": "code",
   "execution_count": null,
   "id": "ef369e52",
   "metadata": {},
   "outputs": [],
   "source": []
  },
  {
   "cell_type": "code",
   "execution_count": null,
   "id": "5bd6e33e",
   "metadata": {},
   "outputs": [],
   "source": []
  },
  {
   "cell_type": "code",
   "execution_count": null,
   "id": "8670a7b0",
   "metadata": {},
   "outputs": [],
   "source": []
  }
 ],
 "metadata": {
  "kernelspec": {
   "display_name": "Python 3 (ipykernel)",
   "language": "python",
   "name": "python3"
  },
  "language_info": {
   "codemirror_mode": {
    "name": "ipython",
    "version": 3
   },
   "file_extension": ".py",
   "mimetype": "text/x-python",
   "name": "python",
   "nbconvert_exporter": "python",
   "pygments_lexer": "ipython3",
   "version": "3.9.7"
  }
 },
 "nbformat": 4,
 "nbformat_minor": 5
}

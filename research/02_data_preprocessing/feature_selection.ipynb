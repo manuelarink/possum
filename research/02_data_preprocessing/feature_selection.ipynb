{
 "cells": [
  {
   "cell_type": "markdown",
   "id": "de345989",
   "metadata": {},
   "source": [
    "# Feature selection for Linear Regression on the Possum Dataset"
   ]
  },
  {
   "cell_type": "code",
   "execution_count": 1,
   "id": "fd742afa",
   "metadata": {},
   "outputs": [],
   "source": [
    "import pandas as pd\n",
    "import matplotlib.pyplot as plt\n",
    "import seaborn as sns\n",
    "import numpy as np\n",
    "from sklearn.compose import ColumnTransformer\n",
    "from sklearn.preprocessing import OneHotEncoder\n",
    "from sklearn.model_selection import train_test_split\n",
    "from sklearn.linear_model import LinearRegression\n",
    "from sklearn.metrics import r2_score"
   ]
  },
  {
   "cell_type": "markdown",
   "id": "7201caa4",
   "metadata": {},
   "source": [
    "## Read Possum data to dataframe"
   ]
  },
  {
   "cell_type": "code",
   "execution_count": 2,
   "id": "be246f6e",
   "metadata": {},
   "outputs": [
    {
     "name": "stdout",
     "output_type": "stream",
     "text": [
      "   case  site  Pop sex  age  hdlngth  skullw  totlngth  taill  footlgth  \\\n",
      "0     1     1  Vic   m  8.0     94.1    60.4      89.0   36.0      74.5   \n",
      "1     2     1  Vic   f  6.0     92.5    57.6      91.5   36.5      72.5   \n",
      "2     3     1  Vic   f  6.0     94.0    60.0      95.5   39.0      75.4   \n",
      "3     4     1  Vic   f  6.0     93.2    57.1      92.0   38.0      76.1   \n",
      "4     5     1  Vic   f  2.0     91.5    56.3      85.5   36.0      71.0   \n",
      "\n",
      "   earconch   eye  chest  belly  \n",
      "0      54.5  15.2   28.0   36.0  \n",
      "1      51.2  16.0   28.5   33.0  \n",
      "2      51.9  15.5   30.0   34.0  \n",
      "3      52.2  15.2   28.0   34.0  \n",
      "4      53.2  15.1   28.5   33.0  \n"
     ]
    }
   ],
   "source": [
    "possum = pd.read_csv('possum.csv')\n",
    "print(possum.head())"
   ]
  },
  {
   "cell_type": "markdown",
   "id": "dc1e2136",
   "metadata": {},
   "source": [
    "## First preprocessing - delete 'case' column as it is just an index"
   ]
  },
  {
   "cell_type": "code",
   "execution_count": 3,
   "id": "6b80e486",
   "metadata": {},
   "outputs": [
    {
     "name": "stdout",
     "output_type": "stream",
     "text": [
      "   site  Pop sex  age  hdlngth  skullw  totlngth  taill  footlgth  earconch  \\\n",
      "0     1  Vic   m  8.0     94.1    60.4      89.0   36.0      74.5      54.5   \n",
      "1     1  Vic   f  6.0     92.5    57.6      91.5   36.5      72.5      51.2   \n",
      "2     1  Vic   f  6.0     94.0    60.0      95.5   39.0      75.4      51.9   \n",
      "3     1  Vic   f  6.0     93.2    57.1      92.0   38.0      76.1      52.2   \n",
      "4     1  Vic   f  2.0     91.5    56.3      85.5   36.0      71.0      53.2   \n",
      "\n",
      "    eye  chest  belly  \n",
      "0  15.2   28.0   36.0  \n",
      "1  16.0   28.5   33.0  \n",
      "2  15.5   30.0   34.0  \n",
      "3  15.2   28.0   34.0  \n",
      "4  15.1   28.5   33.0  \n"
     ]
    }
   ],
   "source": [
    "possum = possum.drop('case', axis=1)\n",
    "print(possum.head())"
   ]
  },
  {
   "cell_type": "markdown",
   "id": "52863761",
   "metadata": {},
   "source": [
    "## Handle missing data"
   ]
  },
  {
   "cell_type": "markdown",
   "id": "117057ff",
   "metadata": {},
   "source": [
    "### count missing values"
   ]
  },
  {
   "cell_type": "code",
   "execution_count": 4,
   "id": "b19bdecf",
   "metadata": {},
   "outputs": [
    {
     "name": "stdout",
     "output_type": "stream",
     "text": [
      "site        0\n",
      "Pop         0\n",
      "sex         0\n",
      "age         2\n",
      "hdlngth     0\n",
      "skullw      0\n",
      "totlngth    0\n",
      "taill       0\n",
      "footlgth    1\n",
      "earconch    0\n",
      "eye         0\n",
      "chest       0\n",
      "belly       0\n",
      "dtype: int64\n"
     ]
    }
   ],
   "source": [
    "print(possum.isna().sum())"
   ]
  },
  {
   "cell_type": "markdown",
   "id": "823390cd",
   "metadata": {},
   "source": [
    "### calculate threshold for dropping observations with missing values"
   ]
  },
  {
   "cell_type": "code",
   "execution_count": 5,
   "id": "02cde357",
   "metadata": {},
   "outputs": [
    {
     "name": "stdout",
     "output_type": "stream",
     "text": [
      "5.2\n"
     ]
    }
   ],
   "source": [
    "treshold = len(possum) * 0.05\n",
    "print(treshold)"
   ]
  },
  {
   "cell_type": "markdown",
   "id": "6c78f016",
   "metadata": {},
   "source": [
    "### drop all rows with missing values for columns below treshold"
   ]
  },
  {
   "cell_type": "code",
   "execution_count": 6,
   "id": "a145bf7b",
   "metadata": {},
   "outputs": [
    {
     "name": "stdout",
     "output_type": "stream",
     "text": [
      "Index(['site', 'Pop', 'sex', 'age', 'hdlngth', 'skullw', 'totlngth', 'taill',\n",
      "       'footlgth', 'earconch', 'eye', 'chest', 'belly'],\n",
      "      dtype='object')\n"
     ]
    }
   ],
   "source": [
    "cols_to_drop = possum.columns[possum.isna().sum() <= treshold]\n",
    "print(cols_to_drop)"
   ]
  },
  {
   "cell_type": "code",
   "execution_count": 7,
   "id": "22dcdf50",
   "metadata": {},
   "outputs": [],
   "source": [
    "possum.dropna(subset=cols_to_drop, inplace=True)"
   ]
  },
  {
   "cell_type": "code",
   "execution_count": 8,
   "id": "71a4a9a9",
   "metadata": {},
   "outputs": [
    {
     "name": "stdout",
     "output_type": "stream",
     "text": [
      "site        0\n",
      "Pop         0\n",
      "sex         0\n",
      "age         0\n",
      "hdlngth     0\n",
      "skullw      0\n",
      "totlngth    0\n",
      "taill       0\n",
      "footlgth    0\n",
      "earconch    0\n",
      "eye         0\n",
      "chest       0\n",
      "belly       0\n",
      "dtype: int64\n"
     ]
    }
   ],
   "source": [
    "print(possum.isna().sum())"
   ]
  },
  {
   "cell_type": "markdown",
   "id": "4379f857",
   "metadata": {},
   "source": [
    "## Convert categorical data"
   ]
  },
  {
   "cell_type": "code",
   "execution_count": 9,
   "id": "b29533f1",
   "metadata": {},
   "outputs": [
    {
     "name": "stdout",
     "output_type": "stream",
     "text": [
      "<class 'pandas.core.frame.DataFrame'>\n",
      "Int64Index: 101 entries, 0 to 103\n",
      "Data columns (total 13 columns):\n",
      " #   Column    Non-Null Count  Dtype  \n",
      "---  ------    --------------  -----  \n",
      " 0   site      101 non-null    int64  \n",
      " 1   Pop       101 non-null    object \n",
      " 2   sex       101 non-null    object \n",
      " 3   age       101 non-null    float64\n",
      " 4   hdlngth   101 non-null    float64\n",
      " 5   skullw    101 non-null    float64\n",
      " 6   totlngth  101 non-null    float64\n",
      " 7   taill     101 non-null    float64\n",
      " 8   footlgth  101 non-null    float64\n",
      " 9   earconch  101 non-null    float64\n",
      " 10  eye       101 non-null    float64\n",
      " 11  chest     101 non-null    float64\n",
      " 12  belly     101 non-null    float64\n",
      "dtypes: float64(10), int64(1), object(2)\n",
      "memory usage: 11.0+ KB\n",
      "None\n"
     ]
    }
   ],
   "source": [
    "print(possum.info())"
   ]
  },
  {
   "cell_type": "markdown",
   "id": "7a6a48c6",
   "metadata": {},
   "source": [
    "#### => We have to deal with Pop and sex. What about site?"
   ]
  },
  {
   "cell_type": "code",
   "execution_count": 10,
   "id": "e3772e23",
   "metadata": {},
   "outputs": [
    {
     "name": "stdout",
     "output_type": "stream",
     "text": [
      "7\n"
     ]
    }
   ],
   "source": [
    "print(possum['site'].nunique())"
   ]
  },
  {
   "cell_type": "markdown",
   "id": "21773252",
   "metadata": {},
   "source": [
    "Site contains categorical data encoded as ordinal data. Since there is no natural order between the values of site, it may be better to use OneHotEncoding."
   ]
  },
  {
   "cell_type": "markdown",
   "id": "291bb3c2",
   "metadata": {},
   "source": [
    "####  convert 'Pop' and 'sex' "
   ]
  },
  {
   "cell_type": "code",
   "execution_count": 11,
   "id": "33e89af1",
   "metadata": {},
   "outputs": [
    {
     "name": "stdout",
     "output_type": "stream",
     "text": [
      "2\n",
      "2\n"
     ]
    }
   ],
   "source": [
    "print(possum['Pop'].nunique())\n",
    "print(possum['sex'].nunique())"
   ]
  },
  {
   "cell_type": "markdown",
   "id": "63fea7d2",
   "metadata": {},
   "source": [
    "Pop and sex contain categorical data with no natural order between the values, so we should use OneHotEncoding (or in this case LabelEncoding as well, as there are just 2 values for each Pop and sex and a LabelEncoding would result in 0 - 1 values.)"
   ]
  },
  {
   "cell_type": "code",
   "execution_count": 12,
   "id": "f466694f",
   "metadata": {},
   "outputs": [
    {
     "name": "stdout",
     "output_type": "stream",
     "text": [
      "[[ 1.   0.   0.  ... 15.2 28.  36. ]\n",
      " [ 1.   0.   0.  ... 16.  28.5 33. ]\n",
      " [ 1.   0.   0.  ... 15.5 30.  34. ]\n",
      " ...\n",
      " [ 0.   0.   0.  ... 13.  25.  30. ]\n",
      " [ 0.   0.   0.  ... 15.4 25.  29. ]\n",
      " [ 0.   0.   0.  ... 14.8 28.5 33.5]]\n"
     ]
    }
   ],
   "source": [
    "ct = ColumnTransformer(transformers=[('encoder', OneHotEncoder(), [0, 1, 2])], remainder='passthrough')\n",
    "X = np.array(ct.fit_transform(possum))\n",
    "print(X)"
   ]
  },
  {
   "cell_type": "markdown",
   "id": "2a89f378",
   "metadata": {},
   "source": [
    "We now have a numpy matrix with only numerical data and without missing values that we can buil our Regression models from."
   ]
  },
  {
   "cell_type": "markdown",
   "id": "9bc08124",
   "metadata": {},
   "source": [
    "### Feature selection techniques"
   ]
  },
  {
   "cell_type": "markdown",
   "id": "20813d7c",
   "metadata": {},
   "source": [
    "#### 1. Filter method using Pearson correlation matrix"
   ]
  },
  {
   "cell_type": "markdown",
   "id": "de153878",
   "metadata": {},
   "source": [
    "Correlation matrix can only be used on columns with numerical data, so we have to drop the columns site, Pop and sex first."
   ]
  },
  {
   "cell_type": "code",
   "execution_count": 13,
   "id": "0719f702",
   "metadata": {},
   "outputs": [
    {
     "name": "stdout",
     "output_type": "stream",
     "text": [
      "   age  hdlngth  skullw  totlngth  taill  footlgth  earconch   eye  chest  \\\n",
      "0  8.0     94.1    60.4      89.0   36.0      74.5      54.5  15.2   28.0   \n",
      "1  6.0     92.5    57.6      91.5   36.5      72.5      51.2  16.0   28.5   \n",
      "2  6.0     94.0    60.0      95.5   39.0      75.4      51.9  15.5   30.0   \n",
      "3  6.0     93.2    57.1      92.0   38.0      76.1      52.2  15.2   28.0   \n",
      "4  2.0     91.5    56.3      85.5   36.0      71.0      53.2  15.1   28.5   \n",
      "\n",
      "   belly  \n",
      "0   36.0  \n",
      "1   33.0  \n",
      "2   34.0  \n",
      "3   34.0  \n",
      "4   33.0  \n"
     ]
    }
   ],
   "source": [
    "possum_numerical = possum.drop(['site', 'Pop', 'sex'], axis=1)\n",
    "print(possum_numerical.head())"
   ]
  },
  {
   "cell_type": "code",
   "execution_count": 14,
   "id": "e7e5bbfd",
   "metadata": {},
   "outputs": [
    {
     "name": "stdout",
     "output_type": "stream",
     "text": [
      "               age   hdlngth    skullw  totlngth     taill  footlgth  \\\n",
      "age       1.000000  0.329505  0.285563  0.268297  0.120205  0.126190   \n",
      "hdlngth   0.329505  1.000000  0.705901  0.670402  0.275155  0.415945   \n",
      "skullw    0.285563  0.705901  1.000000  0.506382  0.241027  0.297197   \n",
      "totlngth  0.268297  0.670402  0.506382  1.000000  0.563586  0.483174   \n",
      "taill     0.120205  0.275155  0.241027  0.563586  1.000000 -0.114560   \n",
      "footlgth  0.126190  0.415945  0.297197  0.483174 -0.114560  1.000000   \n",
      "earconch  0.066234  0.131576  0.025293  0.181230 -0.387871  0.782415   \n",
      "eye       0.231857  0.354688  0.314319  0.247150  0.192341  0.013869   \n",
      "chest     0.335030  0.621068  0.613842  0.556094  0.152924  0.486477   \n",
      "belly     0.360816  0.545438  0.444216  0.500558  0.296206  0.311970   \n",
      "\n",
      "          earconch       eye     chest     belly  \n",
      "age       0.066234  0.231857  0.335030  0.360816  \n",
      "hdlngth   0.131576  0.354688  0.621068  0.545438  \n",
      "skullw    0.025293  0.314319  0.613842  0.444216  \n",
      "totlngth  0.181230  0.247150  0.556094  0.500558  \n",
      "taill    -0.387871  0.192341  0.152924  0.296206  \n",
      "footlgth  0.782415  0.013869  0.486477  0.311970  \n",
      "earconch  1.000000 -0.143869  0.241359  0.071309  \n",
      "eye      -0.143869  1.000000  0.134730  0.242902  \n",
      "chest     0.241359  0.134730  1.000000  0.609757  \n",
      "belly     0.071309  0.242902  0.609757  1.000000  \n"
     ]
    }
   ],
   "source": [
    "cor = possum_numerical.corr()\n",
    "print(cor)"
   ]
  },
  {
   "cell_type": "markdown",
   "id": "39af1bc9",
   "metadata": {},
   "source": [
    "##### Visualize the correlation matrix with a heatmap"
   ]
  },
  {
   "cell_type": "code",
   "execution_count": 15,
   "id": "8b9c5e30",
   "metadata": {},
   "outputs": [
    {
     "data": {
      "image/png": "[encoded data removed]",
      "text/plain": [
       "<Figure size 1080x1080 with 2 Axes>"
      ]
     },
     "metadata": {
      "needs_background": "light"
     },
     "output_type": "display_data"
    }
   ],
   "source": [
    "plt.figure(figsize=(15, 15))\n",
    "#sns.set(font_scale=1.5)\n",
    "sns.heatmap(cor, annot=True, cmap=plt.cm.Reds)\n",
    "plt.show()"
   ]
  },
  {
   "cell_type": "markdown",
   "id": "3abf6ddd",
   "metadata": {},
   "source": [
    "#### Select best features subset for target headlength (output variable)"
   ]
  },
  {
   "cell_type": "code",
   "execution_count": 16,
   "id": "bd479686",
   "metadata": {},
   "outputs": [
    {
     "name": "stdout",
     "output_type": "stream",
     "text": [
      "hdlngth     1.000000\n",
      "skullw      0.705901\n",
      "totlngth    0.670402\n",
      "chest       0.621068\n",
      "belly       0.545438\n",
      "Name: hdlngth, dtype: float64\n"
     ]
    }
   ],
   "source": [
    "cor_target = abs(cor[\"hdlngth\"])\n",
    "#print(cor_target)\n",
    "relevant_features = cor_target[cor_target > 0.5]\n",
    "print(relevant_features)"
   ]
  },
  {
   "cell_type": "markdown",
   "id": "2bc2c2ac",
   "metadata": {},
   "source": [
    "Now we need to check if the relevant features (skullw, totlngth, chest and belly) are correlated with each other, because for Linear Regression the indenpendent variables need to be uncorrelated with each other."
   ]
  },
  {
   "cell_type": "code",
   "execution_count": 17,
   "id": "26e2e4f9",
   "metadata": {},
   "outputs": [
    {
     "name": "stdout",
     "output_type": "stream",
     "text": [
      "            skullw  totlngth\n",
      "skullw    1.000000  0.506382\n",
      "totlngth  0.506382  1.000000\n"
     ]
    }
   ],
   "source": [
    "print(possum_numerical[[\"skullw\", \"totlngth\"]].corr())"
   ]
  },
  {
   "cell_type": "code",
   "execution_count": 18,
   "id": "df1dc575",
   "metadata": {},
   "outputs": [
    {
     "name": "stdout",
     "output_type": "stream",
     "text": [
      "          skullw     chest\n",
      "skullw  1.000000  0.613842\n",
      "chest   0.613842  1.000000\n"
     ]
    }
   ],
   "source": [
    "print(possum_numerical[[\"skullw\", \"chest\"]].corr())"
   ]
  },
  {
   "cell_type": "code",
   "execution_count": 19,
   "id": "e3f4aa25",
   "metadata": {},
   "outputs": [
    {
     "name": "stdout",
     "output_type": "stream",
     "text": [
      "          skullw     belly\n",
      "skullw  1.000000  0.444216\n",
      "belly   0.444216  1.000000\n"
     ]
    }
   ],
   "source": [
    "print(possum_numerical[[\"skullw\", \"belly\"]].corr())"
   ]
  },
  {
   "cell_type": "markdown",
   "id": "f0b827ee",
   "metadata": {},
   "source": [
    "As we can see skullw and chest are highly correlated with each other, so we drop chest and keep skullw (because it is higher correlated with hdlngth)."
   ]
  },
  {
   "cell_type": "code",
   "execution_count": 20,
   "id": "2a30cff5",
   "metadata": {},
   "outputs": [
    {
     "name": "stdout",
     "output_type": "stream",
     "text": [
      "          totlngth     belly\n",
      "totlngth  1.000000  0.500558\n",
      "belly     0.500558  1.000000\n"
     ]
    }
   ],
   "source": [
    "print(possum_numerical[[\"totlngth\", \"belly\"]].corr())"
   ]
  },
  {
   "cell_type": "markdown",
   "id": "45fa46d4",
   "metadata": {},
   "source": [
    "We keep totlngth and belly with medium correlations between each other (maybe we drop them later if LinearRegression doesn't perform well)."
   ]
  },
  {
   "cell_type": "markdown",
   "id": "d09dafa2",
   "metadata": {},
   "source": [
    "#### => Our subset of best features for prediction of hdlngth is skullw, totlngth and belly. "
   ]
  },
  {
   "cell_type": "markdown",
   "id": "87d1eb5e",
   "metadata": {},
   "source": [
    "#### Let's build a simple Linear Regression Model with these features"
   ]
  },
  {
   "cell_type": "code",
   "execution_count": 21,
   "id": "1f47508f",
   "metadata": {},
   "outputs": [
    {
     "name": "stdout",
     "output_type": "stream",
     "text": [
      "[[60.4 89.  36. ]\n",
      " [57.6 91.5 33. ]\n",
      " [60.  95.5 34. ]\n",
      " [57.1 92.  34. ]\n",
      " [56.3 85.5 33. ]\n",
      " [54.8 90.5 32. ]\n",
      " [58.2 89.5 34.5]\n",
      " [57.6 91.  34. ]\n",
      " [56.3 91.5 33. ]\n",
      " [58.  89.5 32. ]\n",
      " [57.2 89.5 34. ]\n",
      " [55.6 92.  33. ]\n",
      " [59.9 89.5 32. ]\n",
      " [57.6 91.5 31.5]\n",
      " [57.6 85.5 35. ]\n",
      " [56.  86.  32. ]\n",
      " [67.7 89.5 31. ]\n",
      " [55.7 90.  32. ]\n",
      " [55.4 90.5 32. ]\n",
      " [56.3 89.  36. ]\n",
      " [58.1 96.5 40. ]\n",
      " [58.5 91.  36. ]\n",
      " [56.1 89.  35. ]\n",
      " [54.9 84.  32. ]\n",
      " [58.5 91.5 35. ]\n",
      " [59.  90.  38. ]\n",
      " [54.5 85.  28. ]\n",
      " [56.8 87.  30. ]\n",
      " [56.  88.  32. ]\n",
      " [54.4 84.  33. ]\n",
      " [54.1 93.  31. ]\n",
      " [56.7 94.  34. ]\n",
      " [54.6 89.  30. ]\n",
      " [55.7 85.5 28.5]\n",
      " [57.9 85.  35.5]\n",
      " [59.3 88.  36. ]\n",
      " [54.8 82.5 31.5]\n",
      " [56.  80.5 30. ]\n",
      " [51.5 75.  25. ]\n",
      " [55.  84.5 30. ]\n",
      " [54.1 77.  33. ]\n",
      " [55.5 81.  31. ]\n",
      " [55.9 81.  31.5]\n",
      " [54.8 89.  33. ]\n",
      " [63.2 85.  35. ]\n",
      " [59.2 85.  35.5]\n",
      " [56.4 88.  36. ]\n",
      " [59.6 85.  38.5]\n",
      " [61.  93.5 32.5]\n",
      " [58.1 91.  33.5]\n",
      " [63.  91.5 36.5]\n",
      " [63.2 92.5 36. ]\n",
      " [61.5 93.7 31.5]\n",
      " [59.4 93.  39. ]\n",
      " [64.2 91.  33. ]\n",
      " [62.8 96.  36. ]\n",
      " [57.7 88.  30. ]\n",
      " [59.  86.  31. ]\n",
      " [58.  90.5 32. ]\n",
      " [56.4 88.5 28.5]\n",
      " [56.5 89.5 33. ]\n",
      " [57.4 88.5 38.5]\n",
      " [55.8 86.  34. ]\n",
      " [57.6 85.  29.5]\n",
      " [56.  88.5 30. ]\n",
      " [55.6 88.  34. ]\n",
      " [56.4 87.  34. ]\n",
      " [57.6 90.  34. ]\n",
      " [52.4 80.5 30. ]\n",
      " [52.3 82.  28. ]\n",
      " [52.  83.  34. ]\n",
      " [58.1 89.  33.5]\n",
      " [56.8 89.  33. ]\n",
      " [56.2 84.  35. ]\n",
      " [51.  81.  28. ]\n",
      " [50.  81.  28.5]\n",
      " [52.6 84.  30.5]\n",
      " [56.  85.5 35. ]\n",
      " [54.  82.  32. ]\n",
      " [53.8 81.5 29. ]\n",
      " [54.6 80.5 28.5]\n",
      " [56.2 92.  31.5]\n",
      " [53.2 86.5 31. ]\n",
      " [60.7 93.  36. ]\n",
      " [58.  87.5 31.5]\n",
      " [58.4 84.5 30.5]\n",
      " [54.6 85.  32.5]\n",
      " [59.6 89.  32. ]\n",
      " [56.3 85.  31. ]\n",
      " [54.  82.  31. ]\n",
      " [57.6 84.  35. ]\n",
      " [56.6 88.5 31. ]\n",
      " [55.7 83.  33. ]\n",
      " [53.1 86.  31.5]\n",
      " [68.6 84.  32. ]\n",
      " [56.2 86.5 35. ]\n",
      " [56.  81.5 27. ]\n",
      " [54.7 82.5 33. ]\n",
      " [55.  89.  30. ]\n",
      " [55.2 82.5 29. ]\n",
      " [59.9 89.  33.5]]\n",
      "[[ 94.1]\n",
      " [ 92.5]\n",
      " [ 94. ]\n",
      " [ 93.2]\n",
      " [ 91.5]\n",
      " [ 93.1]\n",
      " [ 95.3]\n",
      " [ 94.8]\n",
      " [ 93.4]\n",
      " [ 91.8]\n",
      " [ 93.3]\n",
      " [ 94.9]\n",
      " [ 95.1]\n",
      " [ 95.4]\n",
      " [ 92.9]\n",
      " [ 91.6]\n",
      " [ 94.7]\n",
      " [ 93.5]\n",
      " [ 94.4]\n",
      " [ 94.8]\n",
      " [ 95.9]\n",
      " [ 96.3]\n",
      " [ 92.5]\n",
      " [ 94.4]\n",
      " [ 95.8]\n",
      " [ 96. ]\n",
      " [ 90.5]\n",
      " [ 93.8]\n",
      " [ 92.8]\n",
      " [ 92.1]\n",
      " [ 92.8]\n",
      " [ 94.3]\n",
      " [ 91.4]\n",
      " [ 90.6]\n",
      " [ 94.4]\n",
      " [ 93.3]\n",
      " [ 89.3]\n",
      " [ 92.4]\n",
      " [ 84.7]\n",
      " [ 91. ]\n",
      " [ 85.3]\n",
      " [ 90. ]\n",
      " [ 90.7]\n",
      " [ 90.1]\n",
      " [ 98.6]\n",
      " [ 95.4]\n",
      " [ 91.6]\n",
      " [ 95.6]\n",
      " [ 97.6]\n",
      " [ 93.1]\n",
      " [ 96.9]\n",
      " [103.1]\n",
      " [ 99.9]\n",
      " [ 95.1]\n",
      " [ 94.5]\n",
      " [102.5]\n",
      " [ 91.3]\n",
      " [ 95.7]\n",
      " [ 91.3]\n",
      " [ 92. ]\n",
      " [ 96.9]\n",
      " [ 93.5]\n",
      " [ 90.4]\n",
      " [ 93.3]\n",
      " [ 94.1]\n",
      " [ 98. ]\n",
      " [ 91.9]\n",
      " [ 92.8]\n",
      " [ 85.9]\n",
      " [ 82.5]\n",
      " [ 88.7]\n",
      " [ 93.8]\n",
      " [ 92.4]\n",
      " [ 93.6]\n",
      " [ 86.5]\n",
      " [ 85.8]\n",
      " [ 86.7]\n",
      " [ 90.6]\n",
      " [ 86. ]\n",
      " [ 90. ]\n",
      " [ 88.4]\n",
      " [ 89.5]\n",
      " [ 88.2]\n",
      " [ 98.5]\n",
      " [ 89.6]\n",
      " [ 97.7]\n",
      " [ 92.6]\n",
      " [ 97.8]\n",
      " [ 90.7]\n",
      " [ 89.2]\n",
      " [ 91.8]\n",
      " [ 91.6]\n",
      " [ 94.8]\n",
      " [ 91. ]\n",
      " [ 93.2]\n",
      " [ 93.3]\n",
      " [ 89.5]\n",
      " [ 88.6]\n",
      " [ 92.4]\n",
      " [ 91.5]\n",
      " [ 93.6]]\n"
     ]
    }
   ],
   "source": [
    "X_best_features = possum_numerical[[\"skullw\", \"totlngth\", \"belly\"]].iloc[:, :].values\n",
    "print(X_best_features)\n",
    "y = possum_numerical[[\"hdlngth\"]].iloc[:, :].values\n",
    "print(y)"
   ]
  },
  {
   "cell_type": "code",
   "execution_count": 22,
   "id": "db9c5f6d",
   "metadata": {},
   "outputs": [],
   "source": [
    "X_train, X_test, y_train, y_test = train_test_split(X_best_features, y, random_state=0)"
   ]
  },
  {
   "cell_type": "code",
   "execution_count": 23,
   "id": "f74001fa",
   "metadata": {},
   "outputs": [
    {
     "data": {
      "text/plain": [
       "LinearRegression()"
      ]
     },
     "execution_count": 23,
     "metadata": {},
     "output_type": "execute_result"
    }
   ],
   "source": [
    "regressor = LinearRegression()\n",
    "regressor.fit(X_train, y_train)"
   ]
  },
  {
   "cell_type": "code",
   "execution_count": 24,
   "id": "0f72e7d5",
   "metadata": {},
   "outputs": [],
   "source": [
    "y_pred = regressor.predict(X_test)"
   ]
  },
  {
   "cell_type": "code",
   "execution_count": 25,
   "id": "599a09d9",
   "metadata": {},
   "outputs": [
    {
     "name": "stdout",
     "output_type": "stream",
     "text": [
      "0.2231532562589238\n"
     ]
    }
   ],
   "source": [
    "print(r2_score(y_test, y_pred))"
   ]
  },
  {
   "cell_type": "markdown",
   "id": "671e9f4f",
   "metadata": {},
   "source": [
    "#### => poor result! Why does the algorithm perform so bad with the selected features? Without skullw the preformance is better."
   ]
  },
  {
   "cell_type": "code",
   "execution_count": 26,
   "id": "5ed50f1e",
   "metadata": {},
   "outputs": [
    {
     "name": "stdout",
     "output_type": "stream",
     "text": [
      "            skullw  totlngth     belly\n",
      "skullw    1.000000  0.506382  0.444216\n",
      "totlngth  0.506382  1.000000  0.500558\n",
      "belly     0.444216  0.500558  1.000000\n"
     ]
    }
   ],
   "source": [
    "print(possum_numerical[[\"skullw\", \"totlngth\", \"belly\"]].corr())"
   ]
  },
  {
   "cell_type": "code",
   "execution_count": 27,
   "id": "fb890718",
   "metadata": {},
   "outputs": [
    {
     "data": {
      "image/png": "[encoded data removed]",
      "text/plain": [
       "<Figure size 864x360 with 4 Axes>"
      ]
     },
     "metadata": {
      "needs_background": "light"
     },
     "output_type": "display_data"
    }
   ],
   "source": [
    "plt.figure(figsize=(12, 5))\n",
    "plt.subplot(1, 4, 1)\n",
    "plt.scatter(possum_numerical[\"skullw\"], possum_numerical[\"hdlngth\"])\n",
    "plt.xlabel(\"skullw\")\n",
    "plt.ylabel(\"hdlngth\")\n",
    "\n",
    "plt.subplot(1, 4, 2)\n",
    "plt.scatter(possum_numerical[\"totlngth\"], possum_numerical[\"hdlngth\"])\n",
    "plt.xlabel(\"totlngth\")\n",
    "plt.ylabel(\"hdlngth\")\n",
    "\n",
    "plt.subplot(1, 4, 3)\n",
    "plt.scatter(possum_numerical[\"belly\"], possum_numerical[\"hdlngth\"])\n",
    "plt.xlabel(\"belly\")\n",
    "plt.ylabel(\"hdlngth\")\n",
    "\n",
    "plt.subplot(1, 4, 4)\n",
    "plt.scatter(possum_numerical[\"chest\"], possum_numerical[\"hdlngth\"])\n",
    "plt.xlabel(\"chest\")\n",
    "plt.ylabel(\"hdlngth\")\n",
    "\n",
    "plt.tight_layout()\n",
    "plt.show()"
   ]
  },
  {
   "cell_type": "markdown",
   "id": "75d77f19",
   "metadata": {},
   "source": [
    "#### Visualize interaction between different features using pairplot"
   ]
  },
  {
   "cell_type": "code",
   "execution_count": 34,
   "id": "81daae4c",
   "metadata": {},
   "outputs": [
    {
     "data": {
      "image/png": "[encoded data removed]",
      "text/plain": [
       "<Figure size 720x720 with 20 Axes>"
      ]
     },
     "metadata": {
      "needs_background": "light"
     },
     "output_type": "display_data"
    }
   ],
   "source": [
    "sns.pairplot(possum_numerical[[\"skullw\", \"chest\", \"totlngth\", \"belly\"]])\n",
    "plt.show()"
   ]
  },
  {
   "cell_type": "markdown",
   "id": "41384fe5",
   "metadata": {},
   "source": [
    "#### Try to perform better with chest, totlngth and belly (correlation matrix find's the highest correlations but may not find the best subset)"
   ]
  },
  {
   "cell_type": "code",
   "execution_count": 29,
   "id": "4c0f3bac",
   "metadata": {},
   "outputs": [
    {
     "name": "stdout",
     "output_type": "stream",
     "text": [
      "[[28.  89.  36. ]\n",
      " [28.5 91.5 33. ]\n",
      " [30.  95.5 34. ]\n",
      " [28.  92.  34. ]\n",
      " [28.5 85.5 33. ]\n",
      " [30.  90.5 32. ]\n",
      " [30.  89.5 34.5]\n",
      " [29.  91.  34. ]\n",
      " [28.  91.5 33. ]\n",
      " [27.5 89.5 32. ]\n",
      " [31.  89.5 34. ]\n",
      " [28.  92.  33. ]\n",
      " [27.  89.5 32. ]\n",
      " [28.  91.5 31.5]\n",
      " [28.  85.5 35. ]\n",
      " [28.  86.  32. ]\n",
      " [29.  89.5 31. ]\n",
      " [28.  90.  32. ]\n",
      " [28.  90.5 32. ]\n",
      " [27.  89.  36. ]\n",
      " [30.  96.5 40. ]\n",
      " [28.  91.  36. ]\n",
      " [28.  89.  35. ]\n",
      " [27.  84.  32. ]\n",
      " [31.  91.5 35. ]\n",
      " [29.  90.  38. ]\n",
      " [23.  85.  28. ]\n",
      " [27.  87.  30. ]\n",
      " [24.  88.  32. ]\n",
      " [24.5 84.  33. ]\n",
      " [27.  93.  31. ]\n",
      " [28.  94.  34. ]\n",
      " [24.  89.  30. ]\n",
      " [26.  85.5 28.5]\n",
      " [28.  85.  35.5]\n",
      " [25.5 88.  36. ]\n",
      " [28.  82.5 31.5]\n",
      " [27.  80.5 30. ]\n",
      " [25.  75.  25. ]\n",
      " [27.  84.5 30. ]\n",
      " [25.5 77.  33. ]\n",
      " [29.  81.  31. ]\n",
      " [27.  81.  31.5]\n",
      " [25.  89.  33. ]\n",
      " [28.  85.  35. ]\n",
      " [29.5 85.  35.5]\n",
      " [28.  88.  36. ]\n",
      " [28.  85.  38.5]\n",
      " [28.5 93.5 32.5]\n",
      " [26.  91.  33.5]\n",
      " [30.  91.5 36.5]\n",
      " [30.5 92.5 36. ]\n",
      " [27.5 93.7 31.5]\n",
      " [31.  93.  39. ]\n",
      " [30.5 91.  33. ]\n",
      " [32.  96.  36. ]\n",
      " [26.  88.  30. ]\n",
      " [26.5 86.  31. ]\n",
      " [27.  90.5 32. ]\n",
      " [25.5 88.5 28.5]\n",
      " [25.5 89.5 33. ]\n",
      " [29.  88.5 38.5]\n",
      " [26.5 86.  34. ]\n",
      " [27.5 85.  29.5]\n",
      " [27.  88.5 30. ]\n",
      " [28.5 88.  34. ]\n",
      " [27.  87.  34. ]\n",
      " [27.5 90.  34. ]\n",
      " [25.5 80.5 30. ]\n",
      " [23.5 82.  28. ]\n",
      " [26.  83.  34. ]\n",
      " [26.  89.  33.5]\n",
      " [26.  89.  33. ]\n",
      " [25.  84.  35. ]\n",
      " [23.  81.  28. ]\n",
      " [22.  81.  28.5]\n",
      " [23.5 84.  30.5]\n",
      " [27.5 85.5 35. ]\n",
      " [26.  82.  32. ]\n",
      " [25.  81.5 29. ]\n",
      " [25.  80.5 28.5]\n",
      " [27.  92.  31.5]\n",
      " [26.  86.5 31. ]\n",
      " [26.  93.  36. ]\n",
      " [25.5 87.5 31.5]\n",
      " [29.  84.5 30.5]\n",
      " [25.5 85.  32.5]\n",
      " [26.  89.  32. ]\n",
      " [25.5 85.  31. ]\n",
      " [24.  82.  31. ]\n",
      " [29.  84.  35. ]\n",
      " [27.  88.5 31. ]\n",
      " [25.  83.  33. ]\n",
      " [25.  86.  31.5]\n",
      " [28.5 84.  32. ]\n",
      " [28.  86.5 35. ]\n",
      " [23.  81.5 27. ]\n",
      " [25.  82.5 33. ]\n",
      " [25.  89.  30. ]\n",
      " [25.  82.5 29. ]\n",
      " [28.5 89.  33.5]]\n",
      "[[ 94.1]\n",
      " [ 92.5]\n",
      " [ 94. ]\n",
      " [ 93.2]\n",
      " [ 91.5]\n",
      " [ 93.1]\n",
      " [ 95.3]\n",
      " [ 94.8]\n",
      " [ 93.4]\n",
      " [ 91.8]\n",
      " [ 93.3]\n",
      " [ 94.9]\n",
      " [ 95.1]\n",
      " [ 95.4]\n",
      " [ 92.9]\n",
      " [ 91.6]\n",
      " [ 94.7]\n",
      " [ 93.5]\n",
      " [ 94.4]\n",
      " [ 94.8]\n",
      " [ 95.9]\n",
      " [ 96.3]\n",
      " [ 92.5]\n",
      " [ 94.4]\n",
      " [ 95.8]\n",
      " [ 96. ]\n",
      " [ 90.5]\n",
      " [ 93.8]\n",
      " [ 92.8]\n",
      " [ 92.1]\n",
      " [ 92.8]\n",
      " [ 94.3]\n",
      " [ 91.4]\n",
      " [ 90.6]\n",
      " [ 94.4]\n",
      " [ 93.3]\n",
      " [ 89.3]\n",
      " [ 92.4]\n",
      " [ 84.7]\n",
      " [ 91. ]\n",
      " [ 85.3]\n",
      " [ 90. ]\n",
      " [ 90.7]\n",
      " [ 90.1]\n",
      " [ 98.6]\n",
      " [ 95.4]\n",
      " [ 91.6]\n",
      " [ 95.6]\n",
      " [ 97.6]\n",
      " [ 93.1]\n",
      " [ 96.9]\n",
      " [103.1]\n",
      " [ 99.9]\n",
      " [ 95.1]\n",
      " [ 94.5]\n",
      " [102.5]\n",
      " [ 91.3]\n",
      " [ 95.7]\n",
      " [ 91.3]\n",
      " [ 92. ]\n",
      " [ 96.9]\n",
      " [ 93.5]\n",
      " [ 90.4]\n",
      " [ 93.3]\n",
      " [ 94.1]\n",
      " [ 98. ]\n",
      " [ 91.9]\n",
      " [ 92.8]\n",
      " [ 85.9]\n",
      " [ 82.5]\n",
      " [ 88.7]\n",
      " [ 93.8]\n",
      " [ 92.4]\n",
      " [ 93.6]\n",
      " [ 86.5]\n",
      " [ 85.8]\n",
      " [ 86.7]\n",
      " [ 90.6]\n",
      " [ 86. ]\n",
      " [ 90. ]\n",
      " [ 88.4]\n",
      " [ 89.5]\n",
      " [ 88.2]\n",
      " [ 98.5]\n",
      " [ 89.6]\n",
      " [ 97.7]\n",
      " [ 92.6]\n",
      " [ 97.8]\n",
      " [ 90.7]\n",
      " [ 89.2]\n",
      " [ 91.8]\n",
      " [ 91.6]\n",
      " [ 94.8]\n",
      " [ 91. ]\n",
      " [ 93.2]\n",
      " [ 93.3]\n",
      " [ 89.5]\n",
      " [ 88.6]\n",
      " [ 92.4]\n",
      " [ 91.5]\n",
      " [ 93.6]]\n"
     ]
    }
   ],
   "source": [
    "X_best_features = possum_numerical[[\"chest\", \"totlngth\", \"belly\"]].iloc[:, :].values\n",
    "print(X_best_features)\n",
    "y = possum_numerical[[\"hdlngth\"]].iloc[:, :].values\n",
    "print(y)"
   ]
  },
  {
   "cell_type": "code",
   "execution_count": 30,
   "id": "0dbb980d",
   "metadata": {},
   "outputs": [],
   "source": [
    "X_train, X_test, y_train, y_test = train_test_split(X_best_features, y, random_state=0)"
   ]
  },
  {
   "cell_type": "code",
   "execution_count": 31,
   "id": "7c751e03",
   "metadata": {},
   "outputs": [
    {
     "data": {
      "text/plain": [
       "LinearRegression()"
      ]
     },
     "execution_count": 31,
     "metadata": {},
     "output_type": "execute_result"
    }
   ],
   "source": [
    "regressor = LinearRegression()\n",
    "regressor.fit(X_train, y_train)"
   ]
  },
  {
   "cell_type": "code",
   "execution_count": 32,
   "id": "558037c2",
   "metadata": {},
   "outputs": [],
   "source": [
    "y_pred = regressor.predict(X_test)"
   ]
  },
  {
   "cell_type": "code",
   "execution_count": 33,
   "id": "77a83d34",
   "metadata": {},
   "outputs": [
    {
     "name": "stdout",
     "output_type": "stream",
     "text": [
      "0.6307883891506672\n"
     ]
    }
   ],
   "source": [
    "print(r2_score(y_test, y_pred))"
   ]
  },
  {
   "cell_type": "markdown",
   "id": "e7e4ff86",
   "metadata": {},
   "source": [
    "#### => With this subset of features the algorithm performs much better! Maybe there's still to much correlation between skullw and the other features or the outliers in data affect the result. Maybe we get better with an other Linear Regression model...."
   ]
  },
  {
   "cell_type": "code",
   "execution_count": null,
   "id": "815076cf",
   "metadata": {},
   "outputs": [],
   "source": []
  }
 ],
 "metadata": {
  "kernelspec": {
   "display_name": "Python 3 (ipykernel)",
   "language": "python",
   "name": "python3"
  },
  "language_info": {
   "codemirror_mode": {
    "name": "ipython",
    "version": 3
   },
   "file_extension": ".py",
   "mimetype": "text/x-python",
   "name": "python",
   "nbconvert_exporter": "python",
   "pygments_lexer": "ipython3",
   "version": "3.9.7"
  }
 },
 "nbformat": 4,
 "nbformat_minor": 5
}
